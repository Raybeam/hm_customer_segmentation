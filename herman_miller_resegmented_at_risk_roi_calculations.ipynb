{
 "cells": [
  {
   "cell_type": "code",
   "execution_count": 1,
   "metadata": {},
   "outputs": [],
   "source": [
    "import matplotlib\n",
    "from datetime import datetime\n",
    "import pandas as pd\n",
    "import numpy as np\n",
    "import boto3\n",
    "import seaborn as sns\n",
    "import matplotlib.pyplot as plt\n",
    "\n",
    "import pickle as pkl\n",
    "from dotenv import load_dotenv, dotenv_values\n"
   ]
  },
  {
   "cell_type": "code",
   "execution_count": 2,
   "metadata": {},
   "outputs": [],
   "source": [
    "pd.options.display.max_columns=100\n",
    "pd.set_option('display.float_format', lambda x: '%.5f' % x)"
   ]
  },
  {
   "cell_type": "code",
   "execution_count": 3,
   "metadata": {},
   "outputs": [],
   "source": [
    "config = dotenv_values(\".env\")# take environment variables from .env.\n",
    "key = config['aws_key']\n",
    "secret = config['aws_secret']\n",
    "storage_options = { \"key\": key, \"secret\": secret}"
   ]
  },
  {
   "cell_type": "code",
   "execution_count": 4,
   "metadata": {},
   "outputs": [
    {
     "name": "stdout",
     "output_type": "stream",
     "text": [
      "time: 217 µs (started: 2021-07-13 12:22:16 -07:00)\n"
     ]
    }
   ],
   "source": [
    "%load_ext autotime"
   ]
  },
  {
   "cell_type": "code",
   "execution_count": 5,
   "metadata": {},
   "outputs": [
    {
     "name": "stdout",
     "output_type": "stream",
     "text": [
      "time: 462 µs (started: 2021-07-13 12:22:16 -07:00)\n"
     ]
    }
   ],
   "source": [
    "font = {'family' : 'normal',\n",
    "        'weight' : 'normal',\n",
    "        'size'   : 13}\n",
    "\n",
    "matplotlib.rc('font', **font)"
   ]
  },
  {
   "cell_type": "markdown",
   "metadata": {},
   "source": [
    "## Load Data"
   ]
  },
  {
   "cell_type": "code",
   "execution_count": null,
   "metadata": {},
   "outputs": [],
   "source": [
    "email = pd.read_csv('s3://hermanmiller/data/queries/2021_04_01/email_brand_send_dates.csv.gz', \n",
    "                 storage_options=storage_options,\n",
    "                   header=None)"
   ]
  },
  {
   "cell_type": "code",
   "execution_count": null,
   "metadata": {},
   "outputs": [],
   "source": [
    "email"
   ]
  },
  {
   "cell_type": "code",
   "execution_count": 7,
   "metadata": {},
   "outputs": [
    {
     "name": "stdout",
     "output_type": "stream",
     "text": [
      "time: 3.78 ms (started: 2021-07-13 12:22:37 -07:00)\n"
     ]
    }
   ],
   "source": [
    "ga = pd.read_csv('/Users/bwassie/Downloads/ga_session_v2_email.csv')\n",
    "ga.columns = ['month', 'email_transactions']"
   ]
  },
  {
   "cell_type": "code",
   "execution_count": 8,
   "metadata": {},
   "outputs": [
    {
     "name": "stdout",
     "output_type": "stream",
     "text": [
      "time: 535 ms (started: 2021-07-13 12:22:38 -07:00)\n"
     ]
    }
   ],
   "source": [
    "hm = pd.read_csv('/Users/bwassie/Downloads/hm_open_click_order.csv') #contains email sends, clicks, \n",
    "hm_email = pd.read_csv('/Users/bwassie/Downloads/hm_email_marketing.csv') #"
   ]
  },
  {
   "cell_type": "code",
   "execution_count": 9,
   "metadata": {},
   "outputs": [
    {
     "data": {
      "text/html": [
       "<div>\n",
       "<style scoped>\n",
       "    .dataframe tbody tr th:only-of-type {\n",
       "        vertical-align: middle;\n",
       "    }\n",
       "\n",
       "    .dataframe tbody tr th {\n",
       "        vertical-align: top;\n",
       "    }\n",
       "\n",
       "    .dataframe thead th {\n",
       "        text-align: right;\n",
       "    }\n",
       "</style>\n",
       "<table border=\"1\" class=\"dataframe\">\n",
       "  <thead>\n",
       "    <tr style=\"text-align: right;\">\n",
       "      <th></th>\n",
       "      <th>EMAIL</th>\n",
       "      <th>SENDS</th>\n",
       "      <th>ORDERS</th>\n",
       "      <th>CLICKS</th>\n",
       "      <th>OPENS</th>\n",
       "    </tr>\n",
       "  </thead>\n",
       "  <tbody>\n",
       "    <tr>\n",
       "      <th>0</th>\n",
       "      <td>laurabanares@hotmail.com</td>\n",
       "      <td>110</td>\n",
       "      <td>1</td>\n",
       "      <td>2</td>\n",
       "      <td>0</td>\n",
       "    </tr>\n",
       "    <tr>\n",
       "      <th>1</th>\n",
       "      <td>ashleigh.reeves@gmail.com</td>\n",
       "      <td>85</td>\n",
       "      <td>1</td>\n",
       "      <td>1</td>\n",
       "      <td>0</td>\n",
       "    </tr>\n",
       "    <tr>\n",
       "      <th>2</th>\n",
       "      <td>stellarshin0322@gmail.com</td>\n",
       "      <td>202</td>\n",
       "      <td>1</td>\n",
       "      <td>1</td>\n",
       "      <td>0</td>\n",
       "    </tr>\n",
       "    <tr>\n",
       "      <th>3</th>\n",
       "      <td>kbmacy@gmail.com</td>\n",
       "      <td>171</td>\n",
       "      <td>1</td>\n",
       "      <td>9</td>\n",
       "      <td>0</td>\n",
       "    </tr>\n",
       "    <tr>\n",
       "      <th>4</th>\n",
       "      <td>sha2002@gmail.com</td>\n",
       "      <td>188</td>\n",
       "      <td>1</td>\n",
       "      <td>11</td>\n",
       "      <td>0</td>\n",
       "    </tr>\n",
       "    <tr>\n",
       "      <th>...</th>\n",
       "      <td>...</td>\n",
       "      <td>...</td>\n",
       "      <td>...</td>\n",
       "      <td>...</td>\n",
       "      <td>...</td>\n",
       "    </tr>\n",
       "    <tr>\n",
       "      <th>17474</th>\n",
       "      <td>alex@lthm.nyc</td>\n",
       "      <td>1</td>\n",
       "      <td>1</td>\n",
       "      <td>0</td>\n",
       "      <td>0</td>\n",
       "    </tr>\n",
       "    <tr>\n",
       "      <th>17475</th>\n",
       "      <td>pmcs8@comcast.net</td>\n",
       "      <td>47</td>\n",
       "      <td>1</td>\n",
       "      <td>1</td>\n",
       "      <td>0</td>\n",
       "    </tr>\n",
       "    <tr>\n",
       "      <th>17476</th>\n",
       "      <td>saltedrim@gmail.com</td>\n",
       "      <td>7</td>\n",
       "      <td>1</td>\n",
       "      <td>1</td>\n",
       "      <td>0</td>\n",
       "    </tr>\n",
       "    <tr>\n",
       "      <th>17477</th>\n",
       "      <td>jassymonet@yahoo.com</td>\n",
       "      <td>6</td>\n",
       "      <td>1</td>\n",
       "      <td>0</td>\n",
       "      <td>0</td>\n",
       "    </tr>\n",
       "    <tr>\n",
       "      <th>17478</th>\n",
       "      <td>alena.king@glossier.com</td>\n",
       "      <td>1</td>\n",
       "      <td>1</td>\n",
       "      <td>0</td>\n",
       "      <td>0</td>\n",
       "    </tr>\n",
       "  </tbody>\n",
       "</table>\n",
       "<p>17479 rows × 5 columns</p>\n",
       "</div>"
      ],
      "text/plain": [
       "                           EMAIL  SENDS  ORDERS  CLICKS  OPENS\n",
       "0       laurabanares@hotmail.com    110       1       2      0\n",
       "1      ashleigh.reeves@gmail.com     85       1       1      0\n",
       "2      stellarshin0322@gmail.com    202       1       1      0\n",
       "3               kbmacy@gmail.com    171       1       9      0\n",
       "4              sha2002@gmail.com    188       1      11      0\n",
       "...                          ...    ...     ...     ...    ...\n",
       "17474              alex@lthm.nyc      1       1       0      0\n",
       "17475          pmcs8@comcast.net     47       1       1      0\n",
       "17476        saltedrim@gmail.com      7       1       1      0\n",
       "17477       jassymonet@yahoo.com      6       1       0      0\n",
       "17478    alena.king@glossier.com      1       1       0      0\n",
       "\n",
       "[17479 rows x 5 columns]"
      ]
     },
     "execution_count": 9,
     "metadata": {},
     "output_type": "execute_result"
    },
    {
     "name": "stdout",
     "output_type": "stream",
     "text": [
      "time: 15.2 ms (started: 2021-07-13 12:22:38 -07:00)\n"
     ]
    }
   ],
   "source": [
    "hm"
   ]
  },
  {
   "cell_type": "code",
   "execution_count": 10,
   "metadata": {},
   "outputs": [
    {
     "data": {
      "text/plain": [
       "count   17479.00000\n",
       "mean        0.00000\n",
       "std         0.00000\n",
       "min         0.00000\n",
       "25%         0.00000\n",
       "50%         0.00000\n",
       "75%         0.00000\n",
       "max         0.00000\n",
       "Name: OPENS, dtype: float64"
      ]
     },
     "execution_count": 10,
     "metadata": {},
     "output_type": "execute_result"
    },
    {
     "name": "stdout",
     "output_type": "stream",
     "text": [
      "time: 5.34 ms (started: 2021-07-13 12:22:38 -07:00)\n"
     ]
    }
   ],
   "source": [
    "# opens are always 0 - seems to be an error with the query but opens aren't used in calculations so ignoring\n",
    "hm['OPENS'].describe()"
   ]
  },
  {
   "cell_type": "code",
   "execution_count": 11,
   "metadata": {},
   "outputs": [
    {
     "data": {
      "text/html": [
       "<div>\n",
       "<style scoped>\n",
       "    .dataframe tbody tr th:only-of-type {\n",
       "        vertical-align: middle;\n",
       "    }\n",
       "\n",
       "    .dataframe tbody tr th {\n",
       "        vertical-align: top;\n",
       "    }\n",
       "\n",
       "    .dataframe thead th {\n",
       "        text-align: right;\n",
       "    }\n",
       "</style>\n",
       "<table border=\"1\" class=\"dataframe\">\n",
       "  <thead>\n",
       "    <tr style=\"text-align: right;\">\n",
       "      <th></th>\n",
       "      <th>EMAIL</th>\n",
       "      <th>NUM_SENDS</th>\n",
       "      <th>NUM_CLICKS</th>\n",
       "      <th>NUM_OPENS</th>\n",
       "    </tr>\n",
       "  </thead>\n",
       "  <tbody>\n",
       "    <tr>\n",
       "      <th>0</th>\n",
       "      <td>tparker@mgpartnersinc.com</td>\n",
       "      <td>175</td>\n",
       "      <td>3</td>\n",
       "      <td>0</td>\n",
       "    </tr>\n",
       "    <tr>\n",
       "      <th>1</th>\n",
       "      <td>jane1@esneuro.net</td>\n",
       "      <td>197</td>\n",
       "      <td>3</td>\n",
       "      <td>0</td>\n",
       "    </tr>\n",
       "    <tr>\n",
       "      <th>2</th>\n",
       "      <td>susamcm@gmail.com</td>\n",
       "      <td>198</td>\n",
       "      <td>2</td>\n",
       "      <td>0</td>\n",
       "    </tr>\n",
       "    <tr>\n",
       "      <th>3</th>\n",
       "      <td>jessica.caruh@gmail.com</td>\n",
       "      <td>162</td>\n",
       "      <td>0</td>\n",
       "      <td>0</td>\n",
       "    </tr>\n",
       "    <tr>\n",
       "      <th>4</th>\n",
       "      <td>firshad@tulane.edu</td>\n",
       "      <td>28</td>\n",
       "      <td>3</td>\n",
       "      <td>0</td>\n",
       "    </tr>\n",
       "    <tr>\n",
       "      <th>...</th>\n",
       "      <td>...</td>\n",
       "      <td>...</td>\n",
       "      <td>...</td>\n",
       "      <td>...</td>\n",
       "    </tr>\n",
       "    <tr>\n",
       "      <th>1008101</th>\n",
       "      <td>sm22ballet@yahoo.com</td>\n",
       "      <td>1</td>\n",
       "      <td>0</td>\n",
       "      <td>0</td>\n",
       "    </tr>\n",
       "    <tr>\n",
       "      <th>1008102</th>\n",
       "      <td>carin416@gmail.com</td>\n",
       "      <td>1</td>\n",
       "      <td>0</td>\n",
       "      <td>0</td>\n",
       "    </tr>\n",
       "    <tr>\n",
       "      <th>1008103</th>\n",
       "      <td>louis@landrydesign.net</td>\n",
       "      <td>1</td>\n",
       "      <td>0</td>\n",
       "      <td>0</td>\n",
       "    </tr>\n",
       "    <tr>\n",
       "      <th>1008104</th>\n",
       "      <td>brooks.niqua@gmail.com</td>\n",
       "      <td>1</td>\n",
       "      <td>0</td>\n",
       "      <td>0</td>\n",
       "    </tr>\n",
       "    <tr>\n",
       "      <th>1008105</th>\n",
       "      <td>tinakukielski@gmail.com</td>\n",
       "      <td>1</td>\n",
       "      <td>0</td>\n",
       "      <td>0</td>\n",
       "    </tr>\n",
       "  </tbody>\n",
       "</table>\n",
       "<p>1008106 rows × 4 columns</p>\n",
       "</div>"
      ],
      "text/plain": [
       "                             EMAIL  NUM_SENDS  NUM_CLICKS  NUM_OPENS\n",
       "0        tparker@mgpartnersinc.com        175           3          0\n",
       "1                jane1@esneuro.net        197           3          0\n",
       "2                susamcm@gmail.com        198           2          0\n",
       "3          jessica.caruh@gmail.com        162           0          0\n",
       "4               firshad@tulane.edu         28           3          0\n",
       "...                            ...        ...         ...        ...\n",
       "1008101       sm22ballet@yahoo.com          1           0          0\n",
       "1008102         carin416@gmail.com          1           0          0\n",
       "1008103     louis@landrydesign.net          1           0          0\n",
       "1008104     brooks.niqua@gmail.com          1           0          0\n",
       "1008105    tinakukielski@gmail.com          1           0          0\n",
       "\n",
       "[1008106 rows x 4 columns]"
      ]
     },
     "execution_count": 11,
     "metadata": {},
     "output_type": "execute_result"
    },
    {
     "name": "stdout",
     "output_type": "stream",
     "text": [
      "time: 8.39 ms (started: 2021-07-13 12:22:39 -07:00)\n"
     ]
    }
   ],
   "source": [
    "# this is for all customers\n",
    "hm_email"
   ]
  },
  {
   "cell_type": "code",
   "execution_count": 12,
   "metadata": {
    "scrolled": true
   },
   "outputs": [
    {
     "name": "stderr",
     "output_type": "stream",
     "text": [
      "findfont: Font family ['normal'] not found. Falling back to DejaVu Sans.\n"
     ]
    },
    {
     "data": {
      "image/png": "[encoded data removed]",
      "text/plain": [
       "<Figure size 432x288 with 1 Axes>"
      ]
     },
     "metadata": {},
     "output_type": "display_data"
    },
    {
     "name": "stdout",
     "output_type": "stream",
     "text": [
      "time: 267 ms (started: 2021-07-13 12:22:39 -07:00)\n"
     ]
    }
   ],
   "source": [
    "# distribution of transactions from GA by month - just checking if there are any weird patterns\n",
    "fig, ax = plt.subplots()\n",
    "ga.sort_values('month').plot.bar(x='month', y='email_transactions', ax=ax)\n",
    "plt.xticks(rotation=45, ha='right')\n",
    "fig.patch.set_facecolor('white')\n",
    "plt.show()\n"
   ]
  },
  {
   "cell_type": "code",
   "execution_count": 13,
   "metadata": {},
   "outputs": [
    {
     "name": "stdout",
     "output_type": "stream",
     "text": [
      "time: 2.1 ms (started: 2021-07-13 12:22:41 -07:00)\n"
     ]
    }
   ],
   "source": [
    "# load clusters from re-segmented model\n",
    "clusters = pkl.load(open('clusters.pkl', 'rb'))"
   ]
  },
  {
   "cell_type": "code",
   "execution_count": 14,
   "metadata": {},
   "outputs": [
    {
     "name": "stdout",
     "output_type": "stream",
     "text": [
      "time: 3.58 s (started: 2021-07-13 12:22:41 -07:00)\n"
     ]
    }
   ],
   "source": [
    "#load pre-covid RFM segmentation dataset\n",
    "rfm_pre_covid = pd.read_csv('rfm_pre_covid.csv', index_col=0)\n",
    "rfm_pre_covid['segments'] = clusters\n",
    "rfm_pre_covid['last_order_date'] = pd.to_datetime(rfm_pre_covid['last_order_date'])\n",
    "rfm_pre_covid['first_order_date'] = pd.to_datetime(rfm_pre_covid['first_order_date'])"
   ]
  },
  {
   "cell_type": "code",
   "execution_count": 15,
   "metadata": {},
   "outputs": [
    {
     "name": "stdout",
     "output_type": "stream",
     "text": [
      "0\n"
     ]
    },
    {
     "data": {
      "image/png": "[encoded data removed]",
      "text/plain": [
       "<Figure size 432x288 with 1 Axes>"
      ]
     },
     "metadata": {
      "needs_background": "light"
     },
     "output_type": "display_data"
    },
    {
     "name": "stdout",
     "output_type": "stream",
     "text": [
      "1\n"
     ]
    },
    {
     "data": {
      "image/png": "[encoded data removed]",
      "text/plain": [
       "<Figure size 432x288 with 1 Axes>"
      ]
     },
     "metadata": {
      "needs_background": "light"
     },
     "output_type": "display_data"
    },
    {
     "name": "stdout",
     "output_type": "stream",
     "text": [
      "2\n"
     ]
    },
    {
     "data": {
      "image/png": "[encoded data removed]",
      "text/plain": [
       "<Figure size 432x288 with 1 Axes>"
      ]
     },
     "metadata": {
      "needs_background": "light"
     },
     "output_type": "display_data"
    },
    {
     "name": "stdout",
     "output_type": "stream",
     "text": [
      "3\n"
     ]
    },
    {
     "data": {
      "image/png": "[encoded data removed]",
      "text/plain": [
       "<Figure size 432x288 with 1 Axes>"
      ]
     },
     "metadata": {
      "needs_background": "light"
     },
     "output_type": "display_data"
    },
    {
     "name": "stdout",
     "output_type": "stream",
     "text": [
      "4\n"
     ]
    },
    {
     "data": {
      "image/png": "[encoded data removed]",
      "text/plain": [
       "<Figure size 432x288 with 1 Axes>"
      ]
     },
     "metadata": {
      "needs_background": "light"
     },
     "output_type": "display_data"
    },
    {
     "name": "stdout",
     "output_type": "stream",
     "text": [
      "5\n"
     ]
    },
    {
     "data": {
      "image/png": "[encoded data removed]",
      "text/plain": [
       "<Figure size 432x288 with 1 Axes>"
      ]
     },
     "metadata": {
      "needs_background": "light"
     },
     "output_type": "display_data"
    },
    {
     "name": "stdout",
     "output_type": "stream",
     "text": [
      "6\n"
     ]
    },
    {
     "data": {
      "image/png": "[encoded data removed]",
      "text/plain": [
       "<Figure size 432x288 with 1 Axes>"
      ]
     },
     "metadata": {
      "needs_background": "light"
     },
     "output_type": "display_data"
    },
    {
     "name": "stdout",
     "output_type": "stream",
     "text": [
      "7\n"
     ]
    },
    {
     "data": {
      "image/png": "[encoded data removed]",
      "text/plain": [
       "<Figure size 432x288 with 1 Axes>"
      ]
     },
     "metadata": {
      "needs_background": "light"
     },
     "output_type": "display_data"
    },
    {
     "name": "stdout",
     "output_type": "stream",
     "text": [
      "8\n"
     ]
    },
    {
     "data": {
      "image/png": "[encoded data removed]",
      "text/plain": [
       "<Figure size 432x288 with 1 Axes>"
      ]
     },
     "metadata": {
      "needs_background": "light"
     },
     "output_type": "display_data"
    },
    {
     "name": "stdout",
     "output_type": "stream",
     "text": [
      "9\n"
     ]
    },
    {
     "data": {
      "image/png": "[encoded data removed]",
      "text/plain": [
       "<Figure size 432x288 with 1 Axes>"
      ]
     },
     "metadata": {
      "needs_background": "light"
     },
     "output_type": "display_data"
    },
    {
     "name": "stdout",
     "output_type": "stream",
     "text": [
      "10\n"
     ]
    },
    {
     "data": {
      "image/png": "[encoded data removed]",
      "text/plain": [
       "<Figure size 432x288 with 1 Axes>"
      ]
     },
     "metadata": {
      "needs_background": "light"
     },
     "output_type": "display_data"
    },
    {
     "name": "stdout",
     "output_type": "stream",
     "text": [
      "11\n"
     ]
    },
    {
     "data": {
      "image/png": "[encoded data removed]",
      "text/plain": [
       "<Figure size 432x288 with 1 Axes>"
      ]
     },
     "metadata": {
      "needs_background": "light"
     },
     "output_type": "display_data"
    },
    {
     "name": "stdout",
     "output_type": "stream",
     "text": [
      "12\n"
     ]
    },
    {
     "data": {
      "image/png": "[encoded data removed]",
      "text/plain": [
       "<Figure size 432x288 with 1 Axes>"
      ]
     },
     "metadata": {
      "needs_background": "light"
     },
     "output_type": "display_data"
    },
    {
     "name": "stdout",
     "output_type": "stream",
     "text": [
      "time: 3.88 s (started: 2021-07-13 12:22:45 -07:00)\n"
     ]
    }
   ],
   "source": [
    "for name, df in rfm_pre_covid.groupby('segments'):\n",
    "    print(name)\n",
    "    sns.histplot(df['last_order_date'])\n",
    "    plt.show()"
   ]
  },
  {
   "cell_type": "code",
   "execution_count": 16,
   "metadata": {},
   "outputs": [
    {
     "name": "stdout",
     "output_type": "stream",
     "text": [
      "time: 662 ms (started: 2021-07-13 12:22:49 -07:00)\n"
     ]
    }
   ],
   "source": [
    "rfm_pre_covid['clean_emails'] =  rfm_pre_covid['nt_emails'].str.split(',').str[0].dropna()"
   ]
  },
  {
   "cell_type": "code",
   "execution_count": null,
   "metadata": {},
   "outputs": [],
   "source": [
    "# segment 8 is the re-segmented at-risk cluster\n",
    "rfm_pre_covid[rfm_pre_covid['segments']==8][['clean_emails', 'last_order_date']\n",
    "                                            ].dropna().to_csv('at_risk_emails_last_order_date.csv',\n",
    "                                                             index=False)"
   ]
  },
  {
   "cell_type": "code",
   "execution_count": 17,
   "metadata": {},
   "outputs": [
    {
     "data": {
      "text/plain": [
       "((45622, 95), 5004)"
      ]
     },
     "execution_count": 17,
     "metadata": {},
     "output_type": "execute_result"
    },
    {
     "name": "stdout",
     "output_type": "stream",
     "text": [
      "time: 156 ms (started: 2021-07-13 12:22:50 -07:00)\n"
     ]
    }
   ],
   "source": [
    "#checking null emails from rfm data\n",
    "(rfm_pre_covid[rfm_pre_covid['segments']==8].shape, \n",
    "    rfm_pre_covid[rfm_pre_covid['segments']==8]['nt_emails'].isna().sum())"
   ]
  },
  {
   "cell_type": "code",
   "execution_count": 18,
   "metadata": {},
   "outputs": [
    {
     "data": {
      "text/plain": [
       "11    198492\n",
       "0     110644\n",
       "9      49250\n",
       "8      45622\n",
       "12      7833\n",
       "10         6\n",
       "7          4\n",
       "2          2\n",
       "1          1\n",
       "3          1\n",
       "4          1\n",
       "5          1\n",
       "6          1\n",
       "Name: segments, dtype: int64"
      ]
     },
     "execution_count": 18,
     "metadata": {},
     "output_type": "execute_result"
    },
    {
     "name": "stdout",
     "output_type": "stream",
     "text": [
      "time: 6.26 ms (started: 2021-07-13 12:22:51 -07:00)\n"
     ]
    }
   ],
   "source": [
    "#some segments have very small # of customers\n",
    "rfm_pre_covid['segments'].value_counts()"
   ]
  },
  {
   "cell_type": "code",
   "execution_count": 19,
   "metadata": {},
   "outputs": [
    {
     "data": {
      "text/plain": [
       "1835"
      ]
     },
     "execution_count": 19,
     "metadata": {},
     "output_type": "execute_result"
    },
    {
     "name": "stdout",
     "output_type": "stream",
     "text": [
      "time: 43.4 ms (started: 2021-07-13 12:22:52 -07:00)\n"
     ]
    }
   ],
   "source": [
    "rfm_pre_covid[rfm_pre_covid['segments']==8]['nt_emails'].isin(hm['EMAIL']).sum()"
   ]
  },
  {
   "cell_type": "code",
   "execution_count": 20,
   "metadata": {},
   "outputs": [
    {
     "name": "stdout",
     "output_type": "stream",
     "text": [
      "time: 38.9 ms (started: 2021-07-13 12:22:53 -07:00)\n"
     ]
    }
   ],
   "source": [
    "hm_at_risk = hm[hm['EMAIL'].isin(rfm_pre_covid[rfm_pre_covid['segments']==8]['nt_emails'])]"
   ]
  },
  {
   "cell_type": "markdown",
   "metadata": {},
   "source": [
    "## Revenue Calculations from a single Campaign for Resegmented At-Risk Customers"
   ]
  },
  {
   "cell_type": "code",
   "execution_count": 21,
   "metadata": {},
   "outputs": [
    {
     "data": {
      "text/plain": [
       "(0.011162081976200458, 0.1332851985559567)"
      ]
     },
     "execution_count": 21,
     "metadata": {},
     "output_type": "execute_result"
    },
    {
     "name": "stdout",
     "output_type": "stream",
     "text": [
      "time: 2.57 ms (started: 2021-07-13 12:22:54 -07:00)\n"
     ]
    }
   ],
   "source": [
    "#order rate from send & order rate from click for at risk\n",
    "hm_at_risk['ORDERS'].sum()/hm_at_risk['SENDS'].sum(), hm_at_risk['ORDERS'].sum()/hm_at_risk['CLICKS'].sum()"
   ]
  },
  {
   "cell_type": "code",
   "execution_count": 22,
   "metadata": {},
   "outputs": [
    {
     "data": {
      "text/plain": [
       "(0.01460040267330332, 0.19415805962795282)"
      ]
     },
     "execution_count": 22,
     "metadata": {},
     "output_type": "execute_result"
    },
    {
     "name": "stdout",
     "output_type": "stream",
     "text": [
      "time: 2.68 ms (started: 2021-07-13 12:22:55 -07:00)\n"
     ]
    }
   ],
   "source": [
    "#order rate from send & order rate from click for general population\n",
    "hm['ORDERS'].sum()/hm['SENDS'].sum(), hm['ORDERS'].sum()/hm['CLICKS'].sum()"
   ]
  },
  {
   "cell_type": "code",
   "execution_count": 23,
   "metadata": {},
   "outputs": [
    {
     "data": {
      "text/plain": [
       "(20885, 1430440, 107567, 17479)"
      ]
     },
     "execution_count": 23,
     "metadata": {},
     "output_type": "execute_result"
    },
    {
     "name": "stdout",
     "output_type": "stream",
     "text": [
      "time: 2.1 ms (started: 2021-07-13 12:23:00 -07:00)\n"
     ]
    }
   ],
   "source": [
    "hm['ORDERS'].sum(), hm['SENDS'].sum(), hm['CLICKS'].sum(), hm.shape[0]"
   ]
  },
  {
   "cell_type": "code",
   "execution_count": 24,
   "metadata": {},
   "outputs": [
    {
     "name": "stdout",
     "output_type": "stream",
     "text": [
      "time: 159 ms (started: 2021-07-13 12:23:00 -07:00)\n"
     ]
    }
   ],
   "source": [
    "hm_email_at_risk =  hm_email[hm_email['EMAIL'].isin(rfm_pre_covid[rfm_pre_covid['segments']==8]['nt_emails'])]"
   ]
  },
  {
   "cell_type": "code",
   "execution_count": 26,
   "metadata": {},
   "outputs": [
    {
     "name": "stdout",
     "output_type": "stream",
     "text": [
      "time: 17.5 ms (started: 2021-07-13 12:23:16 -07:00)\n"
     ]
    }
   ],
   "source": [
    "hm_email_at_risk_merged = hm_email_at_risk.merge(hm, how='left', on='EMAIL')"
   ]
  },
  {
   "cell_type": "code",
   "execution_count": 27,
   "metadata": {},
   "outputs": [
    {
     "data": {
      "text/html": [
       "<div>\n",
       "<style scoped>\n",
       "    .dataframe tbody tr th:only-of-type {\n",
       "        vertical-align: middle;\n",
       "    }\n",
       "\n",
       "    .dataframe tbody tr th {\n",
       "        vertical-align: top;\n",
       "    }\n",
       "\n",
       "    .dataframe thead th {\n",
       "        text-align: right;\n",
       "    }\n",
       "</style>\n",
       "<table border=\"1\" class=\"dataframe\">\n",
       "  <thead>\n",
       "    <tr style=\"text-align: right;\">\n",
       "      <th></th>\n",
       "      <th>EMAIL</th>\n",
       "      <th>NUM_SENDS</th>\n",
       "      <th>NUM_CLICKS</th>\n",
       "      <th>NUM_OPENS</th>\n",
       "      <th>SENDS</th>\n",
       "      <th>ORDERS</th>\n",
       "      <th>CLICKS</th>\n",
       "      <th>OPENS</th>\n",
       "    </tr>\n",
       "  </thead>\n",
       "  <tbody>\n",
       "    <tr>\n",
       "      <th>0</th>\n",
       "      <td>jacastaneda@me.com</td>\n",
       "      <td>241</td>\n",
       "      <td>19</td>\n",
       "      <td>0</td>\n",
       "      <td>NaN</td>\n",
       "      <td>NaN</td>\n",
       "      <td>NaN</td>\n",
       "      <td>NaN</td>\n",
       "    </tr>\n",
       "    <tr>\n",
       "      <th>1</th>\n",
       "      <td>robgaertner@mac.com</td>\n",
       "      <td>63</td>\n",
       "      <td>4</td>\n",
       "      <td>0</td>\n",
       "      <td>NaN</td>\n",
       "      <td>NaN</td>\n",
       "      <td>NaN</td>\n",
       "      <td>NaN</td>\n",
       "    </tr>\n",
       "    <tr>\n",
       "      <th>2</th>\n",
       "      <td>la1060@hotmail.com</td>\n",
       "      <td>187</td>\n",
       "      <td>3</td>\n",
       "      <td>0</td>\n",
       "      <td>NaN</td>\n",
       "      <td>NaN</td>\n",
       "      <td>NaN</td>\n",
       "      <td>NaN</td>\n",
       "    </tr>\n",
       "    <tr>\n",
       "      <th>3</th>\n",
       "      <td>honeyberk@gmail.com</td>\n",
       "      <td>333</td>\n",
       "      <td>17</td>\n",
       "      <td>0</td>\n",
       "      <td>325.00000</td>\n",
       "      <td>1.00000</td>\n",
       "      <td>17.00000</td>\n",
       "      <td>0.00000</td>\n",
       "    </tr>\n",
       "    <tr>\n",
       "      <th>4</th>\n",
       "      <td>chrismulhern84@gmail.com</td>\n",
       "      <td>348</td>\n",
       "      <td>5</td>\n",
       "      <td>0</td>\n",
       "      <td>338.00000</td>\n",
       "      <td>1.00000</td>\n",
       "      <td>5.00000</td>\n",
       "      <td>0.00000</td>\n",
       "    </tr>\n",
       "    <tr>\n",
       "      <th>...</th>\n",
       "      <td>...</td>\n",
       "      <td>...</td>\n",
       "      <td>...</td>\n",
       "      <td>...</td>\n",
       "      <td>...</td>\n",
       "      <td>...</td>\n",
       "      <td>...</td>\n",
       "      <td>...</td>\n",
       "    </tr>\n",
       "    <tr>\n",
       "      <th>22644</th>\n",
       "      <td>cmacfoto@aol.com</td>\n",
       "      <td>1</td>\n",
       "      <td>0</td>\n",
       "      <td>0</td>\n",
       "      <td>NaN</td>\n",
       "      <td>NaN</td>\n",
       "      <td>NaN</td>\n",
       "      <td>NaN</td>\n",
       "    </tr>\n",
       "    <tr>\n",
       "      <th>22645</th>\n",
       "      <td>heather@wright-arch.com</td>\n",
       "      <td>1</td>\n",
       "      <td>0</td>\n",
       "      <td>0</td>\n",
       "      <td>NaN</td>\n",
       "      <td>NaN</td>\n",
       "      <td>NaN</td>\n",
       "      <td>NaN</td>\n",
       "    </tr>\n",
       "    <tr>\n",
       "      <th>22646</th>\n",
       "      <td>john.mielke@hq.dhs.gov</td>\n",
       "      <td>1</td>\n",
       "      <td>0</td>\n",
       "      <td>0</td>\n",
       "      <td>NaN</td>\n",
       "      <td>NaN</td>\n",
       "      <td>NaN</td>\n",
       "      <td>NaN</td>\n",
       "    </tr>\n",
       "    <tr>\n",
       "      <th>22647</th>\n",
       "      <td>dan@mjsdesigngroup.com</td>\n",
       "      <td>1</td>\n",
       "      <td>0</td>\n",
       "      <td>0</td>\n",
       "      <td>NaN</td>\n",
       "      <td>NaN</td>\n",
       "      <td>NaN</td>\n",
       "      <td>NaN</td>\n",
       "    </tr>\n",
       "    <tr>\n",
       "      <th>22648</th>\n",
       "      <td>mdadesign1@aol.com</td>\n",
       "      <td>1</td>\n",
       "      <td>0</td>\n",
       "      <td>0</td>\n",
       "      <td>NaN</td>\n",
       "      <td>NaN</td>\n",
       "      <td>NaN</td>\n",
       "      <td>NaN</td>\n",
       "    </tr>\n",
       "  </tbody>\n",
       "</table>\n",
       "<p>22649 rows × 8 columns</p>\n",
       "</div>"
      ],
      "text/plain": [
       "                          EMAIL  NUM_SENDS  NUM_CLICKS  NUM_OPENS     SENDS  \\\n",
       "0            jacastaneda@me.com        241          19          0       NaN   \n",
       "1           robgaertner@mac.com         63           4          0       NaN   \n",
       "2            la1060@hotmail.com        187           3          0       NaN   \n",
       "3           honeyberk@gmail.com        333          17          0 325.00000   \n",
       "4      chrismulhern84@gmail.com        348           5          0 338.00000   \n",
       "...                         ...        ...         ...        ...       ...   \n",
       "22644          cmacfoto@aol.com          1           0          0       NaN   \n",
       "22645   heather@wright-arch.com          1           0          0       NaN   \n",
       "22646    john.mielke@hq.dhs.gov          1           0          0       NaN   \n",
       "22647    dan@mjsdesigngroup.com          1           0          0       NaN   \n",
       "22648        mdadesign1@aol.com          1           0          0       NaN   \n",
       "\n",
       "       ORDERS   CLICKS   OPENS  \n",
       "0         NaN      NaN     NaN  \n",
       "1         NaN      NaN     NaN  \n",
       "2         NaN      NaN     NaN  \n",
       "3     1.00000 17.00000 0.00000  \n",
       "4     1.00000  5.00000 0.00000  \n",
       "...       ...      ...     ...  \n",
       "22644     NaN      NaN     NaN  \n",
       "22645     NaN      NaN     NaN  \n",
       "22646     NaN      NaN     NaN  \n",
       "22647     NaN      NaN     NaN  \n",
       "22648     NaN      NaN     NaN  \n",
       "\n",
       "[22649 rows x 8 columns]"
      ]
     },
     "execution_count": 27,
     "metadata": {},
     "output_type": "execute_result"
    },
    {
     "name": "stdout",
     "output_type": "stream",
     "text": [
      "time: 11.7 ms (started: 2021-07-13 12:23:17 -07:00)\n"
     ]
    }
   ],
   "source": [
    "hm_email_at_risk_merged"
   ]
  },
  {
   "cell_type": "code",
   "execution_count": 28,
   "metadata": {},
   "outputs": [
    {
     "data": {
      "text/plain": [
       "22649"
      ]
     },
     "execution_count": 28,
     "metadata": {},
     "output_type": "execute_result"
    },
    {
     "name": "stdout",
     "output_type": "stream",
     "text": [
      "time: 11.7 ms (started: 2021-07-13 12:23:17 -07:00)\n"
     ]
    }
   ],
   "source": [
    "hm_email_at_risk_merged['EMAIL'].nunique()"
   ]
  },
  {
   "cell_type": "code",
   "execution_count": 53,
   "metadata": {},
   "outputs": [
    {
     "data": {
      "text/plain": [
       "(1832357,\n",
       " 2769.0,\n",
       " 80123,\n",
       " 0.0015111684022272953,\n",
       " 0.034559364976348865,\n",
       " 0.04372674102262823)"
      ]
     },
     "execution_count": 53,
     "metadata": {},
     "output_type": "execute_result"
    },
    {
     "name": "stdout",
     "output_type": "stream",
     "text": [
      "time: 4.18 ms (started: 2021-06-14 09:10:16 -07:00)\n"
     ]
    }
   ],
   "source": [
    "(hm_email_at_risk_merged['NUM_SENDS'].sum(), hm_email_at_risk_merged['ORDERS'].sum(),\n",
    " hm_email_at_risk_merged['NUM_CLICKS'].sum(),\n",
    "hm_email_at_risk_merged['ORDERS'].sum()/hm_email_at_risk_merged['NUM_SENDS'].sum(),\n",
    "hm_email_at_risk_merged['ORDERS'].sum()/hm_email_at_risk_merged['NUM_CLICKS'].sum(),\n",
    "hm_email_at_risk_merged['NUM_CLICKS'].sum()/hm_email_at_risk_merged['NUM_SENDS'].sum())"
   ]
  },
  {
   "cell_type": "markdown",
   "metadata": {},
   "source": [
    "We have a .035 order rate from click for the resegmented at-risk cluster and a click rate from send of .047 (rounded to .05)"
   ]
  },
  {
   "cell_type": "code",
   "execution_count": 38,
   "metadata": {},
   "outputs": [
    {
     "data": {
      "text/plain": [
       "20647"
      ]
     },
     "execution_count": 38,
     "metadata": {},
     "output_type": "execute_result"
    },
    {
     "name": "stdout",
     "output_type": "stream",
     "text": [
      "time: 28.5 ms (started: 2021-07-13 12:25:51 -07:00)\n"
     ]
    }
   ],
   "source": [
    "rfm_pre_covid[(rfm_pre_covid['segments']==8) &\n",
    "              (rfm_pre_covid['last_order_date']<datetime.strptime('2020-03-15', '%Y-%m-%d')) &\n",
    "              (rfm_pre_covid['last_order_date']>datetime.strptime('2018-01-01', '%Y-%m-%d'))].shape[0]"
   ]
  },
  {
   "cell_type": "markdown",
   "metadata": {},
   "source": [
    "There are ~20.5K customers in the resegmented at risk category that placed an order before covid (March 15, 2020) and also placed an order after 2018. This will be the audience size of our hypothetical campaign."
   ]
  },
  {
   "cell_type": "code",
   "execution_count": 49,
   "metadata": {},
   "outputs": [
    {
     "data": {
      "text/plain": [
       "1771"
      ]
     },
     "execution_count": 49,
     "metadata": {},
     "output_type": "execute_result"
    },
    {
     "name": "stdout",
     "output_type": "stream",
     "text": [
      "time: 2.4 ms (started: 2021-06-14 09:05:29 -07:00)\n"
     ]
    }
   ],
   "source": [
    "(~hm_email_at_risk_merged['ORDERS'].isna()).sum()"
   ]
  },
  {
   "cell_type": "markdown",
   "metadata": {},
   "source": [
    "Only 1771 of the ~46K total customers in the at-risk cateogry have actually placed an order from an email. Our calculations are likely based upon this small sample"
   ]
  },
  {
   "cell_type": "code",
   "execution_count": null,
   "metadata": {},
   "outputs": [],
   "source": []
  }
 ],
 "metadata": {
  "kernelspec": {
   "display_name": "Python 3",
   "language": "python",
   "name": "python3"
  },
  "language_info": {
   "codemirror_mode": {
    "name": "ipython",
    "version": 3
   },
   "file_extension": ".py",
   "mimetype": "text/x-python",
   "name": "python",
   "nbconvert_exporter": "python",
   "pygments_lexer": "ipython3",
   "version": "3.8.2"
  }
 },
 "nbformat": 4,
 "nbformat_minor": 4
}
