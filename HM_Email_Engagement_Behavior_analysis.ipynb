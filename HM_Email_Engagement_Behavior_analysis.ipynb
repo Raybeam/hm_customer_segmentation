{
 "cells": [
  {
   "cell_type": "code",
   "execution_count": 2,
   "metadata": {},
   "outputs": [],
   "source": [
    "import matplotlib\n",
    "from datetime import datetime, timedelta\n",
    "from math import sin, cos, pi\n",
    "import pandas as pd\n",
    "import numpy as np\n",
    "import boto3\n",
    "import seaborn as sns\n",
    "import matplotlib.pyplot as plt\n",
    "\n",
    "from sklearn.preprocessing import RobustScaler\n",
    "from sklearn.mixture import GaussianMixture\n",
    "from sklearn.decomposition import PCA\n",
    "from sklearn.metrics import silhouette_score\n",
    "\n",
    "import pickle as pkl"
   ]
  },
  {
   "cell_type": "code",
   "execution_count": 3,
   "metadata": {},
   "outputs": [],
   "source": [
    "pd.options.display.max_columns=100\n",
    "pd.set_option('display.float_format', lambda x: '%.5f' % x)"
   ]
  },
  {
   "cell_type": "code",
   "execution_count": 4,
   "metadata": {},
   "outputs": [
    {
     "name": "stdout",
     "output_type": "stream",
     "text": [
      "time: 173 µs (started: 2021-04-21 14:17:09 -07:00)\n"
     ]
    }
   ],
   "source": [
    "%load_ext autotime"
   ]
  },
  {
   "cell_type": "markdown",
   "metadata": {},
   "source": [
    "# Email Enagement Behavior Analysis\n"
   ]
  },
  {
   "cell_type": "markdown",
   "metadata": {},
   "source": [
    "## Load & Format Data"
   ]
  },
  {
   "cell_type": "code",
   "execution_count": 5,
   "metadata": {},
   "outputs": [
    {
     "name": "stdout",
     "output_type": "stream",
     "text": [
      "time: 554 µs (started: 2021-04-21 14:17:10 -07:00)\n"
     ]
    }
   ],
   "source": [
    "email_engagement_cols = ['email', 'brand', 'envelope_no', 'category', 'first_send_date', \n",
    "                         'first_engage_date', 'num_opens', 'diff']\n",
    "\n",
    "email_open_cols = ['email', 'num_opens', 'num_sends', 'num_emails', 'total_open_rate', 'unique_open_rate']\n",
    "order_columns = ['entity_id', 'trandate', 'min_trandate', 'max_trandate', \n",
    "                 'nt_emails', 'c_emails', 'revenue', 'num_orders']\n",
    "rfm_brand_columns = ['entity_id', 'channel', 'nt_emails', 'c_emails', 'shipaddress', \n",
    "                     'first_order', 'last_order', 'num_orders', 'total_revenue', 'aov', \n",
    "                     'total_items_bought', 'num_brands_purchased', 'num_hm_orders', 'hm_rev', \n",
    "                     'num_dwr_orders', 'dwr_rev', 'num_hay_orders', 'hay_rev']"
   ]
  },
  {
   "cell_type": "code",
   "execution_count": 6,
   "metadata": {},
   "outputs": [
    {
     "name": "stdout",
     "output_type": "stream",
     "text": [
      "time: 22.8 s (started: 2021-04-21 14:17:10 -07:00)\n"
     ]
    }
   ],
   "source": [
    "## From Herman Miller\n",
    "reactivation_audience = pd.read_csv('/Users/bwassie/Downloads/Reactivation Audience20210401.txt', sep='\\t')\n",
    "reactivation_audience['Last_Open_Date'] = pd.to_datetime(reactivation_audience['Last_Open_Date'])"
   ]
  },
  {
   "cell_type": "code",
   "execution_count": 8,
   "metadata": {},
   "outputs": [
    {
     "name": "stdout",
     "output_type": "stream",
     "text": [
      "time: 1min 50s (started: 2021-04-20 01:43:28 -07:00)\n"
     ]
    }
   ],
   "source": [
    "email_columns= ['email', 'num_sends', 'num_opens', 'num_clicks', 'num_unsubs', \n",
    "                'num_spams', 'first_engaged_date', 'last_engaged_date']\n",
    "email = pd.read_csv('s3://hermanmiller/data/segmentation/email_2021_03_12/query_3-38-pm.csv.gz', \n",
    "                 storage_options=storage_options,\n",
    "                 names=email_columns)\n",
    "email['first_engaged_date'] = pd.to_datetime(email['first_engaged_date'], errors='coerce')\n",
    "email['last_engaged_date'] = pd.to_datetime(email['first_engaged_date'], errors='coerce')\n",
    "email['first_engaged_year'] = email['first_engaged_date'].apply(lambda x: x.year)\n",
    "email['last_engaged_year'] = email['last_engaged_date'].apply(lambda x: x.year)\n",
    "email['open_rate'] = (email['num_opens']/email['num_sends']).clip(upper=1)\n",
    "email['click_rate'] = (email['num_clicks']/email['num_sends']).clip(upper=1)\n",
    "email['has_unsubbed'] = (email['num_unsubs']>=1).astype(int)\n",
    "email['has_spammed'] = (email['num_spams']>=1).astype(int)"
   ]
  },
  {
   "cell_type": "markdown",
   "metadata": {},
   "source": [
    "**Query for table below **\n",
    "\n",
    "```COPY INTO 's3://hermanmiller/data/queries/2021_04_12/email_brand_differences_between_engagement.csv.gz'\n",
    "FROM\n",
    "    (SELECT * FROM \n",
    "      (SELECT CAST(email_address AS STRING) email_address,\n",
    "              CAST(brand AS STRING) brand,\n",
    "              CAST(vendor_envelope_no AS STRING) vendor_envelope_no,\n",
    "              CAST(email_category AS STRING) email_category,\n",
    "              CAST(send_date AS STRING) first_send_date,\n",
    "              CAST(engage_date AS STRING) first_engage_date,\n",
    "              CAST(num_opens AS STRING) num_opens,\n",
    "              CAST(DATEDIFF('day', lag(engage_date) over (partition by email_address order by engage_date), engage_date) AS STRING) engage_diff\n",
    "      FROM\n",
    "        (SELECT email_address, \n",
    "                brand,\n",
    "                vendor_envelope_no, \n",
    "                email_category,\n",
    "                DATE(MIN(CASE WHEN hm_event_supertype = 'SEND' THEN event_timestamp ELSE NULL END)) send_date,\n",
    "                DATE(MIN(CASE WHEN hm_event_type in ('OPEN', 'CLICK') THEN event_timestamp ELSE NULL END)) engage_date,\n",
    "                SUM(CASE WHEN hm_event_type = 'OPEN' THEN 1 ELSE 0 END ) num_opens\n",
    "        FROM \"NORTHSTAR\".\"MKTG\".\"EMAIL_BASE\"\n",
    "        GROUP BY email_address, brand, vendor_envelope_no, email_category) a\n",
    "      WHERE send_date IS NOT NULL and engage_date IS NOT NULL\n",
    "      ORDER BY email_address, engage_date asc))\n",
    "FILE_FORMAT = (TYPE = 'CSV', FIELD_OPTIONALLY_ENCLOSED_BY='\"')\n",
    "SINGLE = TRUE\n",
    "OVERWRITE = TRUE\n",
    "MAX_FILE_SIZE = 1677721600;```"
   ]
  },
  {
   "cell_type": "code",
   "execution_count": 9,
   "metadata": {},
   "outputs": [
    {
     "name": "stdout",
     "output_type": "stream",
     "text": [
      "time: 36.8 s (started: 2021-04-20 01:45:19 -07:00)\n"
     ]
    }
   ],
   "source": [
    "email_engagement = pd.read_csv('/Users/bwassie/Downloads/email_brand_differences_between_engagement_with_categories.csv.gz',\n",
    "                              names=email_engagement_cols,\n",
    "                              na_values=['\\\\N'])\n",
    "email_engagement['email'] = email_engagement['email'].str.lower()\n",
    "email_engagement['first_engage_date'] = pd.to_datetime(email_engagement['first_engage_date'], errors='coerce')\n",
    "email_engagement['first_send_date'] = pd.to_datetime(email_engagement['first_send_date'], errors='coerce')"
   ]
  },
  {
   "cell_type": "code",
   "execution_count": 10,
   "metadata": {},
   "outputs": [
    {
     "name": "stdout",
     "output_type": "stream",
     "text": [
      "time: 1min 49s (started: 2021-04-20 01:45:56 -07:00)\n"
     ]
    }
   ],
   "source": [
    "orders = pd.read_csv('s3://hermanmiller/data/queries/2021_03_26/customer_order_dates_query.csv.gz', \n",
    "                 storage_options=storage_options,\n",
    "                 names=order_columns)"
   ]
  },
  {
   "cell_type": "code",
   "execution_count": 11,
   "metadata": {},
   "outputs": [
    {
     "name": "stdout",
     "output_type": "stream",
     "text": [
      "time: 680 ms (started: 2021-04-20 01:47:45 -07:00)\n"
     ]
    }
   ],
   "source": [
    "orders['trandate'] = pd.to_datetime(orders['trandate'], errors='coerce')\n",
    "orders['min_trandate'] = pd.to_datetime(orders['min_trandate'], errors='coerce')\n",
    "orders['max_trandate'] = pd.to_datetime(orders['max_trandate'], errors='coerce')"
   ]
  },
  {
   "cell_type": "code",
   "execution_count": 12,
   "metadata": {},
   "outputs": [
    {
     "name": "stdout",
     "output_type": "stream",
     "text": [
      "time: 1min 16s (started: 2021-04-20 01:47:46 -07:00)\n"
     ]
    }
   ],
   "source": [
    "rfm_brand = pd.read_csv('s3://hermanmiller/data/segmentation/rmf_2021_04_01/rfm_brand.csv.gz', \n",
    "             names=rfm_brand_columns,\n",
    "             storage_options=storage_options)"
   ]
  },
  {
   "cell_type": "code",
   "execution_count": 13,
   "metadata": {},
   "outputs": [
    {
     "name": "stdout",
     "output_type": "stream",
     "text": [
      "time: 3.35 s (started: 2021-04-20 01:49:02 -07:00)\n"
     ]
    }
   ],
   "source": [
    "rfm_pre_covid = pd.read_csv('rfm_pre_covid_1.csv', index_col=0)\n",
    "rfm_post_covid = pd.read_csv('rfm_post_covid_1.csv', index_col=0)\n",
    "rfm_pre_covid_mapped_clusters = pd.read_csv('rfm_pre_covid_mapped_clusters.csv', index_col=0)\n",
    "rfm_pre_covid_mapped_clusters['type'] = 'pre_covid'\n",
    "rfm_post_covid_mapped_clusters = pd.read_csv('rfm_post_covid_mapped_clusters.csv', index_col=0)\n",
    "rfm_post_covid_mapped_clusters['type'] = 'post_covid'"
   ]
  },
  {
   "cell_type": "code",
   "execution_count": 14,
   "metadata": {},
   "outputs": [
    {
     "name": "stdout",
     "output_type": "stream",
     "text": [
      "time: 668 ms (started: 2021-04-20 01:49:06 -07:00)\n"
     ]
    }
   ],
   "source": [
    "rfm_total = pd.concat([rfm_pre_covid, rfm_post_covid])\n",
    "pre_covid_clusters = rfm_pre_covid_mapped_clusters['8'].apply(lambda x: 'pre_covid_{}'.format(x))\n",
    "post_covid_clusters = rfm_post_covid_mapped_clusters['8'].apply(lambda x: 'post_covid_{}'.format(x))\n",
    "all_clusters = pd.concat([pre_covid_clusters, post_covid_clusters])\n",
    "rfm_total['clusters'] = all_clusters"
   ]
  },
  {
   "cell_type": "markdown",
   "metadata": {},
   "source": [
    "### Email to Entity ID Mapping"
   ]
  },
  {
   "cell_type": "code",
   "execution_count": 17,
   "metadata": {},
   "outputs": [
    {
     "name": "stdout",
     "output_type": "stream",
     "text": [
      "time: 1.87 s (started: 2021-04-20 01:50:13 -07:00)\n"
     ]
    }
   ],
   "source": [
    "merge1 = orders.merge(email, left_on='nt_emails', right_on='email')"
   ]
  },
  {
   "cell_type": "code",
   "execution_count": 19,
   "metadata": {},
   "outputs": [
    {
     "name": "stdout",
     "output_type": "stream",
     "text": [
      "time: 549 ms (started: 2021-04-20 01:50:25 -07:00)\n"
     ]
    }
   ],
   "source": [
    "merge2 = orders[~orders['entity_id'].isin(merge1['entity_id'].unique())].merge(email, \n",
    "                                                                      left_on='c_emails', \n",
    "                                                                      right_on='email')"
   ]
  },
  {
   "cell_type": "code",
   "execution_count": 20,
   "metadata": {},
   "outputs": [
    {
     "name": "stdout",
     "output_type": "stream",
     "text": [
      "time: 653 ms (started: 2021-04-20 01:50:26 -07:00)\n"
     ]
    }
   ],
   "source": [
    "merged3 = pd.concat([merge1, merge2])"
   ]
  },
  {
   "cell_type": "code",
   "execution_count": 21,
   "metadata": {},
   "outputs": [
    {
     "name": "stdout",
     "output_type": "stream",
     "text": [
      "time: 888 ms (started: 2021-04-20 01:50:27 -07:00)\n"
     ]
    }
   ],
   "source": [
    "mapping = merged3[['entity_id', 'email']].drop_duplicates()"
   ]
  },
  {
   "cell_type": "markdown",
   "metadata": {},
   "source": [
    "### Who is in the reactivation audience?\n",
    "\n",
    "In this secion we will map out segments to reactivation audiences"
   ]
  },
  {
   "cell_type": "code",
   "execution_count": 23,
   "metadata": {},
   "outputs": [
    {
     "data": {
      "text/plain": [
       "pre_covid_0     47091\n",
       "pre_covid_4     16852\n",
       "pre_covid_3     16618\n",
       "pre_covid_2     11467\n",
       "post_covid_2     7896\n",
       "pre_covid_7      5351\n",
       "pre_covid_5      4769\n",
       "post_covid_3     2798\n",
       "pre_covid_1      2409\n",
       "pre_covid_6      2260\n",
       "post_covid_6      976\n",
       "post_covid_5      667\n",
       "post_covid_0      626\n",
       "post_covid_4      624\n",
       "post_covid_1      603\n",
       "post_covid_7      135\n",
       "Name: clusters, dtype: int64"
      ]
     },
     "execution_count": 23,
     "metadata": {},
     "output_type": "execute_result"
    },
    {
     "name": "stdout",
     "output_type": "stream",
     "text": [
      "time: 1.6 s (started: 2021-04-20 01:50:44 -07:00)\n"
     ]
    }
   ],
   "source": [
    "total = rfm_total[rfm_total.index.isin(mapping[mapping['email'].isin(\n",
    "    reactivation_audience['Email_Address'].unique())]['entity_id'].unique())]['clusters'].value_counts().sum()\n",
    "rfm_total[rfm_total.index.isin(mapping[mapping['email'].isin(\n",
    "    reactivation_audience['Email_Address'].unique())]['entity_id'].unique())]['clusters'].value_counts()"
   ]
  },
  {
   "cell_type": "markdown",
   "metadata": {},
   "source": [
    "**Takeaway #1: The top segments in the blacklist are pre-covid churned customers (0,4) - upside**  \n",
    "**Takeaway #2: Some best customers are still one of the top few clusters (3,2, 7,5)**  \n",
    "**Conclusion: List needs to be managed more actively. High value customers shouldn't be blacklisted forever**  "
   ]
  },
  {
   "cell_type": "code",
   "execution_count": 26,
   "metadata": {},
   "outputs": [
    {
     "data": {
      "text/plain": [
       "(0.1589399837625164, 0.31512605042016806)"
      ]
     },
     "execution_count": 26,
     "metadata": {},
     "output_type": "execute_result"
    },
    {
     "name": "stdout",
     "output_type": "stream",
     "text": [
      "time: 1.86 ms (started: 2021-04-20 01:50:45 -07:00)\n"
     ]
    }
   ],
   "source": [
    "# What % are pre-covid best customers\n",
    "#(total % of blaclist), (total % of blacklist mapped to orders)\n",
    "(16616 + 11439 + 4769 + 5351)/reactivation_audience.shape[0], (16616 + 11439 + 4769 + 5351)/total"
   ]
  },
  {
   "cell_type": "code",
   "execution_count": 27,
   "metadata": {},
   "outputs": [
    {
     "data": {
      "text/plain": [
       "(0.2855507213189833, 0.5661537699559195)"
      ]
     },
     "execution_count": 27,
     "metadata": {},
     "output_type": "execute_result"
    },
    {
     "name": "stdout",
     "output_type": "stream",
     "text": [
      "time: 1.57 ms (started: 2021-04-20 01:50:45 -07:00)\n"
     ]
    }
   ],
   "source": [
    "# What % are pre-covid churned customers\n",
    "#(total % of blaclist), (total % of blacklist mapped to orders)\n",
    "(47079+16846+2406+2254)/reactivation_audience.shape[0], (47079+16846+2406+2254)/total"
   ]
  },
  {
   "cell_type": "markdown",
   "metadata": {},
   "source": [
    "### How many people in the reactivation audience are actually blacklisted? (i.e. how many received/engaged with emails 6 months after their last open date)\n",
    "\n",
    "In this section, we'll look at what % of the reactivation audience actually received an email 6 months after their last supposed engagement date"
   ]
  },
  {
   "cell_type": "code",
   "execution_count": 29,
   "metadata": {
    "scrolled": true
   },
   "outputs": [
    {
     "name": "stdout",
     "output_type": "stream",
     "text": [
      "time: 5.87 s (started: 2021-04-20 01:50:45 -07:00)\n"
     ]
    }
   ],
   "source": [
    "engagement_reactivation_merge = email_engagement.merge(reactivation_audience, \n",
    "                                                       left_on='email', \n",
    "                                                       right_on='Email_Address')"
   ]
  },
  {
   "cell_type": "code",
   "execution_count": 30,
   "metadata": {},
   "outputs": [
    {
     "data": {
      "text/plain": [
       "233609"
      ]
     },
     "execution_count": 30,
     "metadata": {},
     "output_type": "execute_result"
    },
    {
     "name": "stdout",
     "output_type": "stream",
     "text": [
      "time: 1.01 s (started: 2021-04-20 01:50:51 -07:00)\n"
     ]
    }
   ],
   "source": [
    "engagement_reactivation_merge['Email_Address'].nunique()"
   ]
  },
  {
   "cell_type": "code",
   "execution_count": 31,
   "metadata": {},
   "outputs": [
    {
     "name": "stdout",
     "output_type": "stream",
     "text": [
      "time: 1.99 s (started: 2021-04-20 01:50:52 -07:00)\n"
     ]
    }
   ],
   "source": [
    "# Blacklisted email sends are emails sent to people 6 months after they last presumably engaged\n",
    "blacklisted_email_sends = engagement_reactivation_merge[(engagement_reactivation_merge['first_send_date'] > \n",
    "                              engagement_reactivation_merge['Last_Open_Date'] + timedelta(days=180)) &\n",
    "                              (engagement_reactivation_merge['category'].isin(['SALE', 'NONE']))]\n",
    "blacklisted_email_sends = blacklisted_email_sends[blacklisted_email_sends['brand']=='DWR']"
   ]
  },
  {
   "cell_type": "code",
   "execution_count": 34,
   "metadata": {},
   "outputs": [
    {
     "name": "stdout",
     "output_type": "stream",
     "text": [
      "Out of 240185 blacklisted email addresses, 59799 (or 24.90%) have been sent an email (and opened the email) \n",
      "6 months after they presumably stopped responding.\n",
      "        \n",
      "time: 332 ms (started: 2021-04-20 01:50:55 -07:00)\n"
     ]
    }
   ],
   "source": [
    "print('''Out of {} blacklisted email addresses, {} (or {:.2f}%) have been sent an email (and opened the email) \n",
    "6 months after they presumably stopped responding.\n",
    "        '''.format(reactivation_audience.shape[0],\n",
    "                  blacklisted_email_sends['email'].nunique(),\n",
    "                  100*blacklisted_email_sends['email'].nunique()/reactivation_audience.shape[0]))"
   ]
  },
  {
   "cell_type": "markdown",
   "metadata": {},
   "source": [
    "**How many of these blacklisted yet still emailed customers purchased an order after they received an email**"
   ]
  },
  {
   "cell_type": "code",
   "execution_count": 36,
   "metadata": {
    "scrolled": true
   },
   "outputs": [
    {
     "data": {
      "text/plain": [
       "59799"
      ]
     },
     "execution_count": 36,
     "metadata": {},
     "output_type": "execute_result"
    },
    {
     "name": "stdout",
     "output_type": "stream",
     "text": [
      "time: 176 ms (started: 2021-04-20 01:50:55 -07:00)\n"
     ]
    }
   ],
   "source": [
    "#Num blacklisted people who received an email\n",
    "blacklisted_email_sends['email'].nunique()"
   ]
  },
  {
   "cell_type": "code",
   "execution_count": 37,
   "metadata": {
    "scrolled": true
   },
   "outputs": [
    {
     "name": "stdout",
     "output_type": "stream",
     "text": [
      "time: 612 ms (started: 2021-04-20 01:50:55 -07:00)\n"
     ]
    }
   ],
   "source": [
    "mapped_orders = orders.merge(mapping, on='entity_id')"
   ]
  },
  {
   "cell_type": "code",
   "execution_count": 38,
   "metadata": {},
   "outputs": [
    {
     "name": "stdout",
     "output_type": "stream",
     "text": [
      "time: 1.09 s (started: 2021-04-20 01:50:56 -07:00)\n"
     ]
    }
   ],
   "source": [
    "blacklisted_orders = mapped_orders.merge(blacklisted_email_sends, on='email')"
   ]
  },
  {
   "cell_type": "code",
   "execution_count": 39,
   "metadata": {},
   "outputs": [
    {
     "data": {
      "text/plain": [
       "32423"
      ]
     },
     "execution_count": 39,
     "metadata": {},
     "output_type": "execute_result"
    },
    {
     "name": "stdout",
     "output_type": "stream",
     "text": [
      "time: 182 ms (started: 2021-04-20 01:50:57 -07:00)\n"
     ]
    }
   ],
   "source": [
    "#Num blacklisted people who received an email and can be mapped to an order (before or after)\n",
    "blacklisted_orders['email'].nunique()"
   ]
  },
  {
   "cell_type": "code",
   "execution_count": 40,
   "metadata": {},
   "outputs": [
    {
     "name": "stdout",
     "output_type": "stream",
     "text": [
      "time: 448 ms (started: 2021-04-20 01:50:57 -07:00)\n"
     ]
    }
   ],
   "source": [
    "# We want to see how many orders people placed in the year after they were presumably blacklisted (and still received\n",
    "# emails)\n",
    "blacklisted_attributable_orders = blacklisted_orders[(blacklisted_orders['trandate'] > \n",
    "                                                      blacklisted_orders['Last_Open_Date']+timedelta(days=0)) &\n",
    "                                                    (blacklisted_orders['trandate'] <\n",
    "                                                     blacklisted_orders['Last_Open_Date']+timedelta(days=360))]\n",
    "\n"
   ]
  },
  {
   "cell_type": "code",
   "execution_count": 41,
   "metadata": {},
   "outputs": [
    {
     "name": "stdout",
     "output_type": "stream",
     "text": [
      "time: 52.6 ms (started: 2021-04-20 01:50:57 -07:00)\n"
     ]
    }
   ],
   "source": [
    "blacklisted_attributable_orders = blacklisted_attributable_orders.drop_duplicates(['entity_id', \n",
    "                                                                                   'trandate', \n",
    "                                                                                   'email', \n",
    "                                                                                   'revenue', \n",
    "                                                                                   'num_orders'])"
   ]
  },
  {
   "cell_type": "code",
   "execution_count": 42,
   "metadata": {},
   "outputs": [
    {
     "data": {
      "text/plain": [
       "24437096.308860883"
      ]
     },
     "execution_count": 42,
     "metadata": {},
     "output_type": "execute_result"
    },
    {
     "name": "stdout",
     "output_type": "stream",
     "text": [
      "time: 2.21 ms (started: 2021-04-20 01:50:58 -07:00)\n"
     ]
    }
   ],
   "source": [
    "#Revenue generated from blacklisted people AFTER they were blacklisted\n",
    "blacklisted_attributable_orders['revenue'].sum()"
   ]
  },
  {
   "cell_type": "code",
   "execution_count": 43,
   "metadata": {},
   "outputs": [
    {
     "data": {
      "text/plain": [
       "8348"
      ]
     },
     "execution_count": 43,
     "metadata": {},
     "output_type": "execute_result"
    },
    {
     "name": "stdout",
     "output_type": "stream",
     "text": [
      "time: 3.32 ms (started: 2021-04-20 01:50:58 -07:00)\n"
     ]
    }
   ],
   "source": [
    "#Num blacklisted people who received an email and placed an order AFTER they were blacklisted\n",
    "blacklisted_attributable_orders['entity_id'].nunique()"
   ]
  },
  {
   "cell_type": "code",
   "execution_count": 45,
   "metadata": {},
   "outputs": [
    {
     "data": {
      "text/plain": [
       "8058"
      ]
     },
     "execution_count": 45,
     "metadata": {},
     "output_type": "execute_result"
    },
    {
     "name": "stdout",
     "output_type": "stream",
     "text": [
      "time: 6.2 ms (started: 2021-04-20 01:50:58 -07:00)\n"
     ]
    }
   ],
   "source": [
    "#Same as above but checking unique emails instead of unique entity_ids\n",
    "blacklisted_attributable_orders['email'].nunique()"
   ]
  },
  {
   "cell_type": "code",
   "execution_count": 44,
   "metadata": {},
   "outputs": [
    {
     "data": {
      "text/plain": [
       "15947"
      ]
     },
     "execution_count": 44,
     "metadata": {},
     "output_type": "execute_result"
    },
    {
     "name": "stdout",
     "output_type": "stream",
     "text": [
      "time: 1.95 ms (started: 2021-04-20 01:50:58 -07:00)\n"
     ]
    }
   ],
   "source": [
    "# orders for above population\n",
    "blacklisted_attributable_orders['num_orders'].sum()"
   ]
  },
  {
   "cell_type": "code",
   "execution_count": 46,
   "metadata": {},
   "outputs": [
    {
     "data": {
      "text/plain": [
       "0.13475141724778006"
      ]
     },
     "execution_count": 46,
     "metadata": {},
     "output_type": "execute_result"
    },
    {
     "name": "stdout",
     "output_type": "stream",
     "text": [
      "time: 183 ms (started: 2021-04-20 01:50:58 -07:00)\n"
     ]
    }
   ],
   "source": [
    "# What % of blacklisted people who received emails placed an order after they were blacklisted\n",
    "blacklisted_attributable_orders['email'].nunique()/blacklisted_email_sends['email'].nunique()"
   ]
  },
  {
   "cell_type": "markdown",
   "metadata": {},
   "source": [
    "**13% of group who was blacklisted and received an email actually placed an order**"
   ]
  },
  {
   "cell_type": "code",
   "execution_count": 47,
   "metadata": {},
   "outputs": [
    {
     "data": {
      "text/plain": [
       "3032.650323760348"
      ]
     },
     "execution_count": 47,
     "metadata": {},
     "output_type": "execute_result"
    },
    {
     "name": "stdout",
     "output_type": "stream",
     "text": [
      "time: 6.71 ms (started: 2021-04-20 01:50:58 -07:00)\n"
     ]
    }
   ],
   "source": [
    "# Revenue per person of above population\n",
    "blacklisted_attributable_orders['revenue'].sum()/blacklisted_attributable_orders['email'].nunique()"
   ]
  },
  {
   "cell_type": "code",
   "execution_count": 48,
   "metadata": {},
   "outputs": [
    {
     "data": {
      "text/plain": [
       "1532.3945763379245"
      ]
     },
     "execution_count": 48,
     "metadata": {},
     "output_type": "execute_result"
    },
    {
     "name": "stdout",
     "output_type": "stream",
     "text": [
      "time: 2.06 ms (started: 2021-04-20 01:50:58 -07:00)\n"
     ]
    }
   ],
   "source": [
    "#AOV after blacklisting of above population\n",
    "blacklisted_attributable_orders['revenue'].sum()/blacklisted_attributable_orders['num_orders'].sum()"
   ]
  },
  {
   "cell_type": "code",
   "execution_count": 49,
   "metadata": {},
   "outputs": [
    {
     "name": "stdout",
     "output_type": "stream",
     "text": [
      "time: 286 ms (started: 2021-04-20 01:50:58 -07:00)\n"
     ]
    }
   ],
   "source": [
    "num_emails = blacklisted_email_sends[blacklisted_email_sends['first_send_date']>\n",
    "                        blacklisted_email_sends['Last_Open_Date'] +timedelta(days=360)]\\\n",
    "    [['email','envelope_no']].drop_duplicates().shape[0]"
   ]
  },
  {
   "cell_type": "code",
   "execution_count": 50,
   "metadata": {},
   "outputs": [
    {
     "data": {
      "text/plain": [
       "32.37602022928349"
      ]
     },
     "execution_count": 50,
     "metadata": {},
     "output_type": "execute_result"
    },
    {
     "name": "stdout",
     "output_type": "stream",
     "text": [
      "time: 2.07 ms (started: 2021-04-20 01:50:58 -07:00)\n"
     ]
    }
   ],
   "source": [
    "blacklisted_attributable_orders['revenue'].sum()/num_emails"
   ]
  },
  {
   "cell_type": "code",
   "execution_count": 51,
   "metadata": {},
   "outputs": [
    {
     "data": {
      "text/plain": [
       "pre_covid_3     2516\n",
       "pre_covid_2     1498\n",
       "pre_covid_7     1393\n",
       "pre_covid_5     1122\n",
       "post_covid_6     387\n",
       "pre_covid_4      338\n",
       "pre_covid_0      297\n",
       "post_covid_2     271\n",
       "post_covid_3     145\n",
       "post_covid_5     105\n",
       "pre_covid_1       93\n",
       "post_covid_0      43\n",
       "post_covid_1      41\n",
       "post_covid_4      35\n",
       "post_covid_7      22\n",
       "pre_covid_6       19\n",
       "Name: clusters, dtype: int64"
      ]
     },
     "execution_count": 51,
     "metadata": {},
     "output_type": "execute_result"
    },
    {
     "name": "stdout",
     "output_type": "stream",
     "text": [
      "time: 28.7 ms (started: 2021-04-20 01:50:58 -07:00)\n"
     ]
    }
   ],
   "source": [
    "rfm_total[rfm_total.index.isin(blacklisted_attributable_orders['entity_id'].unique())]\\\n",
    "    ['clusters'].value_counts()"
   ]
  },
  {
   "cell_type": "code",
   "execution_count": 52,
   "metadata": {},
   "outputs": [
    {
     "data": {
      "text/plain": [
       "pre_covid_5    0.08489\n",
       "pre_covid_7    0.08185\n",
       "pre_covid_3    0.05115\n",
       "post_covid_6   0.05040\n",
       "pre_covid_2    0.03435\n",
       "post_covid_5   0.01172\n",
       "pre_covid_1    0.00886\n",
       "pre_covid_4    0.00550\n",
       "post_covid_2   0.00544\n",
       "post_covid_3   0.00529\n",
       "post_covid_7   0.00411\n",
       "post_covid_4   0.00376\n",
       "pre_covid_0    0.00163\n",
       "post_covid_1   0.00088\n",
       "pre_covid_6    0.00055\n",
       "post_covid_0   0.00042\n",
       "Name: clusters, dtype: float64"
      ]
     },
     "execution_count": 52,
     "metadata": {},
     "output_type": "execute_result"
    },
    {
     "name": "stdout",
     "output_type": "stream",
     "text": [
      "time: 97.3 ms (started: 2021-04-20 01:50:58 -07:00)\n"
     ]
    }
   ],
   "source": [
    "(rfm_total[rfm_total.index.isin(blacklisted_attributable_orders['entity_id'].unique())]\\\n",
    "    ['clusters'].value_counts()/rfm_total['clusters'].value_counts()).sort_values(ascending=False)"
   ]
  },
  {
   "cell_type": "markdown",
   "metadata": {},
   "source": [
    "**The above two breakdowns show that pre covid high value/active segments (5,7,3,2) are more likely to place an order after being blacklisted**\n",
    "**Takeaway: Again, these segments shouldn't blanketly blacklisted - if they become inactive, they should be put on a reactivation category/strategy**"
   ]
  },
  {
   "cell_type": "markdown",
   "metadata": {},
   "source": [
    "**Of the ones who were blacklisted (and didn't receive email), how many placed an order after being blacklisted**"
   ]
  },
  {
   "cell_type": "code",
   "execution_count": 53,
   "metadata": {},
   "outputs": [
    {
     "name": "stdout",
     "output_type": "stream",
     "text": [
      "time: 991 ms (started: 2021-04-20 01:50:58 -07:00)\n"
     ]
    }
   ],
   "source": [
    "email_summary = engagement_reactivation_merge.groupby(['email'])[['first_send_date',\n",
    "                                                           'first_engage_date']].max().reset_index()"
   ]
  },
  {
   "cell_type": "code",
   "execution_count": 54,
   "metadata": {},
   "outputs": [
    {
     "data": {
      "text/plain": [
       "233609"
      ]
     },
     "execution_count": 54,
     "metadata": {},
     "output_type": "execute_result"
    },
    {
     "name": "stdout",
     "output_type": "stream",
     "text": [
      "time: 170 ms (started: 2021-04-20 01:50:59 -07:00)\n"
     ]
    }
   ],
   "source": [
    "email_summary['email'].nunique()"
   ]
  },
  {
   "cell_type": "code",
   "execution_count": 55,
   "metadata": {},
   "outputs": [
    {
     "name": "stdout",
     "output_type": "stream",
     "text": [
      "time: 292 ms (started: 2021-04-20 01:50:59 -07:00)\n"
     ]
    }
   ],
   "source": [
    "email_summary_reactivation = email_summary.merge(reactivation_audience, left_on='email', right_on='Email_Address')"
   ]
  },
  {
   "cell_type": "code",
   "execution_count": 56,
   "metadata": {},
   "outputs": [
    {
     "data": {
      "text/plain": [
       "233609"
      ]
     },
     "execution_count": 56,
     "metadata": {},
     "output_type": "execute_result"
    },
    {
     "name": "stdout",
     "output_type": "stream",
     "text": [
      "time: 194 ms (started: 2021-04-20 01:51:00 -07:00)\n"
     ]
    }
   ],
   "source": [
    "email_summary_reactivation['email'].nunique()"
   ]
  },
  {
   "cell_type": "code",
   "execution_count": 57,
   "metadata": {},
   "outputs": [
    {
     "name": "stdout",
     "output_type": "stream",
     "text": [
      "time: 149 ms (started: 2021-04-20 01:51:00 -07:00)\n"
     ]
    }
   ],
   "source": [
    "true_blacklist = email_summary_reactivation[\n",
    "    ~email_summary_reactivation['email'].isin(blacklisted_email_sends['email'])]"
   ]
  },
  {
   "cell_type": "code",
   "execution_count": 58,
   "metadata": {},
   "outputs": [
    {
     "name": "stdout",
     "output_type": "stream",
     "text": [
      "time: 33.4 ms (started: 2021-04-20 01:51:00 -07:00)\n"
     ]
    }
   ],
   "source": [
    "true_blacklist = email_summary_reactivation[email_summary_reactivation['first_send_date'] <\n",
    "                              email_summary_reactivation['Last_Open_Date']+ timedelta(days=180)]\n"
   ]
  },
  {
   "cell_type": "code",
   "execution_count": 59,
   "metadata": {},
   "outputs": [
    {
     "data": {
      "text/plain": [
       "161839"
      ]
     },
     "execution_count": 59,
     "metadata": {},
     "output_type": "execute_result"
    },
    {
     "name": "stdout",
     "output_type": "stream",
     "text": [
      "time: 95.2 ms (started: 2021-04-20 01:51:00 -07:00)\n"
     ]
    }
   ],
   "source": [
    "true_blacklist['email'].nunique()"
   ]
  },
  {
   "cell_type": "code",
   "execution_count": 60,
   "metadata": {},
   "outputs": [
    {
     "data": {
      "text/plain": [
       "(161361, 14)"
      ]
     },
     "execution_count": 60,
     "metadata": {},
     "output_type": "execute_result"
    },
    {
     "name": "stdout",
     "output_type": "stream",
     "text": [
      "time: 410 ms (started: 2021-04-20 01:51:00 -07:00)\n"
     ]
    }
   ],
   "source": [
    "true_blacklisted_orders = mapped_orders.merge(true_blacklist, on='email')\n",
    "true_blacklisted_orders.shape"
   ]
  },
  {
   "cell_type": "code",
   "execution_count": 61,
   "metadata": {},
   "outputs": [
    {
     "data": {
      "text/plain": [
       "72437"
      ]
     },
     "execution_count": 61,
     "metadata": {},
     "output_type": "execute_result"
    },
    {
     "name": "stdout",
     "output_type": "stream",
     "text": [
      "time: 52.7 ms (started: 2021-04-20 01:51:01 -07:00)\n"
     ]
    }
   ],
   "source": [
    "true_blacklisted_orders['email'].nunique()"
   ]
  },
  {
   "cell_type": "code",
   "execution_count": 62,
   "metadata": {},
   "outputs": [
    {
     "data": {
      "text/plain": [
       "(75892, 75892)"
      ]
     },
     "execution_count": 62,
     "metadata": {},
     "output_type": "execute_result"
    },
    {
     "name": "stdout",
     "output_type": "stream",
     "text": [
      "time: 11.6 ms (started: 2021-04-20 01:51:01 -07:00)\n"
     ]
    }
   ],
   "source": [
    "true_blacklisted_orders['entity_id'].nunique(), true_blacklisted_orders['entity_id'].nunique()"
   ]
  },
  {
   "cell_type": "code",
   "execution_count": 63,
   "metadata": {},
   "outputs": [
    {
     "data": {
      "text/plain": [
       "(11692, 14)"
      ]
     },
     "execution_count": 63,
     "metadata": {},
     "output_type": "execute_result"
    },
    {
     "name": "stdout",
     "output_type": "stream",
     "text": [
      "time: 49.4 ms (started: 2021-04-20 01:51:01 -07:00)\n"
     ]
    }
   ],
   "source": [
    "true_blacklisted_orders_after_blacklist = true_blacklisted_orders[(true_blacklisted_orders['trandate'] >\n",
    "                                                                  true_blacklisted_orders['first_send_date'] +\n",
    "                                                                  timedelta(days=0)) &\n",
    "                                                                 (true_blacklisted_orders['trandate'] < \n",
    "                                                                 true_blacklisted_orders['first_send_date'] +\n",
    "                                                                 timedelta(days=360))]\n",
    "true_blacklisted_orders_after_blacklist.shape"
   ]
  },
  {
   "cell_type": "code",
   "execution_count": 64,
   "metadata": {},
   "outputs": [
    {
     "data": {
      "text/plain": [
       "6908"
      ]
     },
     "execution_count": 64,
     "metadata": {},
     "output_type": "execute_result"
    },
    {
     "name": "stdout",
     "output_type": "stream",
     "text": [
      "time: 6.12 ms (started: 2021-04-20 01:51:01 -07:00)\n"
     ]
    }
   ],
   "source": [
    "true_blacklisted_orders_after_blacklist['email'].nunique()"
   ]
  },
  {
   "cell_type": "code",
   "execution_count": 65,
   "metadata": {},
   "outputs": [
    {
     "data": {
      "text/plain": [
       "0.04268439622093562"
      ]
     },
     "execution_count": 65,
     "metadata": {},
     "output_type": "execute_result"
    },
    {
     "name": "stdout",
     "output_type": "stream",
     "text": [
      "time: 102 ms (started: 2021-04-20 01:51:01 -07:00)\n"
     ]
    }
   ],
   "source": [
    "true_blacklisted_orders_after_blacklist['email'].nunique()/true_blacklist['email'].nunique()"
   ]
  },
  {
   "cell_type": "markdown",
   "metadata": {},
   "source": [
    "**Only 4% placed an order after being \"blacklisted\" and not receiving an email**"
   ]
  },
  {
   "cell_type": "code",
   "execution_count": 66,
   "metadata": {},
   "outputs": [
    {
     "data": {
      "text/plain": [
       "6981"
      ]
     },
     "execution_count": 66,
     "metadata": {},
     "output_type": "execute_result"
    },
    {
     "name": "stdout",
     "output_type": "stream",
     "text": [
      "time: 4.99 ms (started: 2021-04-20 01:51:01 -07:00)\n"
     ]
    }
   ],
   "source": [
    "true_blacklisted_orders_after_blacklist['entity_id'].nunique()"
   ]
  },
  {
   "cell_type": "code",
   "execution_count": 67,
   "metadata": {},
   "outputs": [
    {
     "data": {
      "text/plain": [
       "13232"
      ]
     },
     "execution_count": 67,
     "metadata": {},
     "output_type": "execute_result"
    },
    {
     "name": "stdout",
     "output_type": "stream",
     "text": [
      "time: 2.12 ms (started: 2021-04-20 01:51:01 -07:00)\n"
     ]
    }
   ],
   "source": [
    "true_blacklisted_orders_after_blacklist['num_orders'].sum()"
   ]
  },
  {
   "cell_type": "code",
   "execution_count": 68,
   "metadata": {},
   "outputs": [
    {
     "data": {
      "text/plain": [
       "20962627.64186943"
      ]
     },
     "execution_count": 68,
     "metadata": {},
     "output_type": "execute_result"
    },
    {
     "name": "stdout",
     "output_type": "stream",
     "text": [
      "time: 2.02 ms (started: 2021-04-20 01:51:01 -07:00)\n"
     ]
    }
   ],
   "source": [
    "true_blacklisted_orders_after_blacklist['revenue'].sum()"
   ]
  },
  {
   "cell_type": "code",
   "execution_count": 69,
   "metadata": {},
   "outputs": [
    {
     "data": {
      "text/plain": [
       "3034.543665586194"
      ]
     },
     "execution_count": 69,
     "metadata": {},
     "output_type": "execute_result"
    },
    {
     "name": "stdout",
     "output_type": "stream",
     "text": [
      "time: 5.84 ms (started: 2021-04-20 01:51:01 -07:00)\n"
     ]
    }
   ],
   "source": [
    "true_blacklisted_orders_after_blacklist['revenue'].sum()/\\\n",
    "    true_blacklisted_orders_after_blacklist['email'].nunique()"
   ]
  },
  {
   "cell_type": "code",
   "execution_count": 70,
   "metadata": {},
   "outputs": [
    {
     "data": {
      "text/plain": [
       "1584.23727644116"
      ]
     },
     "execution_count": 70,
     "metadata": {},
     "output_type": "execute_result"
    },
    {
     "name": "stdout",
     "output_type": "stream",
     "text": [
      "time: 1.84 ms (started: 2021-04-20 01:51:01 -07:00)\n"
     ]
    }
   ],
   "source": [
    "true_blacklisted_orders_after_blacklist['revenue'].sum()/\\\n",
    "    true_blacklisted_orders_after_blacklist['num_orders'].sum()"
   ]
  },
  {
   "cell_type": "code",
   "execution_count": 71,
   "metadata": {},
   "outputs": [
    {
     "name": "stdout",
     "output_type": "stream",
     "text": [
      "time: 249 ms (started: 2021-04-20 01:51:01 -07:00)\n"
     ]
    }
   ],
   "source": [
    "num_emails = blacklisted_email_sends[blacklisted_email_sends['first_send_date']>\n",
    "                        blacklisted_email_sends['Last_Open_Date'] ++timedelta(days=360)]\\\n",
    "    [['email','envelope_no']].drop_duplicates().shape[0]"
   ]
  },
  {
   "cell_type": "code",
   "execution_count": 72,
   "metadata": {},
   "outputs": [
    {
     "data": {
      "text/plain": [
       "27.77279460759871"
      ]
     },
     "execution_count": 72,
     "metadata": {},
     "output_type": "execute_result"
    },
    {
     "name": "stdout",
     "output_type": "stream",
     "text": [
      "time: 2.12 ms (started: 2021-04-20 01:51:01 -07:00)\n"
     ]
    }
   ],
   "source": [
    "true_blacklisted_orders_after_blacklist['revenue'].sum()/num_emails"
   ]
  },
  {
   "cell_type": "code",
   "execution_count": 74,
   "metadata": {},
   "outputs": [
    {
     "data": {
      "text/plain": [
       "pre_covid_5    0.04971\n",
       "pre_covid_7    0.04536\n",
       "pre_covid_2    0.03752\n",
       "pre_covid_4    0.02608\n",
       "pre_covid_3    0.02382\n",
       "post_covid_6   0.01823\n",
       "pre_covid_1    0.01514\n",
       "post_covid_3   0.00635\n",
       "post_covid_2   0.00520\n",
       "post_covid_5   0.00514\n",
       "post_covid_4   0.00462\n",
       "post_covid_7   0.00374\n",
       "pre_covid_0    0.00127\n",
       "post_covid_1   0.00056\n",
       "pre_covid_6    0.00055\n",
       "post_covid_0   0.00016\n",
       "Name: clusters, dtype: float64"
      ]
     },
     "execution_count": 74,
     "metadata": {},
     "output_type": "execute_result"
    },
    {
     "name": "stdout",
     "output_type": "stream",
     "text": [
      "time: 82.5 ms (started: 2021-04-20 01:51:01 -07:00)\n"
     ]
    }
   ],
   "source": [
    "(rfm_total[rfm_total.index.isin(true_blacklisted_orders_after_blacklist['entity_id'].unique())]\\\n",
    "    ['clusters'].value_counts()/rfm_total['clusters'].value_counts()).sort_values(ascending=False)"
   ]
  },
  {
   "cell_type": "code",
   "execution_count": 75,
   "metadata": {},
   "outputs": [
    {
     "data": {
      "text/plain": [
       "pre_covid_0     34733\n",
       "pre_covid_4     12112\n",
       "pre_covid_3      7325\n",
       "pre_covid_2      6634\n",
       "post_covid_2     4758\n",
       "pre_covid_5      2136\n",
       "pre_covid_7      2108\n",
       "post_covid_3     1834\n",
       "pre_covid_1      1601\n",
       "pre_covid_6      1504\n",
       "post_covid_4      336\n",
       "post_covid_6      285\n",
       "post_covid_5      216\n",
       "post_covid_1      114\n",
       "post_covid_0      110\n",
       "post_covid_7       63\n",
       "Name: clusters, dtype: int64"
      ]
     },
     "execution_count": 75,
     "metadata": {},
     "output_type": "execute_result"
    },
    {
     "name": "stdout",
     "output_type": "stream",
     "text": [
      "time: 323 ms (started: 2021-04-20 01:51:01 -07:00)\n"
     ]
    }
   ],
   "source": [
    "rfm_total[rfm_total.index.isin(mapping[mapping['email'].isin(\n",
    "    true_blacklist['email'].unique())]['entity_id'].unique())]['clusters'].value_counts()"
   ]
  },
  {
   "cell_type": "code",
   "execution_count": 76,
   "metadata": {},
   "outputs": [
    {
     "data": {
      "text/plain": [
       "pre_covid_4    0.19715\n",
       "pre_covid_0    0.19081\n",
       "pre_covid_5    0.16161\n",
       "pre_covid_1    0.15245\n",
       "pre_covid_2    0.15214\n",
       "pre_covid_3    0.14890\n",
       "pre_covid_7    0.12386\n",
       "post_covid_2   0.09546\n",
       "post_covid_3   0.06689\n",
       "pre_covid_6    0.04314\n",
       "post_covid_6   0.03712\n",
       "post_covid_4   0.03607\n",
       "post_covid_5   0.02412\n",
       "post_covid_7   0.01178\n",
       "post_covid_1   0.00245\n",
       "post_covid_0   0.00107\n",
       "Name: clusters, dtype: float64"
      ]
     },
     "execution_count": 76,
     "metadata": {},
     "output_type": "execute_result"
    },
    {
     "name": "stdout",
     "output_type": "stream",
     "text": [
      "time: 388 ms (started: 2021-04-20 01:51:02 -07:00)\n"
     ]
    }
   ],
   "source": [
    "(rfm_total[rfm_total.index.isin(mapping[mapping['email'].isin(\n",
    "    true_blacklist['email'].unique())]['entity_id'].unique())]['clusters'].value_counts()/\\\n",
    "    rfm_total['clusters'].value_counts()).sort_values(ascending=False)"
   ]
  },
  {
   "cell_type": "markdown",
   "metadata": {},
   "source": [
    "**Next Step**\n",
    "- Try to identify a \"blacklisted\" group - i.e. people who did not receive an email 6 months after being blacklisted\n",
    "- Try to identify a non-blacklisted group - i.e. people who are still receiving an email"
   ]
  },
  {
   "cell_type": "markdown",
   "metadata": {},
   "source": [
    "## Test Impact of Sending Emails"
   ]
  },
  {
   "cell_type": "code",
   "execution_count": null,
   "metadata": {},
   "outputs": [],
   "source": [
    "non_transaction_engagement = email_engagement[(email_engagement['category'].isin(\n",
    "                            ['SALE', 'NONE'])) & ~(\n",
    "    email_engagement['email'].isin(reactivation_audience['Email_Address'])) & (\n",
    "    email_engagement['brand']=='DWR')\n",
    "                                             ]"
   ]
  },
  {
   "cell_type": "code",
   "execution_count": 215,
   "metadata": {},
   "outputs": [
    {
     "name": "stdout",
     "output_type": "stream",
     "text": [
      "time: 8.84 s (started: 2021-04-20 13:49:07 -07:00)\n"
     ]
    }
   ],
   "source": [
    "non_transaction_engagement = email_engagement[(email_engagement['category'].isin(\n",
    "                            ['SALE', 'NONE'])) & (\n",
    "    email_engagement['brand']=='DWR')\n",
    "                                             ]\n",
    "email_summary_max = non_transaction_engagement.groupby(['email'])[['first_send_date',\n",
    "                                                           'first_engage_date']].max().reset_index()\n",
    "email_summary_min = non_transaction_engagement.groupby(['email'])[['first_send_date',\n",
    "                                                           'first_engage_date']].min().reset_index()\n",
    "email_summary_max.columns = ['email', 'last_send_date', 'last_engage_date']\n",
    "email_summary_min.columns = ['email', 'first_send_date', 'first_engage_date']"
   ]
  },
  {
   "cell_type": "code",
   "execution_count": 216,
   "metadata": {},
   "outputs": [
    {
     "data": {
      "text/html": [
       "<div>\n",
       "<style scoped>\n",
       "    .dataframe tbody tr th:only-of-type {\n",
       "        vertical-align: middle;\n",
       "    }\n",
       "\n",
       "    .dataframe tbody tr th {\n",
       "        vertical-align: top;\n",
       "    }\n",
       "\n",
       "    .dataframe thead th {\n",
       "        text-align: right;\n",
       "    }\n",
       "</style>\n",
       "<table border=\"1\" class=\"dataframe\">\n",
       "  <thead>\n",
       "    <tr style=\"text-align: right;\">\n",
       "      <th></th>\n",
       "      <th>email</th>\n",
       "      <th>brand</th>\n",
       "      <th>envelope_no</th>\n",
       "      <th>category</th>\n",
       "      <th>first_send_date</th>\n",
       "      <th>first_engage_date</th>\n",
       "      <th>num_opens</th>\n",
       "      <th>diff</th>\n",
       "      <th>is_blacklist</th>\n",
       "    </tr>\n",
       "  </thead>\n",
       "  <tbody>\n",
       "    <tr>\n",
       "      <th>0</th>\n",
       "      <td>.delphine5458joe.@gmail.com</td>\n",
       "      <td>DWR</td>\n",
       "      <td>781353</td>\n",
       "      <td>TRIGGER</td>\n",
       "      <td>2018-07-25</td>\n",
       "      <td>2018-07-27</td>\n",
       "      <td>1</td>\n",
       "      <td>NaN</td>\n",
       "      <td>None</td>\n",
       "    </tr>\n",
       "    <tr>\n",
       "      <th>1</th>\n",
       "      <td>.delphine5458joe.@gmail.com</td>\n",
       "      <td>DWR</td>\n",
       "      <td>781355</td>\n",
       "      <td>TRIGGER</td>\n",
       "      <td>2018-07-29</td>\n",
       "      <td>2018-08-06</td>\n",
       "      <td>1</td>\n",
       "      <td>10.00000</td>\n",
       "      <td>None</td>\n",
       "    </tr>\n",
       "    <tr>\n",
       "      <th>2</th>\n",
       "      <td>.delphine5458joe.@gmail.com</td>\n",
       "      <td>DWR</td>\n",
       "      <td>919433</td>\n",
       "      <td>NONE</td>\n",
       "      <td>2018-08-22</td>\n",
       "      <td>2018-08-24</td>\n",
       "      <td>1</td>\n",
       "      <td>0.00000</td>\n",
       "      <td>None</td>\n",
       "    </tr>\n",
       "    <tr>\n",
       "      <th>3</th>\n",
       "      <td>.delphine5458joe.@gmail.com</td>\n",
       "      <td>DWR</td>\n",
       "      <td>926540</td>\n",
       "      <td>NONE</td>\n",
       "      <td>2018-08-24</td>\n",
       "      <td>2018-08-24</td>\n",
       "      <td>1</td>\n",
       "      <td>18.00000</td>\n",
       "      <td>None</td>\n",
       "    </tr>\n",
       "    <tr>\n",
       "      <th>4</th>\n",
       "      <td>0.3mechanic@gmail.com</td>\n",
       "      <td>HERMAN MILLER</td>\n",
       "      <td>1506260</td>\n",
       "      <td>TRIGGER</td>\n",
       "      <td>2020-12-03</td>\n",
       "      <td>2020-12-03</td>\n",
       "      <td>1</td>\n",
       "      <td>NaN</td>\n",
       "      <td>None</td>\n",
       "    </tr>\n",
       "    <tr>\n",
       "      <th>...</th>\n",
       "      <td>...</td>\n",
       "      <td>...</td>\n",
       "      <td>...</td>\n",
       "      <td>...</td>\n",
       "      <td>...</td>\n",
       "      <td>...</td>\n",
       "      <td>...</td>\n",
       "      <td>...</td>\n",
       "      <td>...</td>\n",
       "    </tr>\n",
       "    <tr>\n",
       "      <th>28074263</th>\n",
       "      <td>_e3@yahoo.com</td>\n",
       "      <td>DWR</td>\n",
       "      <td>6573684994310144</td>\n",
       "      <td>SALE</td>\n",
       "      <td>2020-11-30</td>\n",
       "      <td>2020-11-30</td>\n",
       "      <td>1</td>\n",
       "      <td>5.00000</td>\n",
       "      <td>None</td>\n",
       "    </tr>\n",
       "    <tr>\n",
       "      <th>28074264</th>\n",
       "      <td>_e3@yahoo.com</td>\n",
       "      <td>DWR</td>\n",
       "      <td>4315774</td>\n",
       "      <td>TRANSACTIONAL</td>\n",
       "      <td>2020-11-30</td>\n",
       "      <td>2020-12-02</td>\n",
       "      <td>0</td>\n",
       "      <td>2.00000</td>\n",
       "      <td>None</td>\n",
       "    </tr>\n",
       "    <tr>\n",
       "      <th>28074265</th>\n",
       "      <td>_e3@yahoo.com</td>\n",
       "      <td>DWR</td>\n",
       "      <td>4378806</td>\n",
       "      <td>NONE</td>\n",
       "      <td>2020-12-10</td>\n",
       "      <td>2020-12-11</td>\n",
       "      <td>1</td>\n",
       "      <td>9.00000</td>\n",
       "      <td>None</td>\n",
       "    </tr>\n",
       "    <tr>\n",
       "      <th>28074266</th>\n",
       "      <td>_e3@yahoo.com</td>\n",
       "      <td>DWR</td>\n",
       "      <td>5314084565123072</td>\n",
       "      <td>SALE</td>\n",
       "      <td>2021-01-01</td>\n",
       "      <td>2021-01-03</td>\n",
       "      <td>1</td>\n",
       "      <td>23.00000</td>\n",
       "      <td>None</td>\n",
       "    </tr>\n",
       "    <tr>\n",
       "      <th>28074267</th>\n",
       "      <td>_nono@nomicruz.com</td>\n",
       "      <td>HAY</td>\n",
       "      <td>3939441</td>\n",
       "      <td>TRIGGER</td>\n",
       "      <td>2021-03-29</td>\n",
       "      <td>2021-03-29</td>\n",
       "      <td>1</td>\n",
       "      <td>NaN</td>\n",
       "      <td>None</td>\n",
       "    </tr>\n",
       "  </tbody>\n",
       "</table>\n",
       "<p>28074268 rows × 9 columns</p>\n",
       "</div>"
      ],
      "text/plain": [
       "                                email          brand       envelope_no  \\\n",
       "0         .delphine5458joe.@gmail.com            DWR            781353   \n",
       "1         .delphine5458joe.@gmail.com            DWR            781355   \n",
       "2         .delphine5458joe.@gmail.com            DWR            919433   \n",
       "3         .delphine5458joe.@gmail.com            DWR            926540   \n",
       "4               0.3mechanic@gmail.com  HERMAN MILLER           1506260   \n",
       "...                               ...            ...               ...   \n",
       "28074263                _e3@yahoo.com            DWR  6573684994310144   \n",
       "28074264                _e3@yahoo.com            DWR           4315774   \n",
       "28074265                _e3@yahoo.com            DWR           4378806   \n",
       "28074266                _e3@yahoo.com            DWR  5314084565123072   \n",
       "28074267           _nono@nomicruz.com            HAY           3939441   \n",
       "\n",
       "               category first_send_date first_engage_date  num_opens     diff  \\\n",
       "0               TRIGGER      2018-07-25        2018-07-27          1      NaN   \n",
       "1               TRIGGER      2018-07-29        2018-08-06          1 10.00000   \n",
       "2                  NONE      2018-08-22        2018-08-24          1  0.00000   \n",
       "3                  NONE      2018-08-24        2018-08-24          1 18.00000   \n",
       "4               TRIGGER      2020-12-03        2020-12-03          1      NaN   \n",
       "...                 ...             ...               ...        ...      ...   \n",
       "28074263           SALE      2020-11-30        2020-11-30          1  5.00000   \n",
       "28074264  TRANSACTIONAL      2020-11-30        2020-12-02          0  2.00000   \n",
       "28074265           NONE      2020-12-10        2020-12-11          1  9.00000   \n",
       "28074266           SALE      2021-01-01        2021-01-03          1 23.00000   \n",
       "28074267        TRIGGER      2021-03-29        2021-03-29          1      NaN   \n",
       "\n",
       "         is_blacklist  \n",
       "0                None  \n",
       "1                None  \n",
       "2                None  \n",
       "3                None  \n",
       "4                None  \n",
       "...               ...  \n",
       "28074263         None  \n",
       "28074264         None  \n",
       "28074265         None  \n",
       "28074266         None  \n",
       "28074267         None  \n",
       "\n",
       "[28074268 rows x 9 columns]"
      ]
     },
     "execution_count": 216,
     "metadata": {},
     "output_type": "execute_result"
    },
    {
     "name": "stdout",
     "output_type": "stream",
     "text": [
      "time: 16.8 ms (started: 2021-04-20 13:49:16 -07:00)\n"
     ]
    }
   ],
   "source": [
    "email_engagement"
   ]
  },
  {
   "cell_type": "code",
   "execution_count": 217,
   "metadata": {},
   "outputs": [
    {
     "name": "stdout",
     "output_type": "stream",
     "text": [
      "time: 555 ms (started: 2021-04-20 13:49:19 -07:00)\n"
     ]
    }
   ],
   "source": [
    "email_summary_first_last = email_summary_max.merge(email_summary_min, on='email')"
   ]
  },
  {
   "cell_type": "code",
   "execution_count": 86,
   "metadata": {},
   "outputs": [
    {
     "data": {
      "text/plain": [
       "415025"
      ]
     },
     "execution_count": 86,
     "metadata": {},
     "output_type": "execute_result"
    },
    {
     "name": "stdout",
     "output_type": "stream",
     "text": [
      "time: 337 ms (started: 2021-04-20 01:51:13 -07:00)\n"
     ]
    }
   ],
   "source": [
    "email_summary_first_last['email'].nunique()"
   ]
  },
  {
   "cell_type": "code",
   "execution_count": null,
   "metadata": {},
   "outputs": [],
   "source": [
    "group1 = email_summary_first_last[(email_summary_first_last['last_send_date'] < \n",
    "                                   datetime.strptime('2020-01-01', '%Y-%m-%d')) & \n",
    "                                  (email_summary_first_last['first_send_date'] > \n",
    "                                   datetime.strptime('2019-06-01', '%Y-%m-%d')) ]"
   ]
  },
  {
   "cell_type": "code",
   "execution_count": 87,
   "metadata": {},
   "outputs": [
    {
     "name": "stdout",
     "output_type": "stream",
     "text": [
      "time: 16 ms (started: 2021-04-20 01:51:13 -07:00)\n"
     ]
    }
   ],
   "source": [
    "group1 = email_summary_first_last[(email_summary_first_last['last_send_date'] < \n",
    "                                   datetime.strptime('2020-01-01', '%Y-%m-%d')) & \n",
    "                                  (email_summary_first_last['first_send_date'] > \n",
    "                                   datetime.strptime('2019-06-01', '%Y-%m-%d')) ]"
   ]
  },
  {
   "cell_type": "code",
   "execution_count": 88,
   "metadata": {},
   "outputs": [
    {
     "name": "stdout",
     "output_type": "stream",
     "text": [
      "time: 18.9 ms (started: 2021-04-20 01:51:13 -07:00)\n"
     ]
    }
   ],
   "source": [
    "group1 = email_summary_first_last[(email_summary_first_last['last_send_date'] < \n",
    "                                   email_summary_first_last['first_send_date'] + timedelta(days=180)) &\n",
    "                                 (email_summary_first_last['last_send_date'] <\n",
    "                                 datetime.strptime('2020-10-01', '%Y-%m-%d'))]"
   ]
  },
  {
   "cell_type": "code",
   "execution_count": 90,
   "metadata": {},
   "outputs": [
    {
     "data": {
      "text/plain": [
       "count   123808.00000\n",
       "mean         3.14230\n",
       "std          5.21998\n",
       "min          0.00000\n",
       "25%          1.00000\n",
       "50%          2.00000\n",
       "75%          4.00000\n",
       "max        158.00000\n",
       "Name: num_opens, dtype: float64"
      ]
     },
     "execution_count": 90,
     "metadata": {},
     "output_type": "execute_result"
    },
    {
     "name": "stdout",
     "output_type": "stream",
     "text": [
      "time: 395 ms (started: 2021-04-20 01:55:24 -07:00)\n"
     ]
    }
   ],
   "source": [
    "email[email['email'].isin(group1['email'])]['num_opens'].describe()"
   ]
  },
  {
   "cell_type": "code",
   "execution_count": 91,
   "metadata": {},
   "outputs": [
    {
     "data": {
      "text/plain": [
       "123808"
      ]
     },
     "execution_count": 91,
     "metadata": {},
     "output_type": "execute_result"
    },
    {
     "name": "stdout",
     "output_type": "stream",
     "text": [
      "time: 89.9 ms (started: 2021-04-20 01:55:29 -07:00)\n"
     ]
    }
   ],
   "source": [
    "group1['email'].nunique()"
   ]
  },
  {
   "cell_type": "code",
   "execution_count": 92,
   "metadata": {},
   "outputs": [
    {
     "data": {
      "text/plain": [
       "123808"
      ]
     },
     "execution_count": 92,
     "metadata": {},
     "output_type": "execute_result"
    },
    {
     "name": "stdout",
     "output_type": "stream",
     "text": [
      "time: 321 ms (started: 2021-04-20 01:55:29 -07:00)\n"
     ]
    }
   ],
   "source": [
    "email[email['email'].isin(group1['email'])].shape[0]"
   ]
  },
  {
   "cell_type": "code",
   "execution_count": 93,
   "metadata": {},
   "outputs": [
    {
     "data": {
      "text/plain": [
       "has_unsubbed    2684\n",
       "has_spammed     1364\n",
       "dtype: int64"
      ]
     },
     "execution_count": 93,
     "metadata": {},
     "output_type": "execute_result"
    },
    {
     "name": "stdout",
     "output_type": "stream",
     "text": [
      "time: 316 ms (started: 2021-04-20 01:55:30 -07:00)\n"
     ]
    }
   ],
   "source": [
    "email[email['email'].isin(group1['email'])][['has_unsubbed', 'has_spammed']].sum()"
   ]
  },
  {
   "cell_type": "code",
   "execution_count": 94,
   "metadata": {},
   "outputs": [
    {
     "name": "stdout",
     "output_type": "stream",
     "text": [
      "time: 5.66 ms (started: 2021-04-20 01:55:30 -07:00)\n"
     ]
    }
   ],
   "source": [
    "group2 = email_summary_first_last[(email_summary_first_last['last_send_date'] < \n",
    "                                   datetime.strptime('2020-06-01', '%Y-%m-%d')) & \n",
    "                                  (email_summary_first_last['first_send_date'] > \n",
    "                                   datetime.strptime('2019-06-01', '%Y-%m-%d')) ]"
   ]
  },
  {
   "cell_type": "code",
   "execution_count": 111,
   "metadata": {},
   "outputs": [
    {
     "name": "stdout",
     "output_type": "stream",
     "text": [
      "time: 16.8 ms (started: 2021-04-20 01:56:16 -07:00)\n"
     ]
    }
   ],
   "source": [
    "group2 = email_summary_first_last[(email_summary_first_last['last_send_date'] < \n",
    "                                   email_summary_first_last['first_send_date'] + timedelta(days=360))\n",
    "                                 &\n",
    "                                 (email_summary_first_last['last_send_date'] >= \n",
    "                                   email_summary_first_last['first_send_date'] + timedelta(days=180))\n",
    "                                &\n",
    "                                 (email_summary_first_last['last_send_date'] <\n",
    "                                 datetime.strptime('2021-04-01', '%Y-%m-%d'))]"
   ]
  },
  {
   "cell_type": "code",
   "execution_count": 112,
   "metadata": {},
   "outputs": [
    {
     "data": {
      "text/plain": [
       "count   47587.00000\n",
       "mean       11.30300\n",
       "std        13.66559\n",
       "min         0.00000\n",
       "25%         4.00000\n",
       "50%         7.00000\n",
       "75%        13.00000\n",
       "max       216.00000\n",
       "Name: num_opens, dtype: float64"
      ]
     },
     "execution_count": 112,
     "metadata": {},
     "output_type": "execute_result"
    },
    {
     "name": "stdout",
     "output_type": "stream",
     "text": [
      "time: 312 ms (started: 2021-04-20 01:56:17 -07:00)\n"
     ]
    }
   ],
   "source": [
    "email[email['email'].isin(group2['email'])]['num_opens'].describe()"
   ]
  },
  {
   "cell_type": "code",
   "execution_count": 113,
   "metadata": {},
   "outputs": [
    {
     "data": {
      "text/plain": [
       "47587"
      ]
     },
     "execution_count": 113,
     "metadata": {},
     "output_type": "execute_result"
    },
    {
     "name": "stdout",
     "output_type": "stream",
     "text": [
      "time: 28.4 ms (started: 2021-04-20 01:56:26 -07:00)\n"
     ]
    }
   ],
   "source": [
    "group2['email'].nunique()"
   ]
  },
  {
   "cell_type": "code",
   "execution_count": 114,
   "metadata": {},
   "outputs": [
    {
     "data": {
      "text/plain": [
       "47587"
      ]
     },
     "execution_count": 114,
     "metadata": {},
     "output_type": "execute_result"
    },
    {
     "name": "stdout",
     "output_type": "stream",
     "text": [
      "time: 283 ms (started: 2021-04-20 01:56:27 -07:00)\n"
     ]
    }
   ],
   "source": [
    "email[email['email'].isin(group2['email'])].shape[0]"
   ]
  },
  {
   "cell_type": "code",
   "execution_count": 115,
   "metadata": {},
   "outputs": [
    {
     "data": {
      "text/plain": [
       "has_unsubbed    1679\n",
       "has_spammed      377\n",
       "dtype: int64"
      ]
     },
     "execution_count": 115,
     "metadata": {},
     "output_type": "execute_result"
    },
    {
     "name": "stdout",
     "output_type": "stream",
     "text": [
      "time: 293 ms (started: 2021-04-20 01:56:27 -07:00)\n"
     ]
    }
   ],
   "source": [
    "email[email['email'].isin(group2['email'])][['has_unsubbed', 'has_spammed']].sum()"
   ]
  },
  {
   "cell_type": "code",
   "execution_count": 116,
   "metadata": {},
   "outputs": [
    {
     "name": "stdout",
     "output_type": "stream",
     "text": [
      "time: 659 ms (started: 2021-04-20 01:56:30 -07:00)\n"
     ]
    }
   ],
   "source": [
    "group1_orders = mapped_orders.merge(group1, on='email')\n",
    "group2_orders = mapped_orders.merge(group2, on='email')"
   ]
  },
  {
   "cell_type": "code",
   "execution_count": 117,
   "metadata": {
    "scrolled": true
   },
   "outputs": [
    {
     "name": "stdout",
     "output_type": "stream",
     "text": [
      "time: 20.3 ms (started: 2021-04-20 01:56:30 -07:00)\n"
     ]
    }
   ],
   "source": [
    "group1_orders_in_year = group1_orders[(group1_orders['trandate'] >=  datetime.strptime('2020-01-01', '%Y-%m-%d')) \n",
    "                                      &\n",
    "                                      (group1_orders['trandate'] <  datetime.strptime('2020-06-01', '%Y-%m-%d'))]"
   ]
  },
  {
   "cell_type": "code",
   "execution_count": 118,
   "metadata": {},
   "outputs": [
    {
     "name": "stdout",
     "output_type": "stream",
     "text": [
      "time: 5.19 ms (started: 2021-04-20 01:56:34 -07:00)\n"
     ]
    }
   ],
   "source": [
    "group1_orders_in_year = group1_orders[(group1_orders['trandate'] >=  group1_orders['first_send_date'] \n",
    "                                       + timedelta(180)) \n",
    "                                      &\n",
    "                                      (group1_orders['trandate'] <  group1_orders['first_send_date'] \n",
    "                                       + timedelta(360)) ]"
   ]
  },
  {
   "cell_type": "code",
   "execution_count": 119,
   "metadata": {},
   "outputs": [
    {
     "data": {
      "text/plain": [
       "(4675, 0.0202167872835358)"
      ]
     },
     "execution_count": 119,
     "metadata": {},
     "output_type": "execute_result"
    },
    {
     "name": "stdout",
     "output_type": "stream",
     "text": [
      "time: 87.1 ms (started: 2021-04-20 01:56:36 -07:00)\n"
     ]
    }
   ],
   "source": [
    "group1_orders_in_year['num_orders'].sum(), group1_orders_in_year['email'].nunique()/group1['email'].nunique()"
   ]
  },
  {
   "cell_type": "code",
   "execution_count": 130,
   "metadata": {},
   "outputs": [
    {
     "data": {
      "text/plain": [
       "11094647.88193373"
      ]
     },
     "execution_count": 130,
     "metadata": {},
     "output_type": "execute_result"
    },
    {
     "name": "stdout",
     "output_type": "stream",
     "text": [
      "time: 1.63 ms (started: 2021-04-20 02:03:33 -07:00)\n"
     ]
    }
   ],
   "source": [
    "group1_orders_in_year['revenue'].sum()"
   ]
  },
  {
   "cell_type": "code",
   "execution_count": 120,
   "metadata": {},
   "outputs": [
    {
     "data": {
      "text/plain": [
       "952.0"
      ]
     },
     "execution_count": 120,
     "metadata": {},
     "output_type": "execute_result"
    },
    {
     "name": "stdout",
     "output_type": "stream",
     "text": [
      "time: 2.42 ms (started: 2021-04-20 01:56:37 -07:00)\n"
     ]
    }
   ],
   "source": [
    "group1_orders_in_year['revenue'].median()"
   ]
  },
  {
   "cell_type": "code",
   "execution_count": 121,
   "metadata": {},
   "outputs": [
    {
     "data": {
      "text/plain": [
       "2373.186712713097"
      ]
     },
     "execution_count": 121,
     "metadata": {},
     "output_type": "execute_result"
    },
    {
     "name": "stdout",
     "output_type": "stream",
     "text": [
      "time: 2.05 ms (started: 2021-04-20 01:56:39 -07:00)\n"
     ]
    }
   ],
   "source": [
    "group1_orders_in_year['revenue'].sum()/group1_orders_in_year['num_orders'].sum()"
   ]
  },
  {
   "cell_type": "code",
   "execution_count": 133,
   "metadata": {},
   "outputs": [
    {
     "data": {
      "text/plain": [
       "89.61172042140839"
      ]
     },
     "execution_count": 133,
     "metadata": {},
     "output_type": "execute_result"
    },
    {
     "name": "stdout",
     "output_type": "stream",
     "text": [
      "time: 90.7 ms (started: 2021-04-20 02:07:04 -07:00)\n"
     ]
    }
   ],
   "source": [
    "group1_orders_in_year['revenue'].sum()/group1['email'].nunique()"
   ]
  },
  {
   "cell_type": "code",
   "execution_count": 123,
   "metadata": {},
   "outputs": [
    {
     "data": {
      "text/plain": [
       "1112.36961818"
      ]
     },
     "execution_count": 123,
     "metadata": {},
     "output_type": "execute_result"
    },
    {
     "name": "stdout",
     "output_type": "stream",
     "text": [
      "time: 5.86 ms (started: 2021-04-20 01:56:43 -07:00)\n"
     ]
    }
   ],
   "source": [
    "group1_orders_in_year.groupby('email')['revenue'].sum().median()"
   ]
  },
  {
   "cell_type": "code",
   "execution_count": 124,
   "metadata": {
    "scrolled": true
   },
   "outputs": [
    {
     "name": "stdout",
     "output_type": "stream",
     "text": [
      "time: 10.9 ms (started: 2021-04-20 01:56:45 -07:00)\n"
     ]
    }
   ],
   "source": [
    "group2_orders_in_year = group2_orders[(group2_orders['trandate'] >=  datetime.strptime('2020-01-01', '%Y-%m-%d')) \n",
    "                                      &\n",
    "                                      (group2_orders['trandate'] <  datetime.strptime('2020-06-01', '%Y-%m-%d'))]"
   ]
  },
  {
   "cell_type": "code",
   "execution_count": 125,
   "metadata": {},
   "outputs": [
    {
     "name": "stdout",
     "output_type": "stream",
     "text": [
      "time: 4.67 ms (started: 2021-04-20 01:56:45 -07:00)\n"
     ]
    }
   ],
   "source": [
    "group2_orders_in_year = group2_orders[(group2_orders['trandate'] >=  group2_orders['first_send_date'] \n",
    "                                       + timedelta(180)) \n",
    "                                      &\n",
    "                                      (group2_orders['trandate'] <  group2_orders['first_send_date'] \n",
    "                                       + timedelta(360)) ]"
   ]
  },
  {
   "cell_type": "code",
   "execution_count": 132,
   "metadata": {},
   "outputs": [
    {
     "data": {
      "text/plain": [
       "7936606.79617209"
      ]
     },
     "execution_count": 132,
     "metadata": {},
     "output_type": "execute_result"
    },
    {
     "name": "stdout",
     "output_type": "stream",
     "text": [
      "time: 1.66 ms (started: 2021-04-20 02:03:44 -07:00)\n"
     ]
    }
   ],
   "source": [
    "group2_orders_in_year['revenue'].sum()"
   ]
  },
  {
   "cell_type": "code",
   "execution_count": 126,
   "metadata": {},
   "outputs": [
    {
     "data": {
      "text/plain": [
       "(4311, 0.05062306932565617)"
      ]
     },
     "execution_count": 126,
     "metadata": {},
     "output_type": "execute_result"
    },
    {
     "name": "stdout",
     "output_type": "stream",
     "text": [
      "time: 32.3 ms (started: 2021-04-20 01:56:46 -07:00)\n"
     ]
    }
   ],
   "source": [
    "group2_orders_in_year['num_orders'].sum(), group2_orders_in_year['email'].nunique()/group2['email'].nunique()"
   ]
  },
  {
   "cell_type": "code",
   "execution_count": 127,
   "metadata": {},
   "outputs": [
    {
     "data": {
      "text/plain": [
       "1841.0129427446277"
      ]
     },
     "execution_count": 127,
     "metadata": {},
     "output_type": "execute_result"
    },
    {
     "name": "stdout",
     "output_type": "stream",
     "text": [
      "time: 2.07 ms (started: 2021-04-20 01:56:53 -07:00)\n"
     ]
    }
   ],
   "source": [
    "group2_orders_in_year['revenue'].sum()/group2_orders_in_year['num_orders'].sum()"
   ]
  },
  {
   "cell_type": "code",
   "execution_count": 134,
   "metadata": {},
   "outputs": [
    {
     "data": {
      "text/plain": [
       "166.78098632340954"
      ]
     },
     "execution_count": 134,
     "metadata": {},
     "output_type": "execute_result"
    },
    {
     "name": "stdout",
     "output_type": "stream",
     "text": [
      "time: 27.9 ms (started: 2021-04-20 02:07:21 -07:00)\n"
     ]
    }
   ],
   "source": [
    "group2_orders_in_year['revenue'].sum()/group2['email'].nunique()"
   ]
  },
  {
   "cell_type": "code",
   "execution_count": 172,
   "metadata": {},
   "outputs": [
    {
     "data": {
      "text/plain": [
       "16800000"
      ]
     },
     "execution_count": 172,
     "metadata": {},
     "output_type": "execute_result"
    },
    {
     "name": "stdout",
     "output_type": "stream",
     "text": [
      "time: 1.68 ms (started: 2021-04-20 13:06:36 -07:00)\n"
     ]
    }
   ],
   "source": [
    "70*240000"
   ]
  },
  {
   "cell_type": "code",
   "execution_count": 129,
   "metadata": {},
   "outputs": [
    {
     "data": {
      "text/plain": [
       "700.0"
      ]
     },
     "execution_count": 129,
     "metadata": {},
     "output_type": "execute_result"
    },
    {
     "name": "stdout",
     "output_type": "stream",
     "text": [
      "time: 1.99 ms (started: 2021-04-20 01:56:56 -07:00)\n"
     ]
    }
   ],
   "source": [
    "group2_orders_in_year['revenue'].median()"
   ]
  },
  {
   "cell_type": "code",
   "execution_count": 136,
   "metadata": {},
   "outputs": [
    {
     "data": {
      "text/plain": [
       "892.5"
      ]
     },
     "execution_count": 136,
     "metadata": {},
     "output_type": "execute_result"
    },
    {
     "name": "stdout",
     "output_type": "stream",
     "text": [
      "time: 159 ms (started: 2021-04-20 13:01:36 -07:00)\n"
     ]
    }
   ],
   "source": [
    "group2_orders_in_year.groupby('email')['revenue'].sum().median()"
   ]
  },
  {
   "cell_type": "markdown",
   "metadata": {},
   "source": [
    "**We took people who last received an email in the first half of 2020 and people who reeived an email in the latter half of 2020 and compared their purchase behavior in 2021. We want to know if the proportion of people who placed an order is different**\n",
    "\n",
    "**5% of the latter group placed an order in 2021 while 2% of the first group placed an order in 2021**"
   ]
  },
  {
   "cell_type": "markdown",
   "metadata": {},
   "source": [
    "## If we blacklisted people after 6 months of inactivity, how much money would we lose\n",
    "\n",
    "In this section, we will find people who had 6 months of inactivty and received an email after that period AND placed an order wtihin 2 weeks of that email. We will calculate how much money we received from this group"
   ]
  },
  {
   "cell_type": "code",
   "execution_count": 242,
   "metadata": {},
   "outputs": [
    {
     "data": {
      "text/html": [
       "<div>\n",
       "<style scoped>\n",
       "    .dataframe tbody tr th:only-of-type {\n",
       "        vertical-align: middle;\n",
       "    }\n",
       "\n",
       "    .dataframe tbody tr th {\n",
       "        vertical-align: top;\n",
       "    }\n",
       "\n",
       "    .dataframe thead th {\n",
       "        text-align: right;\n",
       "    }\n",
       "</style>\n",
       "<table border=\"1\" class=\"dataframe\">\n",
       "  <thead>\n",
       "    <tr style=\"text-align: right;\">\n",
       "      <th></th>\n",
       "      <th>email</th>\n",
       "      <th>brand</th>\n",
       "      <th>envelope_no</th>\n",
       "      <th>category</th>\n",
       "      <th>first_send_date</th>\n",
       "      <th>first_engage_date</th>\n",
       "      <th>num_opens</th>\n",
       "      <th>diff</th>\n",
       "      <th>is_blacklist</th>\n",
       "      <th>last_engage_date</th>\n",
       "    </tr>\n",
       "  </thead>\n",
       "  <tbody>\n",
       "    <tr>\n",
       "      <th>0</th>\n",
       "      <td>.delphine5458joe.@gmail.com</td>\n",
       "      <td>DWR</td>\n",
       "      <td>919433</td>\n",
       "      <td>NONE</td>\n",
       "      <td>2018-08-22</td>\n",
       "      <td>2018-08-24</td>\n",
       "      <td>1</td>\n",
       "      <td>0.00000</td>\n",
       "      <td>None</td>\n",
       "      <td>2018-08-24</td>\n",
       "    </tr>\n",
       "    <tr>\n",
       "      <th>1</th>\n",
       "      <td>.delphine5458joe.@gmail.com</td>\n",
       "      <td>DWR</td>\n",
       "      <td>926540</td>\n",
       "      <td>NONE</td>\n",
       "      <td>2018-08-24</td>\n",
       "      <td>2018-08-24</td>\n",
       "      <td>1</td>\n",
       "      <td>18.00000</td>\n",
       "      <td>None</td>\n",
       "      <td>2018-08-24</td>\n",
       "    </tr>\n",
       "    <tr>\n",
       "      <th>6</th>\n",
       "      <td>0.justin.lim@gmail.com</td>\n",
       "      <td>DWR</td>\n",
       "      <td>3362874</td>\n",
       "      <td>SALE</td>\n",
       "      <td>2020-01-16</td>\n",
       "      <td>2020-01-16</td>\n",
       "      <td>1</td>\n",
       "      <td>9.00000</td>\n",
       "      <td>None</td>\n",
       "      <td>2020-01-16</td>\n",
       "    </tr>\n",
       "    <tr>\n",
       "      <th>25</th>\n",
       "      <td>001@thelacunaproject.com</td>\n",
       "      <td>DWR</td>\n",
       "      <td>5674472938143744</td>\n",
       "      <td>SALE</td>\n",
       "      <td>2019-01-04</td>\n",
       "      <td>2019-01-04</td>\n",
       "      <td>1</td>\n",
       "      <td>26.00000</td>\n",
       "      <td>None</td>\n",
       "      <td>2019-01-04</td>\n",
       "    </tr>\n",
       "    <tr>\n",
       "      <th>26</th>\n",
       "      <td>002lovebirds@att.net</td>\n",
       "      <td>DWR</td>\n",
       "      <td>5065735730102272</td>\n",
       "      <td>SALE</td>\n",
       "      <td>2017-10-19</td>\n",
       "      <td>2017-10-20</td>\n",
       "      <td>1</td>\n",
       "      <td>NaN</td>\n",
       "      <td>None</td>\n",
       "      <td>2017-10-20</td>\n",
       "    </tr>\n",
       "    <tr>\n",
       "      <th>...</th>\n",
       "      <td>...</td>\n",
       "      <td>...</td>\n",
       "      <td>...</td>\n",
       "      <td>...</td>\n",
       "      <td>...</td>\n",
       "      <td>...</td>\n",
       "      <td>...</td>\n",
       "      <td>...</td>\n",
       "      <td>...</td>\n",
       "      <td>...</td>\n",
       "    </tr>\n",
       "    <tr>\n",
       "      <th>8102755</th>\n",
       "      <td>z_wilkerson@yahoo.com</td>\n",
       "      <td>DWR</td>\n",
       "      <td>4475384</td>\n",
       "      <td>SALE</td>\n",
       "      <td>2021-01-04</td>\n",
       "      <td>2021-01-04</td>\n",
       "      <td>1</td>\n",
       "      <td>7.00000</td>\n",
       "      <td>None</td>\n",
       "      <td>2020-07-09</td>\n",
       "    </tr>\n",
       "    <tr>\n",
       "      <th>8102756</th>\n",
       "      <td>z_wilkerson@yahoo.com</td>\n",
       "      <td>DWR</td>\n",
       "      <td>4503373</td>\n",
       "      <td>SALE</td>\n",
       "      <td>2021-01-12</td>\n",
       "      <td>2021-01-12</td>\n",
       "      <td>1</td>\n",
       "      <td>8.00000</td>\n",
       "      <td>None</td>\n",
       "      <td>2020-07-09</td>\n",
       "    </tr>\n",
       "    <tr>\n",
       "      <th>8102757</th>\n",
       "      <td>z_wilkerson@yahoo.com</td>\n",
       "      <td>DWR</td>\n",
       "      <td>4683101</td>\n",
       "      <td>SALE</td>\n",
       "      <td>2021-02-28</td>\n",
       "      <td>2021-02-28</td>\n",
       "      <td>1</td>\n",
       "      <td>47.00000</td>\n",
       "      <td>None</td>\n",
       "      <td>2020-07-09</td>\n",
       "    </tr>\n",
       "    <tr>\n",
       "      <th>8102758</th>\n",
       "      <td>z_wilkerson@yahoo.com</td>\n",
       "      <td>DWR</td>\n",
       "      <td>4747742</td>\n",
       "      <td>SALE</td>\n",
       "      <td>2021-03-16</td>\n",
       "      <td>2021-03-16</td>\n",
       "      <td>1</td>\n",
       "      <td>16.00000</td>\n",
       "      <td>None</td>\n",
       "      <td>2020-07-09</td>\n",
       "    </tr>\n",
       "    <tr>\n",
       "      <th>8102760</th>\n",
       "      <td>_@anur.ag</td>\n",
       "      <td>DWR</td>\n",
       "      <td>5035321179242496</td>\n",
       "      <td>SALE</td>\n",
       "      <td>2017-08-09</td>\n",
       "      <td>2017-08-09</td>\n",
       "      <td>1</td>\n",
       "      <td>22.00000</td>\n",
       "      <td>None</td>\n",
       "      <td>2017-08-09</td>\n",
       "    </tr>\n",
       "  </tbody>\n",
       "</table>\n",
       "<p>2499752 rows × 10 columns</p>\n",
       "</div>"
      ],
      "text/plain": [
       "                               email brand       envelope_no category  \\\n",
       "0        .delphine5458joe.@gmail.com   DWR            919433     NONE   \n",
       "1        .delphine5458joe.@gmail.com   DWR            926540     NONE   \n",
       "6             0.justin.lim@gmail.com   DWR           3362874     SALE   \n",
       "25          001@thelacunaproject.com   DWR  5674472938143744     SALE   \n",
       "26              002lovebirds@att.net   DWR  5065735730102272     SALE   \n",
       "...                              ...   ...               ...      ...   \n",
       "8102755        z_wilkerson@yahoo.com   DWR           4475384     SALE   \n",
       "8102756        z_wilkerson@yahoo.com   DWR           4503373     SALE   \n",
       "8102757        z_wilkerson@yahoo.com   DWR           4683101     SALE   \n",
       "8102758        z_wilkerson@yahoo.com   DWR           4747742     SALE   \n",
       "8102760                    _@anur.ag   DWR  5035321179242496     SALE   \n",
       "\n",
       "        first_send_date first_engage_date  num_opens     diff is_blacklist  \\\n",
       "0            2018-08-22        2018-08-24          1  0.00000         None   \n",
       "1            2018-08-24        2018-08-24          1 18.00000         None   \n",
       "6            2020-01-16        2020-01-16          1  9.00000         None   \n",
       "25           2019-01-04        2019-01-04          1 26.00000         None   \n",
       "26           2017-10-19        2017-10-20          1      NaN         None   \n",
       "...                 ...               ...        ...      ...          ...   \n",
       "8102755      2021-01-04        2021-01-04          1  7.00000         None   \n",
       "8102756      2021-01-12        2021-01-12          1  8.00000         None   \n",
       "8102757      2021-02-28        2021-02-28          1 47.00000         None   \n",
       "8102758      2021-03-16        2021-03-16          1 16.00000         None   \n",
       "8102760      2017-08-09        2017-08-09          1 22.00000         None   \n",
       "\n",
       "        last_engage_date  \n",
       "0             2018-08-24  \n",
       "1             2018-08-24  \n",
       "6             2020-01-16  \n",
       "25            2019-01-04  \n",
       "26            2017-10-20  \n",
       "...                  ...  \n",
       "8102755       2020-07-09  \n",
       "8102756       2020-07-09  \n",
       "8102757       2020-07-09  \n",
       "8102758       2020-07-09  \n",
       "8102760       2017-08-09  \n",
       "\n",
       "[2499752 rows x 10 columns]"
      ]
     },
     "execution_count": 242,
     "metadata": {},
     "output_type": "execute_result"
    },
    {
     "name": "stdout",
     "output_type": "stream",
     "text": [
      "time: 10.1 s (started: 2021-04-20 23:33:05 -07:00)\n"
     ]
    }
   ],
   "source": [
    "to_blacklist = email_summary_first_last[email_summary_first_last['last_engage_date'] \n",
    "                         < datetime.strptime('2020-10-01', '%Y-%m-%d')][['email','last_engage_date']]\n",
    "\n",
    "to_blacklist['email'].isin(reactivation_audience['Email_Address'].values).sum()\n",
    "\n",
    "non_transaction_engagement[\n",
    "    non_transaction_engagement['email'].isin(reactivation_audience['Email_Address'])]['email'].nunique()\n",
    "\n",
    "blacklist_email_last_engage_date = non_transaction_engagement[\n",
    "    non_transaction_engagement['diff']>=180][['email','first_engage_date']].drop_duplicates()\n",
    "blacklist_last_engage_date = blacklist_email_last_engage_date.groupby(\n",
    "    'email')['first_engage_date'].min().reset_index()\n",
    "blacklist_last_engage_date.columns = ['email', 'last_engage_date']\n",
    "\n",
    "final_blacklist = pd.concat(\n",
    "    [blacklist_last_engage_date,to_blacklist]).groupby('email')['last_engage_date'].min().reset_index()\n",
    "\n",
    "\n",
    "non_transaction_engagement_blacklist = non_transaction_engagement.merge(final_blacklist, on='email')\n",
    "\n",
    "non_transaction_engagement[\n",
    "    non_transaction_engagement['diff']>=180]\n",
    "\n",
    "non_transaction_engagement_blacklist[\n",
    "    non_transaction_engagement_blacklist['email']=='004671@zbths.org']\n",
    "\n",
    "email_after_blacklist = non_transaction_engagement_blacklist[\n",
    "    (non_transaction_engagement_blacklist['first_engage_date']\n",
    "     >= non_transaction_engagement_blacklist['last_engage_date'])\n",
    "]\n",
    "\n",
    "email_after_blacklist"
   ]
  },
  {
   "cell_type": "code",
   "execution_count": 243,
   "metadata": {},
   "outputs": [
    {
     "data": {
      "text/html": [
       "<div>\n",
       "<style scoped>\n",
       "    .dataframe tbody tr th:only-of-type {\n",
       "        vertical-align: middle;\n",
       "    }\n",
       "\n",
       "    .dataframe tbody tr th {\n",
       "        vertical-align: top;\n",
       "    }\n",
       "\n",
       "    .dataframe thead th {\n",
       "        text-align: right;\n",
       "    }\n",
       "</style>\n",
       "<table border=\"1\" class=\"dataframe\">\n",
       "  <thead>\n",
       "    <tr style=\"text-align: right;\">\n",
       "      <th></th>\n",
       "      <th>email</th>\n",
       "      <th>brand</th>\n",
       "      <th>envelope_no</th>\n",
       "      <th>category</th>\n",
       "      <th>first_send_date</th>\n",
       "      <th>first_engage_date</th>\n",
       "      <th>num_opens</th>\n",
       "      <th>diff</th>\n",
       "      <th>is_blacklist</th>\n",
       "      <th>last_engage_date</th>\n",
       "    </tr>\n",
       "  </thead>\n",
       "  <tbody>\n",
       "    <tr>\n",
       "      <th>0</th>\n",
       "      <td>.delphine5458joe.@gmail.com</td>\n",
       "      <td>DWR</td>\n",
       "      <td>919433</td>\n",
       "      <td>NONE</td>\n",
       "      <td>2018-08-22</td>\n",
       "      <td>2018-08-24</td>\n",
       "      <td>1</td>\n",
       "      <td>0.00000</td>\n",
       "      <td>None</td>\n",
       "      <td>2018-08-24</td>\n",
       "    </tr>\n",
       "    <tr>\n",
       "      <th>1</th>\n",
       "      <td>.delphine5458joe.@gmail.com</td>\n",
       "      <td>DWR</td>\n",
       "      <td>926540</td>\n",
       "      <td>NONE</td>\n",
       "      <td>2018-08-24</td>\n",
       "      <td>2018-08-24</td>\n",
       "      <td>1</td>\n",
       "      <td>18.00000</td>\n",
       "      <td>None</td>\n",
       "      <td>2018-08-24</td>\n",
       "    </tr>\n",
       "    <tr>\n",
       "      <th>6</th>\n",
       "      <td>0.justin.lim@gmail.com</td>\n",
       "      <td>DWR</td>\n",
       "      <td>3362874</td>\n",
       "      <td>SALE</td>\n",
       "      <td>2020-01-16</td>\n",
       "      <td>2020-01-16</td>\n",
       "      <td>1</td>\n",
       "      <td>9.00000</td>\n",
       "      <td>None</td>\n",
       "      <td>2020-01-16</td>\n",
       "    </tr>\n",
       "    <tr>\n",
       "      <th>25</th>\n",
       "      <td>001@thelacunaproject.com</td>\n",
       "      <td>DWR</td>\n",
       "      <td>5674472938143744</td>\n",
       "      <td>SALE</td>\n",
       "      <td>2019-01-04</td>\n",
       "      <td>2019-01-04</td>\n",
       "      <td>1</td>\n",
       "      <td>26.00000</td>\n",
       "      <td>None</td>\n",
       "      <td>2019-01-04</td>\n",
       "    </tr>\n",
       "    <tr>\n",
       "      <th>26</th>\n",
       "      <td>002lovebirds@att.net</td>\n",
       "      <td>DWR</td>\n",
       "      <td>5065735730102272</td>\n",
       "      <td>SALE</td>\n",
       "      <td>2017-10-19</td>\n",
       "      <td>2017-10-20</td>\n",
       "      <td>1</td>\n",
       "      <td>NaN</td>\n",
       "      <td>None</td>\n",
       "      <td>2017-10-20</td>\n",
       "    </tr>\n",
       "    <tr>\n",
       "      <th>...</th>\n",
       "      <td>...</td>\n",
       "      <td>...</td>\n",
       "      <td>...</td>\n",
       "      <td>...</td>\n",
       "      <td>...</td>\n",
       "      <td>...</td>\n",
       "      <td>...</td>\n",
       "      <td>...</td>\n",
       "      <td>...</td>\n",
       "      <td>...</td>\n",
       "    </tr>\n",
       "    <tr>\n",
       "      <th>8102755</th>\n",
       "      <td>z_wilkerson@yahoo.com</td>\n",
       "      <td>DWR</td>\n",
       "      <td>4475384</td>\n",
       "      <td>SALE</td>\n",
       "      <td>2021-01-04</td>\n",
       "      <td>2021-01-04</td>\n",
       "      <td>1</td>\n",
       "      <td>7.00000</td>\n",
       "      <td>None</td>\n",
       "      <td>2020-07-09</td>\n",
       "    </tr>\n",
       "    <tr>\n",
       "      <th>8102756</th>\n",
       "      <td>z_wilkerson@yahoo.com</td>\n",
       "      <td>DWR</td>\n",
       "      <td>4503373</td>\n",
       "      <td>SALE</td>\n",
       "      <td>2021-01-12</td>\n",
       "      <td>2021-01-12</td>\n",
       "      <td>1</td>\n",
       "      <td>8.00000</td>\n",
       "      <td>None</td>\n",
       "      <td>2020-07-09</td>\n",
       "    </tr>\n",
       "    <tr>\n",
       "      <th>8102757</th>\n",
       "      <td>z_wilkerson@yahoo.com</td>\n",
       "      <td>DWR</td>\n",
       "      <td>4683101</td>\n",
       "      <td>SALE</td>\n",
       "      <td>2021-02-28</td>\n",
       "      <td>2021-02-28</td>\n",
       "      <td>1</td>\n",
       "      <td>47.00000</td>\n",
       "      <td>None</td>\n",
       "      <td>2020-07-09</td>\n",
       "    </tr>\n",
       "    <tr>\n",
       "      <th>8102758</th>\n",
       "      <td>z_wilkerson@yahoo.com</td>\n",
       "      <td>DWR</td>\n",
       "      <td>4747742</td>\n",
       "      <td>SALE</td>\n",
       "      <td>2021-03-16</td>\n",
       "      <td>2021-03-16</td>\n",
       "      <td>1</td>\n",
       "      <td>16.00000</td>\n",
       "      <td>None</td>\n",
       "      <td>2020-07-09</td>\n",
       "    </tr>\n",
       "    <tr>\n",
       "      <th>8102760</th>\n",
       "      <td>_@anur.ag</td>\n",
       "      <td>DWR</td>\n",
       "      <td>5035321179242496</td>\n",
       "      <td>SALE</td>\n",
       "      <td>2017-08-09</td>\n",
       "      <td>2017-08-09</td>\n",
       "      <td>1</td>\n",
       "      <td>22.00000</td>\n",
       "      <td>None</td>\n",
       "      <td>2017-08-09</td>\n",
       "    </tr>\n",
       "  </tbody>\n",
       "</table>\n",
       "<p>2499752 rows × 10 columns</p>\n",
       "</div>"
      ],
      "text/plain": [
       "                               email brand       envelope_no category  \\\n",
       "0        .delphine5458joe.@gmail.com   DWR            919433     NONE   \n",
       "1        .delphine5458joe.@gmail.com   DWR            926540     NONE   \n",
       "6             0.justin.lim@gmail.com   DWR           3362874     SALE   \n",
       "25          001@thelacunaproject.com   DWR  5674472938143744     SALE   \n",
       "26              002lovebirds@att.net   DWR  5065735730102272     SALE   \n",
       "...                              ...   ...               ...      ...   \n",
       "8102755        z_wilkerson@yahoo.com   DWR           4475384     SALE   \n",
       "8102756        z_wilkerson@yahoo.com   DWR           4503373     SALE   \n",
       "8102757        z_wilkerson@yahoo.com   DWR           4683101     SALE   \n",
       "8102758        z_wilkerson@yahoo.com   DWR           4747742     SALE   \n",
       "8102760                    _@anur.ag   DWR  5035321179242496     SALE   \n",
       "\n",
       "        first_send_date first_engage_date  num_opens     diff is_blacklist  \\\n",
       "0            2018-08-22        2018-08-24          1  0.00000         None   \n",
       "1            2018-08-24        2018-08-24          1 18.00000         None   \n",
       "6            2020-01-16        2020-01-16          1  9.00000         None   \n",
       "25           2019-01-04        2019-01-04          1 26.00000         None   \n",
       "26           2017-10-19        2017-10-20          1      NaN         None   \n",
       "...                 ...               ...        ...      ...          ...   \n",
       "8102755      2021-01-04        2021-01-04          1  7.00000         None   \n",
       "8102756      2021-01-12        2021-01-12          1  8.00000         None   \n",
       "8102757      2021-02-28        2021-02-28          1 47.00000         None   \n",
       "8102758      2021-03-16        2021-03-16          1 16.00000         None   \n",
       "8102760      2017-08-09        2017-08-09          1 22.00000         None   \n",
       "\n",
       "        last_engage_date  \n",
       "0             2018-08-24  \n",
       "1             2018-08-24  \n",
       "6             2020-01-16  \n",
       "25            2019-01-04  \n",
       "26            2017-10-20  \n",
       "...                  ...  \n",
       "8102755       2020-07-09  \n",
       "8102756       2020-07-09  \n",
       "8102757       2020-07-09  \n",
       "8102758       2020-07-09  \n",
       "8102760       2017-08-09  \n",
       "\n",
       "[2499752 rows x 10 columns]"
      ]
     },
     "execution_count": 243,
     "metadata": {},
     "output_type": "execute_result"
    },
    {
     "name": "stdout",
     "output_type": "stream",
     "text": [
      "time: 18.4 ms (started: 2021-04-20 23:35:32 -07:00)\n"
     ]
    }
   ],
   "source": [
    "email_after_blacklist"
   ]
  },
  {
   "cell_type": "code",
   "execution_count": 252,
   "metadata": {},
   "outputs": [
    {
     "name": "stdout",
     "output_type": "stream",
     "text": [
      "time: 2.14 s (started: 2021-04-21 00:10:36 -07:00)\n"
     ]
    }
   ],
   "source": [
    "orders_for_blacklist = mapped_orders.merge(email_after_blacklist, on='email')"
   ]
  },
  {
   "cell_type": "code",
   "execution_count": 275,
   "metadata": {
    "scrolled": true
   },
   "outputs": [
    {
     "name": "stdout",
     "output_type": "stream",
     "text": [
      "time: 84.2 ms (started: 2021-04-21 00:19:50 -07:00)\n"
     ]
    }
   ],
   "source": [
    "orders_after_blacklist = orders_for_blacklist[\n",
    "    (orders_for_blacklist['trandate']>orders_for_blacklist['first_engage_date']) &\n",
    "    (orders_for_blacklist['trandate']<orders_for_blacklist['first_engage_date']+timedelta(days=14))]"
   ]
  },
  {
   "cell_type": "code",
   "execution_count": 277,
   "metadata": {},
   "outputs": [
    {
     "name": "stdout",
     "output_type": "stream",
     "text": [
      "time: 16.4 ms (started: 2021-04-21 00:19:51 -07:00)\n"
     ]
    }
   ],
   "source": [
    "orders_after_blacklist_dedup = orders_after_blacklist[\n",
    "    ['entity_id', 'email', 'trandate', 'revenue']].drop_duplicates()"
   ]
  },
  {
   "cell_type": "code",
   "execution_count": 278,
   "metadata": {},
   "outputs": [
    {
     "data": {
      "text/plain": [
       "9529676.167565659"
      ]
     },
     "execution_count": 278,
     "metadata": {},
     "output_type": "execute_result"
    },
    {
     "name": "stdout",
     "output_type": "stream",
     "text": [
      "time: 149 ms (started: 2021-04-21 00:19:52 -07:00)\n"
     ]
    }
   ],
   "source": [
    "orders_after_blacklist_dedup[\n",
    "    orders_after_blacklist_dedup['trandate'].astype(str).str.split('-').str[0]=='2020']['revenue'].sum()"
   ]
  },
  {
   "cell_type": "markdown",
   "metadata": {},
   "source": [
    "**We made \\\\$9.5 million from custoemrs who had a 6 month inactivity period at one point and placed an order after their inactivity**"
   ]
  },
  {
   "cell_type": "markdown",
   "metadata": {},
   "source": [
    "## Other EDA\n"
   ]
  },
  {
   "cell_type": "markdown",
   "metadata": {},
   "source": [
    "#### Distribution"
   ]
  },
  {
   "cell_type": "code",
   "execution_count": 143,
   "metadata": {},
   "outputs": [
    {
     "data": {
      "text/plain": [
       "<AxesSubplot:ylabel='Frequency'>"
      ]
     },
     "execution_count": 143,
     "metadata": {},
     "output_type": "execute_result"
    },
    {
     "data": {
      "image/png": "[encoded data removed]",
      "text/plain": [
       "<Figure size 432x288 with 1 Axes>"
      ]
     },
     "metadata": {
      "needs_background": "light"
     },
     "output_type": "display_data"
    },
    {
     "name": "stdout",
     "output_type": "stream",
     "text": [
      "time: 14.3 s (started: 2021-04-20 13:01:42 -07:00)\n"
     ]
    }
   ],
   "source": [
    "email_engagement[email_engagement['category']!='TRANSACTIONAL']['diff'].plot.hist(bins=100, logy=True)"
   ]
  },
  {
   "cell_type": "code",
   "execution_count": 144,
   "metadata": {},
   "outputs": [
    {
     "data": {
      "text/plain": [
       "count   26268259.00000\n",
       "mean          12.33834\n",
       "std           33.11503\n",
       "min            0.00000\n",
       "25%            2.00000\n",
       "50%            4.00000\n",
       "75%            9.00000\n",
       "max         1529.00000\n",
       "Name: diff, dtype: float64"
      ]
     },
     "execution_count": 144,
     "metadata": {},
     "output_type": "execute_result"
    },
    {
     "name": "stdout",
     "output_type": "stream",
     "text": [
      "time: 4.31 s (started: 2021-04-20 13:01:56 -07:00)\n"
     ]
    }
   ],
   "source": [
    "email_engagement[email_engagement['category']!='TRANSACTIONAL']['diff'].describe()"
   ]
  },
  {
   "cell_type": "code",
   "execution_count": 145,
   "metadata": {},
   "outputs": [
    {
     "data": {
      "text/plain": [
       "count   27028191.00000\n",
       "mean          12.99404\n",
       "std           37.46772\n",
       "min            0.00000\n",
       "25%            2.00000\n",
       "50%            4.00000\n",
       "75%           10.00000\n",
       "max         1538.00000\n",
       "Name: diff, dtype: float64"
      ]
     },
     "execution_count": 145,
     "metadata": {},
     "output_type": "execute_result"
    },
    {
     "name": "stdout",
     "output_type": "stream",
     "text": [
      "time: 1.29 s (started: 2021-04-20 13:02:00 -07:00)\n"
     ]
    }
   ],
   "source": [
    "email_engagement['diff'].describe()"
   ]
  },
  {
   "cell_type": "code",
   "execution_count": 146,
   "metadata": {},
   "outputs": [
    {
     "data": {
      "text/plain": [
       "0           False\n",
       "1           False\n",
       "2           False\n",
       "3           False\n",
       "4           False\n",
       "            ...  \n",
       "28074263    False\n",
       "28074264    False\n",
       "28074265    False\n",
       "28074266    False\n",
       "28074267    False\n",
       "Name: diff, Length: 28074268, dtype: bool"
      ]
     },
     "execution_count": 146,
     "metadata": {},
     "output_type": "execute_result"
    },
    {
     "name": "stdout",
     "output_type": "stream",
     "text": [
      "time: 22.7 ms (started: 2021-04-20 13:02:01 -07:00)\n"
     ]
    }
   ],
   "source": [
    "email_engagement['diff'] > 360"
   ]
  },
  {
   "cell_type": "markdown",
   "metadata": {},
   "source": [
    "### How many people reengaged after six months (regardless of the blacklist)"
   ]
  },
  {
   "cell_type": "code",
   "execution_count": 147,
   "metadata": {},
   "outputs": [
    {
     "name": "stdout",
     "output_type": "stream",
     "text": [
      "time: 691 ms (started: 2021-04-20 13:02:02 -07:00)\n"
     ]
    }
   ],
   "source": [
    "after_six_months_engagement = email_engagement[(email_engagement['diff']>180) & \n",
    "                                               (email_engagement['category'].isin(['SALE', 'NONE']))]"
   ]
  },
  {
   "cell_type": "code",
   "execution_count": 148,
   "metadata": {},
   "outputs": [
    {
     "data": {
      "text/plain": [
       "DWR              117690\n",
       "HAY                8847\n",
       "HERMAN MILLER      5950\n",
       "Name: brand, dtype: int64"
      ]
     },
     "execution_count": 148,
     "metadata": {},
     "output_type": "execute_result"
    },
    {
     "name": "stdout",
     "output_type": "stream",
     "text": [
      "time: 20.5 ms (started: 2021-04-20 13:02:02 -07:00)\n"
     ]
    }
   ],
   "source": [
    "after_six_months_engagement['brand'].value_counts()"
   ]
  },
  {
   "cell_type": "code",
   "execution_count": 149,
   "metadata": {},
   "outputs": [
    {
     "data": {
      "text/plain": [
       "count                           132487\n",
       "mean     2019-04-16 05:04:22.513302784\n",
       "min                2017-07-01 00:00:00\n",
       "25%                2018-07-10 00:00:00\n",
       "50%                2018-12-08 00:00:00\n",
       "75%                2020-03-05 00:00:00\n",
       "max                2021-04-11 00:00:00\n",
       "Name: first_engage_date, dtype: object"
      ]
     },
     "execution_count": 149,
     "metadata": {},
     "output_type": "execute_result"
    },
    {
     "name": "stdout",
     "output_type": "stream",
     "text": [
      "time: 13.6 ms (started: 2021-04-20 13:02:02 -07:00)\n"
     ]
    }
   ],
   "source": [
    "after_six_months_engagement['first_engage_date'].describe(datetime_is_numeric=True)"
   ]
  },
  {
   "cell_type": "code",
   "execution_count": 150,
   "metadata": {
    "scrolled": true
   },
   "outputs": [
    {
     "data": {
      "text/html": [
       "<div>\n",
       "<style scoped>\n",
       "    .dataframe tbody tr th:only-of-type {\n",
       "        vertical-align: middle;\n",
       "    }\n",
       "\n",
       "    .dataframe tbody tr th {\n",
       "        vertical-align: top;\n",
       "    }\n",
       "\n",
       "    .dataframe thead th {\n",
       "        text-align: right;\n",
       "    }\n",
       "</style>\n",
       "<table border=\"1\" class=\"dataframe\">\n",
       "  <thead>\n",
       "    <tr style=\"text-align: right;\">\n",
       "      <th></th>\n",
       "      <th>email</th>\n",
       "      <th>brand</th>\n",
       "      <th>envelope_no</th>\n",
       "      <th>category</th>\n",
       "      <th>first_send_date</th>\n",
       "      <th>first_engage_date</th>\n",
       "      <th>num_opens</th>\n",
       "      <th>diff</th>\n",
       "    </tr>\n",
       "  </thead>\n",
       "  <tbody>\n",
       "    <tr>\n",
       "      <th>88</th>\n",
       "      <td>004671@zbths.org</td>\n",
       "      <td>DWR</td>\n",
       "      <td>775420</td>\n",
       "      <td>NONE</td>\n",
       "      <td>2018-07-10</td>\n",
       "      <td>2018-08-06</td>\n",
       "      <td>1</td>\n",
       "      <td>NaN</td>\n",
       "    </tr>\n",
       "    <tr>\n",
       "      <th>89</th>\n",
       "      <td>004671@zbths.org</td>\n",
       "      <td>DWR</td>\n",
       "      <td>1084986</td>\n",
       "      <td>SALE</td>\n",
       "      <td>2018-10-08</td>\n",
       "      <td>2018-10-08</td>\n",
       "      <td>1</td>\n",
       "      <td>63.00000</td>\n",
       "    </tr>\n",
       "    <tr>\n",
       "      <th>90</th>\n",
       "      <td>004671@zbths.org</td>\n",
       "      <td>DWR</td>\n",
       "      <td>1293496</td>\n",
       "      <td>SALE</td>\n",
       "      <td>2018-12-05</td>\n",
       "      <td>2018-12-06</td>\n",
       "      <td>1</td>\n",
       "      <td>59.00000</td>\n",
       "    </tr>\n",
       "    <tr>\n",
       "      <th>91</th>\n",
       "      <td>004671@zbths.org</td>\n",
       "      <td>DWR</td>\n",
       "      <td>840439</td>\n",
       "      <td>NONE</td>\n",
       "      <td>2018-07-30</td>\n",
       "      <td>2019-06-08</td>\n",
       "      <td>1</td>\n",
       "      <td>0.00000</td>\n",
       "    </tr>\n",
       "    <tr>\n",
       "      <th>92</th>\n",
       "      <td>004671@zbths.org</td>\n",
       "      <td>DWR</td>\n",
       "      <td>794935</td>\n",
       "      <td>NONE</td>\n",
       "      <td>2018-07-16</td>\n",
       "      <td>2019-06-08</td>\n",
       "      <td>1</td>\n",
       "      <td>184.00000</td>\n",
       "    </tr>\n",
       "    <tr>\n",
       "      <th>93</th>\n",
       "      <td>004671@zbths.org</td>\n",
       "      <td>DWR</td>\n",
       "      <td>867480</td>\n",
       "      <td>NONE</td>\n",
       "      <td>2018-08-07</td>\n",
       "      <td>2019-06-08</td>\n",
       "      <td>1</td>\n",
       "      <td>0.00000</td>\n",
       "    </tr>\n",
       "    <tr>\n",
       "      <th>94</th>\n",
       "      <td>004671@zbths.org</td>\n",
       "      <td>DWR</td>\n",
       "      <td>2099129</td>\n",
       "      <td>NONE</td>\n",
       "      <td>2019-06-09</td>\n",
       "      <td>2019-06-09</td>\n",
       "      <td>1</td>\n",
       "      <td>1.00000</td>\n",
       "    </tr>\n",
       "    <tr>\n",
       "      <th>95</th>\n",
       "      <td>004671@zbths.org</td>\n",
       "      <td>DWR</td>\n",
       "      <td>2103999</td>\n",
       "      <td>NONE</td>\n",
       "      <td>2019-06-10</td>\n",
       "      <td>2019-06-10</td>\n",
       "      <td>1</td>\n",
       "      <td>1.00000</td>\n",
       "    </tr>\n",
       "    <tr>\n",
       "      <th>96</th>\n",
       "      <td>004671@zbths.org</td>\n",
       "      <td>DWR</td>\n",
       "      <td>2110014</td>\n",
       "      <td>NONE</td>\n",
       "      <td>2019-06-11</td>\n",
       "      <td>2019-06-11</td>\n",
       "      <td>1</td>\n",
       "      <td>1.00000</td>\n",
       "    </tr>\n",
       "    <tr>\n",
       "      <th>97</th>\n",
       "      <td>004671@zbths.org</td>\n",
       "      <td>DWR</td>\n",
       "      <td>2119445</td>\n",
       "      <td>SALE</td>\n",
       "      <td>2019-06-13</td>\n",
       "      <td>2019-06-13</td>\n",
       "      <td>1</td>\n",
       "      <td>2.00000</td>\n",
       "    </tr>\n",
       "    <tr>\n",
       "      <th>98</th>\n",
       "      <td>004671@zbths.org</td>\n",
       "      <td>DWR</td>\n",
       "      <td>2150569</td>\n",
       "      <td>SALE</td>\n",
       "      <td>2019-06-19</td>\n",
       "      <td>2019-06-19</td>\n",
       "      <td>1</td>\n",
       "      <td>6.00000</td>\n",
       "    </tr>\n",
       "    <tr>\n",
       "      <th>99</th>\n",
       "      <td>004671@zbths.org</td>\n",
       "      <td>DWR</td>\n",
       "      <td>2155643</td>\n",
       "      <td>SALE</td>\n",
       "      <td>2019-06-20</td>\n",
       "      <td>2019-06-20</td>\n",
       "      <td>1</td>\n",
       "      <td>1.00000</td>\n",
       "    </tr>\n",
       "    <tr>\n",
       "      <th>100</th>\n",
       "      <td>004671@zbths.org</td>\n",
       "      <td>DWR</td>\n",
       "      <td>2164994</td>\n",
       "      <td>SALE</td>\n",
       "      <td>2019-06-22</td>\n",
       "      <td>2019-06-22</td>\n",
       "      <td>1</td>\n",
       "      <td>2.00000</td>\n",
       "    </tr>\n",
       "    <tr>\n",
       "      <th>101</th>\n",
       "      <td>004671@zbths.org</td>\n",
       "      <td>DWR</td>\n",
       "      <td>2180041</td>\n",
       "      <td>NONE</td>\n",
       "      <td>2019-06-25</td>\n",
       "      <td>2019-06-25</td>\n",
       "      <td>1</td>\n",
       "      <td>3.00000</td>\n",
       "    </tr>\n",
       "    <tr>\n",
       "      <th>102</th>\n",
       "      <td>004671@zbths.org</td>\n",
       "      <td>DWR</td>\n",
       "      <td>2191959</td>\n",
       "      <td>SALE</td>\n",
       "      <td>2019-06-27</td>\n",
       "      <td>2019-06-27</td>\n",
       "      <td>1</td>\n",
       "      <td>2.00000</td>\n",
       "    </tr>\n",
       "    <tr>\n",
       "      <th>103</th>\n",
       "      <td>004671@zbths.org</td>\n",
       "      <td>DWR</td>\n",
       "      <td>2212335</td>\n",
       "      <td>EVERGREEN</td>\n",
       "      <td>2019-07-01</td>\n",
       "      <td>2019-07-01</td>\n",
       "      <td>1</td>\n",
       "      <td>4.00000</td>\n",
       "    </tr>\n",
       "    <tr>\n",
       "      <th>104</th>\n",
       "      <td>004671@zbths.org</td>\n",
       "      <td>DWR</td>\n",
       "      <td>2221931</td>\n",
       "      <td>NONE</td>\n",
       "      <td>2019-07-03</td>\n",
       "      <td>2019-07-03</td>\n",
       "      <td>1</td>\n",
       "      <td>2.00000</td>\n",
       "    </tr>\n",
       "    <tr>\n",
       "      <th>105</th>\n",
       "      <td>004671@zbths.org</td>\n",
       "      <td>DWR</td>\n",
       "      <td>2252707</td>\n",
       "      <td>SALE</td>\n",
       "      <td>2019-07-09</td>\n",
       "      <td>2019-07-09</td>\n",
       "      <td>1</td>\n",
       "      <td>6.00000</td>\n",
       "    </tr>\n",
       "    <tr>\n",
       "      <th>106</th>\n",
       "      <td>004671@zbths.org</td>\n",
       "      <td>DWR</td>\n",
       "      <td>2300643</td>\n",
       "      <td>NONE</td>\n",
       "      <td>2019-07-18</td>\n",
       "      <td>2019-07-18</td>\n",
       "      <td>1</td>\n",
       "      <td>9.00000</td>\n",
       "    </tr>\n",
       "    <tr>\n",
       "      <th>107</th>\n",
       "      <td>004671@zbths.org</td>\n",
       "      <td>DWR</td>\n",
       "      <td>2306048</td>\n",
       "      <td>NONE</td>\n",
       "      <td>2019-07-19</td>\n",
       "      <td>2019-07-19</td>\n",
       "      <td>1</td>\n",
       "      <td>1.00000</td>\n",
       "    </tr>\n",
       "    <tr>\n",
       "      <th>108</th>\n",
       "      <td>004671@zbths.org</td>\n",
       "      <td>DWR</td>\n",
       "      <td>2484760</td>\n",
       "      <td>NONE</td>\n",
       "      <td>2019-08-21</td>\n",
       "      <td>2019-08-21</td>\n",
       "      <td>1</td>\n",
       "      <td>33.00000</td>\n",
       "    </tr>\n",
       "    <tr>\n",
       "      <th>109</th>\n",
       "      <td>004671@zbths.org</td>\n",
       "      <td>DWR</td>\n",
       "      <td>2489772</td>\n",
       "      <td>NONE</td>\n",
       "      <td>2019-08-22</td>\n",
       "      <td>2019-08-22</td>\n",
       "      <td>1</td>\n",
       "      <td>1.00000</td>\n",
       "    </tr>\n",
       "    <tr>\n",
       "      <th>110</th>\n",
       "      <td>004671@zbths.org</td>\n",
       "      <td>DWR</td>\n",
       "      <td>2528785</td>\n",
       "      <td>NONE</td>\n",
       "      <td>2019-08-29</td>\n",
       "      <td>2019-08-29</td>\n",
       "      <td>1</td>\n",
       "      <td>7.00000</td>\n",
       "    </tr>\n",
       "    <tr>\n",
       "      <th>111</th>\n",
       "      <td>004671@zbths.org</td>\n",
       "      <td>DWR</td>\n",
       "      <td>2607055</td>\n",
       "      <td>NONE</td>\n",
       "      <td>2019-09-12</td>\n",
       "      <td>2019-09-12</td>\n",
       "      <td>1</td>\n",
       "      <td>14.00000</td>\n",
       "    </tr>\n",
       "    <tr>\n",
       "      <th>112</th>\n",
       "      <td>004671@zbths.org</td>\n",
       "      <td>DWR</td>\n",
       "      <td>2740301</td>\n",
       "      <td>SALE</td>\n",
       "      <td>2019-10-05</td>\n",
       "      <td>2019-10-05</td>\n",
       "      <td>1</td>\n",
       "      <td>23.00000</td>\n",
       "    </tr>\n",
       "    <tr>\n",
       "      <th>113</th>\n",
       "      <td>004671@zbths.org</td>\n",
       "      <td>DWR</td>\n",
       "      <td>2753194</td>\n",
       "      <td>SALE</td>\n",
       "      <td>2019-10-07</td>\n",
       "      <td>2019-10-07</td>\n",
       "      <td>1</td>\n",
       "      <td>2.00000</td>\n",
       "    </tr>\n",
       "    <tr>\n",
       "      <th>114</th>\n",
       "      <td>004671@zbths.org</td>\n",
       "      <td>DWR</td>\n",
       "      <td>2777494</td>\n",
       "      <td>SALE</td>\n",
       "      <td>2019-10-11</td>\n",
       "      <td>2019-10-11</td>\n",
       "      <td>1</td>\n",
       "      <td>4.00000</td>\n",
       "    </tr>\n",
       "    <tr>\n",
       "      <th>115</th>\n",
       "      <td>004671@zbths.org</td>\n",
       "      <td>DWR</td>\n",
       "      <td>3325734</td>\n",
       "      <td>SALE</td>\n",
       "      <td>2020-01-10</td>\n",
       "      <td>2020-01-10</td>\n",
       "      <td>1</td>\n",
       "      <td>91.00000</td>\n",
       "    </tr>\n",
       "    <tr>\n",
       "      <th>116</th>\n",
       "      <td>004671@zbths.org</td>\n",
       "      <td>DWR</td>\n",
       "      <td>3379261</td>\n",
       "      <td>SALE</td>\n",
       "      <td>2020-01-19</td>\n",
       "      <td>2020-01-19</td>\n",
       "      <td>1</td>\n",
       "      <td>9.00000</td>\n",
       "    </tr>\n",
       "    <tr>\n",
       "      <th>117</th>\n",
       "      <td>004671@zbths.org</td>\n",
       "      <td>DWR</td>\n",
       "      <td>3626995</td>\n",
       "      <td>STORES &amp; OUTLET</td>\n",
       "      <td>2020-03-18</td>\n",
       "      <td>2020-03-18</td>\n",
       "      <td>1</td>\n",
       "      <td>59.00000</td>\n",
       "    </tr>\n",
       "    <tr>\n",
       "      <th>118</th>\n",
       "      <td>004671@zbths.org</td>\n",
       "      <td>DWR</td>\n",
       "      <td>3660188</td>\n",
       "      <td>EVERGREEN</td>\n",
       "      <td>2020-04-06</td>\n",
       "      <td>2020-04-06</td>\n",
       "      <td>1</td>\n",
       "      <td>19.00000</td>\n",
       "    </tr>\n",
       "    <tr>\n",
       "      <th>119</th>\n",
       "      <td>004671@zbths.org</td>\n",
       "      <td>DWR</td>\n",
       "      <td>3668707</td>\n",
       "      <td>SALE</td>\n",
       "      <td>2020-04-11</td>\n",
       "      <td>2020-04-11</td>\n",
       "      <td>1</td>\n",
       "      <td>5.00000</td>\n",
       "    </tr>\n",
       "    <tr>\n",
       "      <th>120</th>\n",
       "      <td>004671@zbths.org</td>\n",
       "      <td>DWR</td>\n",
       "      <td>3673555</td>\n",
       "      <td>SALE</td>\n",
       "      <td>2020-04-14</td>\n",
       "      <td>2020-04-15</td>\n",
       "      <td>1</td>\n",
       "      <td>4.00000</td>\n",
       "    </tr>\n",
       "    <tr>\n",
       "      <th>121</th>\n",
       "      <td>004671@zbths.org</td>\n",
       "      <td>DWR</td>\n",
       "      <td>3678903</td>\n",
       "      <td>SALE</td>\n",
       "      <td>2020-04-17</td>\n",
       "      <td>2020-04-17</td>\n",
       "      <td>1</td>\n",
       "      <td>2.00000</td>\n",
       "    </tr>\n",
       "    <tr>\n",
       "      <th>122</th>\n",
       "      <td>004671@zbths.org</td>\n",
       "      <td>DWR</td>\n",
       "      <td>3681047</td>\n",
       "      <td>SALE</td>\n",
       "      <td>2020-04-18</td>\n",
       "      <td>2020-04-18</td>\n",
       "      <td>1</td>\n",
       "      <td>1.00000</td>\n",
       "    </tr>\n",
       "    <tr>\n",
       "      <th>123</th>\n",
       "      <td>004671@zbths.org</td>\n",
       "      <td>DWR</td>\n",
       "      <td>3698852</td>\n",
       "      <td>SALE</td>\n",
       "      <td>2020-04-26</td>\n",
       "      <td>2020-04-26</td>\n",
       "      <td>1</td>\n",
       "      <td>8.00000</td>\n",
       "    </tr>\n",
       "    <tr>\n",
       "      <th>124</th>\n",
       "      <td>004671@zbths.org</td>\n",
       "      <td>DWR</td>\n",
       "      <td>3737261</td>\n",
       "      <td>SALE</td>\n",
       "      <td>2020-05-11</td>\n",
       "      <td>2020-05-11</td>\n",
       "      <td>1</td>\n",
       "      <td>15.00000</td>\n",
       "    </tr>\n",
       "    <tr>\n",
       "      <th>125</th>\n",
       "      <td>004671@zbths.org</td>\n",
       "      <td>DWR</td>\n",
       "      <td>3749678</td>\n",
       "      <td>SALE</td>\n",
       "      <td>2020-05-16</td>\n",
       "      <td>2020-05-16</td>\n",
       "      <td>1</td>\n",
       "      <td>5.00000</td>\n",
       "    </tr>\n",
       "    <tr>\n",
       "      <th>126</th>\n",
       "      <td>004671@zbths.org</td>\n",
       "      <td>DWR</td>\n",
       "      <td>3754910</td>\n",
       "      <td>SALE</td>\n",
       "      <td>2020-05-18</td>\n",
       "      <td>2020-05-18</td>\n",
       "      <td>1</td>\n",
       "      <td>2.00000</td>\n",
       "    </tr>\n",
       "    <tr>\n",
       "      <th>127</th>\n",
       "      <td>004671@zbths.org</td>\n",
       "      <td>DWR</td>\n",
       "      <td>3769318</td>\n",
       "      <td>SALE</td>\n",
       "      <td>2020-05-24</td>\n",
       "      <td>2020-05-24</td>\n",
       "      <td>1</td>\n",
       "      <td>6.00000</td>\n",
       "    </tr>\n",
       "    <tr>\n",
       "      <th>128</th>\n",
       "      <td>004671@zbths.org</td>\n",
       "      <td>DWR</td>\n",
       "      <td>3781113</td>\n",
       "      <td>SALE</td>\n",
       "      <td>2020-05-28</td>\n",
       "      <td>2020-05-28</td>\n",
       "      <td>1</td>\n",
       "      <td>4.00000</td>\n",
       "    </tr>\n",
       "    <tr>\n",
       "      <th>129</th>\n",
       "      <td>004671@zbths.org</td>\n",
       "      <td>DWR</td>\n",
       "      <td>3846215</td>\n",
       "      <td>EVERGREEN</td>\n",
       "      <td>2020-06-22</td>\n",
       "      <td>2020-06-22</td>\n",
       "      <td>1</td>\n",
       "      <td>25.00000</td>\n",
       "    </tr>\n",
       "    <tr>\n",
       "      <th>130</th>\n",
       "      <td>004671@zbths.org</td>\n",
       "      <td>DWR</td>\n",
       "      <td>3929270</td>\n",
       "      <td>EVERGREEN</td>\n",
       "      <td>2020-07-25</td>\n",
       "      <td>2020-07-25</td>\n",
       "      <td>1</td>\n",
       "      <td>33.00000</td>\n",
       "    </tr>\n",
       "    <tr>\n",
       "      <th>131</th>\n",
       "      <td>004671@zbths.org</td>\n",
       "      <td>DWR</td>\n",
       "      <td>3972898</td>\n",
       "      <td>SALE</td>\n",
       "      <td>2020-08-15</td>\n",
       "      <td>2020-08-15</td>\n",
       "      <td>1</td>\n",
       "      <td>21.00000</td>\n",
       "    </tr>\n",
       "    <tr>\n",
       "      <th>132</th>\n",
       "      <td>004671@zbths.org</td>\n",
       "      <td>DWR</td>\n",
       "      <td>3979486</td>\n",
       "      <td>SALE</td>\n",
       "      <td>2020-08-18</td>\n",
       "      <td>2020-08-18</td>\n",
       "      <td>1</td>\n",
       "      <td>3.00000</td>\n",
       "    </tr>\n",
       "    <tr>\n",
       "      <th>133</th>\n",
       "      <td>004671@zbths.org</td>\n",
       "      <td>DWR</td>\n",
       "      <td>4075979</td>\n",
       "      <td>SALE</td>\n",
       "      <td>2020-09-17</td>\n",
       "      <td>2020-09-17</td>\n",
       "      <td>1</td>\n",
       "      <td>30.00000</td>\n",
       "    </tr>\n",
       "    <tr>\n",
       "      <th>134</th>\n",
       "      <td>004671@zbths.org</td>\n",
       "      <td>DWR</td>\n",
       "      <td>4089121</td>\n",
       "      <td>SALE</td>\n",
       "      <td>2020-09-21</td>\n",
       "      <td>2020-09-21</td>\n",
       "      <td>1</td>\n",
       "      <td>4.00000</td>\n",
       "    </tr>\n",
       "    <tr>\n",
       "      <th>135</th>\n",
       "      <td>004671@zbths.org</td>\n",
       "      <td>DWR</td>\n",
       "      <td>4450722</td>\n",
       "      <td>SALE</td>\n",
       "      <td>2020-12-28</td>\n",
       "      <td>2020-12-28</td>\n",
       "      <td>1</td>\n",
       "      <td>98.00000</td>\n",
       "    </tr>\n",
       "    <tr>\n",
       "      <th>136</th>\n",
       "      <td>004671@zbths.org</td>\n",
       "      <td>DWR</td>\n",
       "      <td>4773712</td>\n",
       "      <td>SALE</td>\n",
       "      <td>2021-03-22</td>\n",
       "      <td>2021-03-22</td>\n",
       "      <td>1</td>\n",
       "      <td>84.00000</td>\n",
       "    </tr>\n",
       "    <tr>\n",
       "      <th>137</th>\n",
       "      <td>004671@zbths.org</td>\n",
       "      <td>DWR</td>\n",
       "      <td>4782305</td>\n",
       "      <td>SALE</td>\n",
       "      <td>2021-03-24</td>\n",
       "      <td>2021-03-24</td>\n",
       "      <td>1</td>\n",
       "      <td>2.00000</td>\n",
       "    </tr>\n",
       "  </tbody>\n",
       "</table>\n",
       "</div>"
      ],
      "text/plain": [
       "                email brand  envelope_no         category first_send_date  \\\n",
       "88   004671@zbths.org   DWR       775420             NONE      2018-07-10   \n",
       "89   004671@zbths.org   DWR      1084986             SALE      2018-10-08   \n",
       "90   004671@zbths.org   DWR      1293496             SALE      2018-12-05   \n",
       "91   004671@zbths.org   DWR       840439             NONE      2018-07-30   \n",
       "92   004671@zbths.org   DWR       794935             NONE      2018-07-16   \n",
       "93   004671@zbths.org   DWR       867480             NONE      2018-08-07   \n",
       "94   004671@zbths.org   DWR      2099129             NONE      2019-06-09   \n",
       "95   004671@zbths.org   DWR      2103999             NONE      2019-06-10   \n",
       "96   004671@zbths.org   DWR      2110014             NONE      2019-06-11   \n",
       "97   004671@zbths.org   DWR      2119445             SALE      2019-06-13   \n",
       "98   004671@zbths.org   DWR      2150569             SALE      2019-06-19   \n",
       "99   004671@zbths.org   DWR      2155643             SALE      2019-06-20   \n",
       "100  004671@zbths.org   DWR      2164994             SALE      2019-06-22   \n",
       "101  004671@zbths.org   DWR      2180041             NONE      2019-06-25   \n",
       "102  004671@zbths.org   DWR      2191959             SALE      2019-06-27   \n",
       "103  004671@zbths.org   DWR      2212335        EVERGREEN      2019-07-01   \n",
       "104  004671@zbths.org   DWR      2221931             NONE      2019-07-03   \n",
       "105  004671@zbths.org   DWR      2252707             SALE      2019-07-09   \n",
       "106  004671@zbths.org   DWR      2300643             NONE      2019-07-18   \n",
       "107  004671@zbths.org   DWR      2306048             NONE      2019-07-19   \n",
       "108  004671@zbths.org   DWR      2484760             NONE      2019-08-21   \n",
       "109  004671@zbths.org   DWR      2489772             NONE      2019-08-22   \n",
       "110  004671@zbths.org   DWR      2528785             NONE      2019-08-29   \n",
       "111  004671@zbths.org   DWR      2607055             NONE      2019-09-12   \n",
       "112  004671@zbths.org   DWR      2740301             SALE      2019-10-05   \n",
       "113  004671@zbths.org   DWR      2753194             SALE      2019-10-07   \n",
       "114  004671@zbths.org   DWR      2777494             SALE      2019-10-11   \n",
       "115  004671@zbths.org   DWR      3325734             SALE      2020-01-10   \n",
       "116  004671@zbths.org   DWR      3379261             SALE      2020-01-19   \n",
       "117  004671@zbths.org   DWR      3626995  STORES & OUTLET      2020-03-18   \n",
       "118  004671@zbths.org   DWR      3660188        EVERGREEN      2020-04-06   \n",
       "119  004671@zbths.org   DWR      3668707             SALE      2020-04-11   \n",
       "120  004671@zbths.org   DWR      3673555             SALE      2020-04-14   \n",
       "121  004671@zbths.org   DWR      3678903             SALE      2020-04-17   \n",
       "122  004671@zbths.org   DWR      3681047             SALE      2020-04-18   \n",
       "123  004671@zbths.org   DWR      3698852             SALE      2020-04-26   \n",
       "124  004671@zbths.org   DWR      3737261             SALE      2020-05-11   \n",
       "125  004671@zbths.org   DWR      3749678             SALE      2020-05-16   \n",
       "126  004671@zbths.org   DWR      3754910             SALE      2020-05-18   \n",
       "127  004671@zbths.org   DWR      3769318             SALE      2020-05-24   \n",
       "128  004671@zbths.org   DWR      3781113             SALE      2020-05-28   \n",
       "129  004671@zbths.org   DWR      3846215        EVERGREEN      2020-06-22   \n",
       "130  004671@zbths.org   DWR      3929270        EVERGREEN      2020-07-25   \n",
       "131  004671@zbths.org   DWR      3972898             SALE      2020-08-15   \n",
       "132  004671@zbths.org   DWR      3979486             SALE      2020-08-18   \n",
       "133  004671@zbths.org   DWR      4075979             SALE      2020-09-17   \n",
       "134  004671@zbths.org   DWR      4089121             SALE      2020-09-21   \n",
       "135  004671@zbths.org   DWR      4450722             SALE      2020-12-28   \n",
       "136  004671@zbths.org   DWR      4773712             SALE      2021-03-22   \n",
       "137  004671@zbths.org   DWR      4782305             SALE      2021-03-24   \n",
       "\n",
       "    first_engage_date  num_opens      diff  \n",
       "88         2018-08-06          1       NaN  \n",
       "89         2018-10-08          1  63.00000  \n",
       "90         2018-12-06          1  59.00000  \n",
       "91         2019-06-08          1   0.00000  \n",
       "92         2019-06-08          1 184.00000  \n",
       "93         2019-06-08          1   0.00000  \n",
       "94         2019-06-09          1   1.00000  \n",
       "95         2019-06-10          1   1.00000  \n",
       "96         2019-06-11          1   1.00000  \n",
       "97         2019-06-13          1   2.00000  \n",
       "98         2019-06-19          1   6.00000  \n",
       "99         2019-06-20          1   1.00000  \n",
       "100        2019-06-22          1   2.00000  \n",
       "101        2019-06-25          1   3.00000  \n",
       "102        2019-06-27          1   2.00000  \n",
       "103        2019-07-01          1   4.00000  \n",
       "104        2019-07-03          1   2.00000  \n",
       "105        2019-07-09          1   6.00000  \n",
       "106        2019-07-18          1   9.00000  \n",
       "107        2019-07-19          1   1.00000  \n",
       "108        2019-08-21          1  33.00000  \n",
       "109        2019-08-22          1   1.00000  \n",
       "110        2019-08-29          1   7.00000  \n",
       "111        2019-09-12          1  14.00000  \n",
       "112        2019-10-05          1  23.00000  \n",
       "113        2019-10-07          1   2.00000  \n",
       "114        2019-10-11          1   4.00000  \n",
       "115        2020-01-10          1  91.00000  \n",
       "116        2020-01-19          1   9.00000  \n",
       "117        2020-03-18          1  59.00000  \n",
       "118        2020-04-06          1  19.00000  \n",
       "119        2020-04-11          1   5.00000  \n",
       "120        2020-04-15          1   4.00000  \n",
       "121        2020-04-17          1   2.00000  \n",
       "122        2020-04-18          1   1.00000  \n",
       "123        2020-04-26          1   8.00000  \n",
       "124        2020-05-11          1  15.00000  \n",
       "125        2020-05-16          1   5.00000  \n",
       "126        2020-05-18          1   2.00000  \n",
       "127        2020-05-24          1   6.00000  \n",
       "128        2020-05-28          1   4.00000  \n",
       "129        2020-06-22          1  25.00000  \n",
       "130        2020-07-25          1  33.00000  \n",
       "131        2020-08-15          1  21.00000  \n",
       "132        2020-08-18          1   3.00000  \n",
       "133        2020-09-17          1  30.00000  \n",
       "134        2020-09-21          1   4.00000  \n",
       "135        2020-12-28          1  98.00000  \n",
       "136        2021-03-22          1  84.00000  \n",
       "137        2021-03-24          1   2.00000  "
      ]
     },
     "execution_count": 150,
     "metadata": {},
     "output_type": "execute_result"
    },
    {
     "name": "stdout",
     "output_type": "stream",
     "text": [
      "time: 1.08 s (started: 2021-04-20 13:02:02 -07:00)\n"
     ]
    }
   ],
   "source": [
    "email_engagement[email_engagement['email'].isin(after_six_months_engagement['email'])].head(50)"
   ]
  },
  {
   "cell_type": "code",
   "execution_count": 151,
   "metadata": {},
   "outputs": [
    {
     "data": {
      "text/plain": [
       "(119382, 1046077)"
      ]
     },
     "execution_count": 151,
     "metadata": {},
     "output_type": "execute_result"
    },
    {
     "name": "stdout",
     "output_type": "stream",
     "text": [
      "time: 3.32 s (started: 2021-04-20 13:02:03 -07:00)\n"
     ]
    }
   ],
   "source": [
    "after_six_months_engagement['email'].nunique(), email_engagement['email'].nunique()"
   ]
  },
  {
   "cell_type": "code",
   "execution_count": 152,
   "metadata": {},
   "outputs": [
    {
     "data": {
      "text/plain": [
       "0.1141235301034245"
      ]
     },
     "execution_count": 152,
     "metadata": {},
     "output_type": "execute_result"
    },
    {
     "name": "stdout",
     "output_type": "stream",
     "text": [
      "time: 3.28 s (started: 2021-04-20 13:02:07 -07:00)\n"
     ]
    }
   ],
   "source": [
    "after_six_months_engagement['email'].nunique()/email_engagement['email'].nunique()"
   ]
  },
  {
   "cell_type": "code",
   "execution_count": 154,
   "metadata": {},
   "outputs": [
    {
     "name": "stdout",
     "output_type": "stream",
     "text": [
      "time: 941 ms (started: 2021-04-20 13:03:32 -07:00)\n"
     ]
    }
   ],
   "source": [
    "after_six_months_engagement_open_rates = email[email['email'].isin(\n",
    "    after_six_months_engagement['email'].unique())]"
   ]
  },
  {
   "cell_type": "code",
   "execution_count": 156,
   "metadata": {
    "scrolled": true
   },
   "outputs": [
    {
     "data": {
      "text/html": [
       "<div>\n",
       "<style scoped>\n",
       "    .dataframe tbody tr th:only-of-type {\n",
       "        vertical-align: middle;\n",
       "    }\n",
       "\n",
       "    .dataframe tbody tr th {\n",
       "        vertical-align: top;\n",
       "    }\n",
       "\n",
       "    .dataframe thead th {\n",
       "        text-align: right;\n",
       "    }\n",
       "</style>\n",
       "<table border=\"1\" class=\"dataframe\">\n",
       "  <thead>\n",
       "    <tr style=\"text-align: right;\">\n",
       "      <th></th>\n",
       "      <th>email</th>\n",
       "      <th>num_sends</th>\n",
       "      <th>num_opens</th>\n",
       "      <th>num_clicks</th>\n",
       "      <th>num_unsubs</th>\n",
       "      <th>num_spams</th>\n",
       "      <th>first_engaged_date</th>\n",
       "      <th>last_engaged_date</th>\n",
       "      <th>first_engaged_year</th>\n",
       "      <th>last_engaged_year</th>\n",
       "      <th>open_rate</th>\n",
       "      <th>click_rate</th>\n",
       "      <th>has_unsubbed</th>\n",
       "      <th>has_spammed</th>\n",
       "    </tr>\n",
       "  </thead>\n",
       "  <tbody>\n",
       "    <tr>\n",
       "      <th>2</th>\n",
       "      <td>truptirami@gmail.com</td>\n",
       "      <td>425</td>\n",
       "      <td>44</td>\n",
       "      <td>16</td>\n",
       "      <td>1</td>\n",
       "      <td>0</td>\n",
       "      <td>2017-12-03 14:54:29</td>\n",
       "      <td>2017-12-03 14:54:29</td>\n",
       "      <td>2017.00000</td>\n",
       "      <td>2017.00000</td>\n",
       "      <td>0.10353</td>\n",
       "      <td>0.03765</td>\n",
       "      <td>1</td>\n",
       "      <td>0</td>\n",
       "    </tr>\n",
       "    <tr>\n",
       "      <th>5</th>\n",
       "      <td>legregg3@gmail.com</td>\n",
       "      <td>500</td>\n",
       "      <td>83</td>\n",
       "      <td>32</td>\n",
       "      <td>0</td>\n",
       "      <td>0</td>\n",
       "      <td>2017-02-13 16:03:07</td>\n",
       "      <td>2017-02-13 16:03:07</td>\n",
       "      <td>2017.00000</td>\n",
       "      <td>2017.00000</td>\n",
       "      <td>0.16600</td>\n",
       "      <td>0.06400</td>\n",
       "      <td>0</td>\n",
       "      <td>0</td>\n",
       "    </tr>\n",
       "    <tr>\n",
       "      <th>23</th>\n",
       "      <td>lorilee.planc@gmail.com</td>\n",
       "      <td>273</td>\n",
       "      <td>22</td>\n",
       "      <td>4</td>\n",
       "      <td>0</td>\n",
       "      <td>0</td>\n",
       "      <td>2018-01-04 20:37:00</td>\n",
       "      <td>2018-01-04 20:37:00</td>\n",
       "      <td>2018.00000</td>\n",
       "      <td>2018.00000</td>\n",
       "      <td>0.08059</td>\n",
       "      <td>0.01465</td>\n",
       "      <td>0</td>\n",
       "      <td>0</td>\n",
       "    </tr>\n",
       "    <tr>\n",
       "      <th>28</th>\n",
       "      <td>mylenesalamero@yahoo.com</td>\n",
       "      <td>103</td>\n",
       "      <td>18</td>\n",
       "      <td>3</td>\n",
       "      <td>0</td>\n",
       "      <td>0</td>\n",
       "      <td>2017-10-12 01:15:44</td>\n",
       "      <td>2017-10-12 01:15:44</td>\n",
       "      <td>2017.00000</td>\n",
       "      <td>2017.00000</td>\n",
       "      <td>0.17476</td>\n",
       "      <td>0.02913</td>\n",
       "      <td>0</td>\n",
       "      <td>0</td>\n",
       "    </tr>\n",
       "    <tr>\n",
       "      <th>29</th>\n",
       "      <td>nicholas_willis@gensler.com</td>\n",
       "      <td>65</td>\n",
       "      <td>13</td>\n",
       "      <td>0</td>\n",
       "      <td>0</td>\n",
       "      <td>0</td>\n",
       "      <td>2017-05-20 00:50:51</td>\n",
       "      <td>2017-05-20 00:50:51</td>\n",
       "      <td>2017.00000</td>\n",
       "      <td>2017.00000</td>\n",
       "      <td>0.20000</td>\n",
       "      <td>0.00000</td>\n",
       "      <td>0</td>\n",
       "      <td>0</td>\n",
       "    </tr>\n",
       "    <tr>\n",
       "      <th>...</th>\n",
       "      <td>...</td>\n",
       "      <td>...</td>\n",
       "      <td>...</td>\n",
       "      <td>...</td>\n",
       "      <td>...</td>\n",
       "      <td>...</td>\n",
       "      <td>...</td>\n",
       "      <td>...</td>\n",
       "      <td>...</td>\n",
       "      <td>...</td>\n",
       "      <td>...</td>\n",
       "      <td>...</td>\n",
       "      <td>...</td>\n",
       "      <td>...</td>\n",
       "    </tr>\n",
       "    <tr>\n",
       "      <th>1455807</th>\n",
       "      <td>kobliner@optonline.net</td>\n",
       "      <td>1</td>\n",
       "      <td>1</td>\n",
       "      <td>1</td>\n",
       "      <td>0</td>\n",
       "      <td>0</td>\n",
       "      <td>2018-11-29 23:51:20</td>\n",
       "      <td>2018-11-29 23:51:20</td>\n",
       "      <td>2018.00000</td>\n",
       "      <td>2018.00000</td>\n",
       "      <td>1.00000</td>\n",
       "      <td>1.00000</td>\n",
       "      <td>0</td>\n",
       "      <td>0</td>\n",
       "    </tr>\n",
       "    <tr>\n",
       "      <th>1456178</th>\n",
       "      <td>cwilliams@bcwilliams.com</td>\n",
       "      <td>2</td>\n",
       "      <td>1</td>\n",
       "      <td>0</td>\n",
       "      <td>0</td>\n",
       "      <td>0</td>\n",
       "      <td>2018-05-09 19:57:30</td>\n",
       "      <td>2018-05-09 19:57:30</td>\n",
       "      <td>2018.00000</td>\n",
       "      <td>2018.00000</td>\n",
       "      <td>0.50000</td>\n",
       "      <td>0.00000</td>\n",
       "      <td>0</td>\n",
       "      <td>0</td>\n",
       "    </tr>\n",
       "    <tr>\n",
       "      <th>1457244</th>\n",
       "      <td>nate@denverdesks.com</td>\n",
       "      <td>2</td>\n",
       "      <td>2</td>\n",
       "      <td>0</td>\n",
       "      <td>0</td>\n",
       "      <td>0</td>\n",
       "      <td>2018-09-26 21:40:03</td>\n",
       "      <td>2018-09-26 21:40:03</td>\n",
       "      <td>2018.00000</td>\n",
       "      <td>2018.00000</td>\n",
       "      <td>1.00000</td>\n",
       "      <td>0.00000</td>\n",
       "      <td>0</td>\n",
       "      <td>0</td>\n",
       "    </tr>\n",
       "    <tr>\n",
       "      <th>1458224</th>\n",
       "      <td>olofsimren@gmail.com</td>\n",
       "      <td>2</td>\n",
       "      <td>2</td>\n",
       "      <td>0</td>\n",
       "      <td>0</td>\n",
       "      <td>0</td>\n",
       "      <td>2018-05-09 20:09:06</td>\n",
       "      <td>2018-05-09 20:09:06</td>\n",
       "      <td>2018.00000</td>\n",
       "      <td>2018.00000</td>\n",
       "      <td>1.00000</td>\n",
       "      <td>0.00000</td>\n",
       "      <td>0</td>\n",
       "      <td>0</td>\n",
       "    </tr>\n",
       "    <tr>\n",
       "      <th>1459473</th>\n",
       "      <td>michaelptoppan@comcast.net</td>\n",
       "      <td>1</td>\n",
       "      <td>1</td>\n",
       "      <td>0</td>\n",
       "      <td>0</td>\n",
       "      <td>0</td>\n",
       "      <td>2020-05-22 11:04:06</td>\n",
       "      <td>2020-05-22 11:04:06</td>\n",
       "      <td>2020.00000</td>\n",
       "      <td>2020.00000</td>\n",
       "      <td>1.00000</td>\n",
       "      <td>0.00000</td>\n",
       "      <td>0</td>\n",
       "      <td>0</td>\n",
       "    </tr>\n",
       "  </tbody>\n",
       "</table>\n",
       "<p>119382 rows × 14 columns</p>\n",
       "</div>"
      ],
      "text/plain": [
       "                               email  num_sends  num_opens  num_clicks  \\\n",
       "2               truptirami@gmail.com        425         44          16   \n",
       "5                 legregg3@gmail.com        500         83          32   \n",
       "23           lorilee.planc@gmail.com        273         22           4   \n",
       "28          mylenesalamero@yahoo.com        103         18           3   \n",
       "29       nicholas_willis@gensler.com         65         13           0   \n",
       "...                              ...        ...        ...         ...   \n",
       "1455807       kobliner@optonline.net          1          1           1   \n",
       "1456178     cwilliams@bcwilliams.com          2          1           0   \n",
       "1457244         nate@denverdesks.com          2          2           0   \n",
       "1458224         olofsimren@gmail.com          2          2           0   \n",
       "1459473   michaelptoppan@comcast.net          1          1           0   \n",
       "\n",
       "         num_unsubs  num_spams  first_engaged_date   last_engaged_date  \\\n",
       "2                 1          0 2017-12-03 14:54:29 2017-12-03 14:54:29   \n",
       "5                 0          0 2017-02-13 16:03:07 2017-02-13 16:03:07   \n",
       "23                0          0 2018-01-04 20:37:00 2018-01-04 20:37:00   \n",
       "28                0          0 2017-10-12 01:15:44 2017-10-12 01:15:44   \n",
       "29                0          0 2017-05-20 00:50:51 2017-05-20 00:50:51   \n",
       "...             ...        ...                 ...                 ...   \n",
       "1455807           0          0 2018-11-29 23:51:20 2018-11-29 23:51:20   \n",
       "1456178           0          0 2018-05-09 19:57:30 2018-05-09 19:57:30   \n",
       "1457244           0          0 2018-09-26 21:40:03 2018-09-26 21:40:03   \n",
       "1458224           0          0 2018-05-09 20:09:06 2018-05-09 20:09:06   \n",
       "1459473           0          0 2020-05-22 11:04:06 2020-05-22 11:04:06   \n",
       "\n",
       "         first_engaged_year  last_engaged_year  open_rate  click_rate  \\\n",
       "2                2017.00000         2017.00000    0.10353     0.03765   \n",
       "5                2017.00000         2017.00000    0.16600     0.06400   \n",
       "23               2018.00000         2018.00000    0.08059     0.01465   \n",
       "28               2017.00000         2017.00000    0.17476     0.02913   \n",
       "29               2017.00000         2017.00000    0.20000     0.00000   \n",
       "...                     ...                ...        ...         ...   \n",
       "1455807          2018.00000         2018.00000    1.00000     1.00000   \n",
       "1456178          2018.00000         2018.00000    0.50000     0.00000   \n",
       "1457244          2018.00000         2018.00000    1.00000     0.00000   \n",
       "1458224          2018.00000         2018.00000    1.00000     0.00000   \n",
       "1459473          2020.00000         2020.00000    1.00000     0.00000   \n",
       "\n",
       "         has_unsubbed  has_spammed  \n",
       "2                   1            0  \n",
       "5                   0            0  \n",
       "23                  0            0  \n",
       "28                  0            0  \n",
       "29                  0            0  \n",
       "...               ...          ...  \n",
       "1455807             0            0  \n",
       "1456178             0            0  \n",
       "1457244             0            0  \n",
       "1458224             0            0  \n",
       "1459473             0            0  \n",
       "\n",
       "[119382 rows x 14 columns]"
      ]
     },
     "execution_count": 156,
     "metadata": {},
     "output_type": "execute_result"
    },
    {
     "name": "stdout",
     "output_type": "stream",
     "text": [
      "time: 17.6 ms (started: 2021-04-20 13:03:44 -07:00)\n"
     ]
    }
   ],
   "source": [
    "after_six_months_engagement_open_rates"
   ]
  },
  {
   "cell_type": "code",
   "execution_count": 157,
   "metadata": {
    "scrolled": true
   },
   "outputs": [
    {
     "name": "stdout",
     "output_type": "stream",
     "text": [
      "time: 4.44 ms (started: 2021-04-20 13:03:57 -07:00)\n"
     ]
    }
   ],
   "source": [
    "after_six_months_open_rates_filtered = \\\n",
    "    after_six_months_engagement_open_rates[(after_six_months_engagement_open_rates['num_opens']<5)]"
   ]
  },
  {
   "cell_type": "code",
   "execution_count": 158,
   "metadata": {
    "scrolled": true
   },
   "outputs": [
    {
     "data": {
      "text/html": [
       "<div>\n",
       "<style scoped>\n",
       "    .dataframe tbody tr th:only-of-type {\n",
       "        vertical-align: middle;\n",
       "    }\n",
       "\n",
       "    .dataframe tbody tr th {\n",
       "        vertical-align: top;\n",
       "    }\n",
       "\n",
       "    .dataframe thead th {\n",
       "        text-align: right;\n",
       "    }\n",
       "</style>\n",
       "<table border=\"1\" class=\"dataframe\">\n",
       "  <thead>\n",
       "    <tr style=\"text-align: right;\">\n",
       "      <th></th>\n",
       "      <th>email</th>\n",
       "      <th>num_sends</th>\n",
       "      <th>num_opens</th>\n",
       "      <th>num_clicks</th>\n",
       "      <th>num_unsubs</th>\n",
       "      <th>num_spams</th>\n",
       "      <th>first_engaged_date</th>\n",
       "      <th>last_engaged_date</th>\n",
       "      <th>first_engaged_year</th>\n",
       "      <th>last_engaged_year</th>\n",
       "      <th>open_rate</th>\n",
       "      <th>click_rate</th>\n",
       "      <th>has_unsubbed</th>\n",
       "      <th>has_spammed</th>\n",
       "    </tr>\n",
       "  </thead>\n",
       "  <tbody>\n",
       "    <tr>\n",
       "      <th>72</th>\n",
       "      <td>michael.maher96@gmail.com</td>\n",
       "      <td>189</td>\n",
       "      <td>4</td>\n",
       "      <td>0</td>\n",
       "      <td>0</td>\n",
       "      <td>0</td>\n",
       "      <td>2017-08-22 21:31:54</td>\n",
       "      <td>2017-08-22 21:31:54</td>\n",
       "      <td>2017.00000</td>\n",
       "      <td>2017.00000</td>\n",
       "      <td>0.02116</td>\n",
       "      <td>0.00000</td>\n",
       "      <td>0</td>\n",
       "      <td>0</td>\n",
       "    </tr>\n",
       "    <tr>\n",
       "      <th>380</th>\n",
       "      <td>kristinleighward@aol.com</td>\n",
       "      <td>111</td>\n",
       "      <td>3</td>\n",
       "      <td>0</td>\n",
       "      <td>0</td>\n",
       "      <td>0</td>\n",
       "      <td>2017-01-02 19:15:53</td>\n",
       "      <td>2017-01-02 19:15:53</td>\n",
       "      <td>2017.00000</td>\n",
       "      <td>2017.00000</td>\n",
       "      <td>0.02703</td>\n",
       "      <td>0.00000</td>\n",
       "      <td>0</td>\n",
       "      <td>0</td>\n",
       "    </tr>\n",
       "    <tr>\n",
       "      <th>381</th>\n",
       "      <td>sunshineins@aol.com</td>\n",
       "      <td>143</td>\n",
       "      <td>2</td>\n",
       "      <td>0</td>\n",
       "      <td>0</td>\n",
       "      <td>0</td>\n",
       "      <td>2017-08-22 21:33:36</td>\n",
       "      <td>2017-08-22 21:33:36</td>\n",
       "      <td>2017.00000</td>\n",
       "      <td>2017.00000</td>\n",
       "      <td>0.01399</td>\n",
       "      <td>0.00000</td>\n",
       "      <td>0</td>\n",
       "      <td>0</td>\n",
       "    </tr>\n",
       "    <tr>\n",
       "      <th>501</th>\n",
       "      <td>rchan@shorenstein.com</td>\n",
       "      <td>6</td>\n",
       "      <td>1</td>\n",
       "      <td>4</td>\n",
       "      <td>0</td>\n",
       "      <td>0</td>\n",
       "      <td>2019-05-29 21:46:37</td>\n",
       "      <td>2019-05-29 21:46:37</td>\n",
       "      <td>2019.00000</td>\n",
       "      <td>2019.00000</td>\n",
       "      <td>0.16667</td>\n",
       "      <td>0.66667</td>\n",
       "      <td>0</td>\n",
       "      <td>0</td>\n",
       "    </tr>\n",
       "    <tr>\n",
       "      <th>716</th>\n",
       "      <td>gskram@gmail.com</td>\n",
       "      <td>63</td>\n",
       "      <td>4</td>\n",
       "      <td>0</td>\n",
       "      <td>0</td>\n",
       "      <td>0</td>\n",
       "      <td>2017-01-21 23:32:52</td>\n",
       "      <td>2017-01-21 23:32:52</td>\n",
       "      <td>2017.00000</td>\n",
       "      <td>2017.00000</td>\n",
       "      <td>0.06349</td>\n",
       "      <td>0.00000</td>\n",
       "      <td>0</td>\n",
       "      <td>0</td>\n",
       "    </tr>\n",
       "    <tr>\n",
       "      <th>...</th>\n",
       "      <td>...</td>\n",
       "      <td>...</td>\n",
       "      <td>...</td>\n",
       "      <td>...</td>\n",
       "      <td>...</td>\n",
       "      <td>...</td>\n",
       "      <td>...</td>\n",
       "      <td>...</td>\n",
       "      <td>...</td>\n",
       "      <td>...</td>\n",
       "      <td>...</td>\n",
       "      <td>...</td>\n",
       "      <td>...</td>\n",
       "      <td>...</td>\n",
       "    </tr>\n",
       "    <tr>\n",
       "      <th>1455807</th>\n",
       "      <td>kobliner@optonline.net</td>\n",
       "      <td>1</td>\n",
       "      <td>1</td>\n",
       "      <td>1</td>\n",
       "      <td>0</td>\n",
       "      <td>0</td>\n",
       "      <td>2018-11-29 23:51:20</td>\n",
       "      <td>2018-11-29 23:51:20</td>\n",
       "      <td>2018.00000</td>\n",
       "      <td>2018.00000</td>\n",
       "      <td>1.00000</td>\n",
       "      <td>1.00000</td>\n",
       "      <td>0</td>\n",
       "      <td>0</td>\n",
       "    </tr>\n",
       "    <tr>\n",
       "      <th>1456178</th>\n",
       "      <td>cwilliams@bcwilliams.com</td>\n",
       "      <td>2</td>\n",
       "      <td>1</td>\n",
       "      <td>0</td>\n",
       "      <td>0</td>\n",
       "      <td>0</td>\n",
       "      <td>2018-05-09 19:57:30</td>\n",
       "      <td>2018-05-09 19:57:30</td>\n",
       "      <td>2018.00000</td>\n",
       "      <td>2018.00000</td>\n",
       "      <td>0.50000</td>\n",
       "      <td>0.00000</td>\n",
       "      <td>0</td>\n",
       "      <td>0</td>\n",
       "    </tr>\n",
       "    <tr>\n",
       "      <th>1457244</th>\n",
       "      <td>nate@denverdesks.com</td>\n",
       "      <td>2</td>\n",
       "      <td>2</td>\n",
       "      <td>0</td>\n",
       "      <td>0</td>\n",
       "      <td>0</td>\n",
       "      <td>2018-09-26 21:40:03</td>\n",
       "      <td>2018-09-26 21:40:03</td>\n",
       "      <td>2018.00000</td>\n",
       "      <td>2018.00000</td>\n",
       "      <td>1.00000</td>\n",
       "      <td>0.00000</td>\n",
       "      <td>0</td>\n",
       "      <td>0</td>\n",
       "    </tr>\n",
       "    <tr>\n",
       "      <th>1458224</th>\n",
       "      <td>olofsimren@gmail.com</td>\n",
       "      <td>2</td>\n",
       "      <td>2</td>\n",
       "      <td>0</td>\n",
       "      <td>0</td>\n",
       "      <td>0</td>\n",
       "      <td>2018-05-09 20:09:06</td>\n",
       "      <td>2018-05-09 20:09:06</td>\n",
       "      <td>2018.00000</td>\n",
       "      <td>2018.00000</td>\n",
       "      <td>1.00000</td>\n",
       "      <td>0.00000</td>\n",
       "      <td>0</td>\n",
       "      <td>0</td>\n",
       "    </tr>\n",
       "    <tr>\n",
       "      <th>1459473</th>\n",
       "      <td>michaelptoppan@comcast.net</td>\n",
       "      <td>1</td>\n",
       "      <td>1</td>\n",
       "      <td>0</td>\n",
       "      <td>0</td>\n",
       "      <td>0</td>\n",
       "      <td>2020-05-22 11:04:06</td>\n",
       "      <td>2020-05-22 11:04:06</td>\n",
       "      <td>2020.00000</td>\n",
       "      <td>2020.00000</td>\n",
       "      <td>1.00000</td>\n",
       "      <td>0.00000</td>\n",
       "      <td>0</td>\n",
       "      <td>0</td>\n",
       "    </tr>\n",
       "  </tbody>\n",
       "</table>\n",
       "<p>30759 rows × 14 columns</p>\n",
       "</div>"
      ],
      "text/plain": [
       "                              email  num_sends  num_opens  num_clicks  \\\n",
       "72        michael.maher96@gmail.com        189          4           0   \n",
       "380        kristinleighward@aol.com        111          3           0   \n",
       "381             sunshineins@aol.com        143          2           0   \n",
       "501           rchan@shorenstein.com          6          1           4   \n",
       "716                gskram@gmail.com         63          4           0   \n",
       "...                             ...        ...        ...         ...   \n",
       "1455807      kobliner@optonline.net          1          1           1   \n",
       "1456178    cwilliams@bcwilliams.com          2          1           0   \n",
       "1457244        nate@denverdesks.com          2          2           0   \n",
       "1458224        olofsimren@gmail.com          2          2           0   \n",
       "1459473  michaelptoppan@comcast.net          1          1           0   \n",
       "\n",
       "         num_unsubs  num_spams  first_engaged_date   last_engaged_date  \\\n",
       "72                0          0 2017-08-22 21:31:54 2017-08-22 21:31:54   \n",
       "380               0          0 2017-01-02 19:15:53 2017-01-02 19:15:53   \n",
       "381               0          0 2017-08-22 21:33:36 2017-08-22 21:33:36   \n",
       "501               0          0 2019-05-29 21:46:37 2019-05-29 21:46:37   \n",
       "716               0          0 2017-01-21 23:32:52 2017-01-21 23:32:52   \n",
       "...             ...        ...                 ...                 ...   \n",
       "1455807           0          0 2018-11-29 23:51:20 2018-11-29 23:51:20   \n",
       "1456178           0          0 2018-05-09 19:57:30 2018-05-09 19:57:30   \n",
       "1457244           0          0 2018-09-26 21:40:03 2018-09-26 21:40:03   \n",
       "1458224           0          0 2018-05-09 20:09:06 2018-05-09 20:09:06   \n",
       "1459473           0          0 2020-05-22 11:04:06 2020-05-22 11:04:06   \n",
       "\n",
       "         first_engaged_year  last_engaged_year  open_rate  click_rate  \\\n",
       "72               2017.00000         2017.00000    0.02116     0.00000   \n",
       "380              2017.00000         2017.00000    0.02703     0.00000   \n",
       "381              2017.00000         2017.00000    0.01399     0.00000   \n",
       "501              2019.00000         2019.00000    0.16667     0.66667   \n",
       "716              2017.00000         2017.00000    0.06349     0.00000   \n",
       "...                     ...                ...        ...         ...   \n",
       "1455807          2018.00000         2018.00000    1.00000     1.00000   \n",
       "1456178          2018.00000         2018.00000    0.50000     0.00000   \n",
       "1457244          2018.00000         2018.00000    1.00000     0.00000   \n",
       "1458224          2018.00000         2018.00000    1.00000     0.00000   \n",
       "1459473          2020.00000         2020.00000    1.00000     0.00000   \n",
       "\n",
       "         has_unsubbed  has_spammed  \n",
       "72                  0            0  \n",
       "380                 0            0  \n",
       "381                 0            0  \n",
       "501                 0            0  \n",
       "716                 0            0  \n",
       "...               ...          ...  \n",
       "1455807             0            0  \n",
       "1456178             0            0  \n",
       "1457244             0            0  \n",
       "1458224             0            0  \n",
       "1459473             0            0  \n",
       "\n",
       "[30759 rows x 14 columns]"
      ]
     },
     "execution_count": 158,
     "metadata": {},
     "output_type": "execute_result"
    },
    {
     "name": "stdout",
     "output_type": "stream",
     "text": [
      "time: 14.4 ms (started: 2021-04-20 13:03:59 -07:00)\n"
     ]
    }
   ],
   "source": [
    "after_six_months_open_rates_filtered"
   ]
  },
  {
   "cell_type": "code",
   "execution_count": 160,
   "metadata": {},
   "outputs": [
    {
     "data": {
      "text/plain": [
       "1460161"
      ]
     },
     "execution_count": 160,
     "metadata": {},
     "output_type": "execute_result"
    },
    {
     "name": "stdout",
     "output_type": "stream",
     "text": [
      "time: 438 ms (started: 2021-04-20 13:04:07 -07:00)\n"
     ]
    }
   ],
   "source": [
    "email['email'].nunique()"
   ]
  },
  {
   "cell_type": "code",
   "execution_count": 161,
   "metadata": {},
   "outputs": [
    {
     "data": {
      "text/plain": [
       "0.10582872962506584"
      ]
     },
     "execution_count": 161,
     "metadata": {},
     "output_type": "execute_result"
    },
    {
     "name": "stdout",
     "output_type": "stream",
     "text": [
      "time: 1.72 ms (started: 2021-04-20 13:04:22 -07:00)\n"
     ]
    }
   ],
   "source": [
    "110705/1046077"
   ]
  },
  {
   "cell_type": "code",
   "execution_count": 162,
   "metadata": {},
   "outputs": [
    {
     "data": {
      "text/plain": [
       "0.07426531309096789"
      ]
     },
     "execution_count": 162,
     "metadata": {},
     "output_type": "execute_result"
    },
    {
     "name": "stdout",
     "output_type": "stream",
     "text": [
      "time: 1.54 ms (started: 2021-04-20 13:04:23 -07:00)\n"
     ]
    }
   ],
   "source": [
    "110705/1490669"
   ]
  },
  {
   "cell_type": "code",
   "execution_count": 163,
   "metadata": {},
   "outputs": [
    {
     "data": {
      "text/plain": [
       "6121"
      ]
     },
     "execution_count": 163,
     "metadata": {},
     "output_type": "execute_result"
    },
    {
     "name": "stdout",
     "output_type": "stream",
     "text": [
      "time: 108 ms (started: 2021-04-20 13:04:26 -07:00)\n"
     ]
    }
   ],
   "source": [
    "after_six_months_open_rates_filtered['email'].isin(reactivation_audience['Email_Address']).sum()"
   ]
  },
  {
   "cell_type": "markdown",
   "metadata": {},
   "source": [
    "**What happens to people who reengage afer 6 months?**"
   ]
  },
  {
   "cell_type": "code",
   "execution_count": 164,
   "metadata": {},
   "outputs": [
    {
     "data": {
      "text/plain": [
       "119382"
      ]
     },
     "execution_count": 164,
     "metadata": {},
     "output_type": "execute_result"
    },
    {
     "name": "stdout",
     "output_type": "stream",
     "text": [
      "time: 71.5 ms (started: 2021-04-20 13:04:30 -07:00)\n"
     ]
    }
   ],
   "source": [
    "after_six_months_engagement['email'].nunique()"
   ]
  },
  {
   "cell_type": "code",
   "execution_count": 165,
   "metadata": {},
   "outputs": [
    {
     "data": {
      "text/plain": [
       "564708"
      ]
     },
     "execution_count": 165,
     "metadata": {},
     "output_type": "execute_result"
    },
    {
     "name": "stdout",
     "output_type": "stream",
     "text": [
      "time: 405 ms (started: 2021-04-20 13:04:32 -07:00)\n"
     ]
    }
   ],
   "source": [
    "mapping['email'].nunique()"
   ]
  },
  {
   "cell_type": "code",
   "execution_count": 166,
   "metadata": {},
   "outputs": [
    {
     "name": "stdout",
     "output_type": "stream",
     "text": [
      "time: 240 ms (started: 2021-04-20 13:04:33 -07:00)\n"
     ]
    }
   ],
   "source": [
    "entity_ids = mapping[mapping['email'].isin(after_six_months_engagement['email'].unique())]['entity_id'].values"
   ]
  },
  {
   "cell_type": "code",
   "execution_count": 167,
   "metadata": {},
   "outputs": [
    {
     "data": {
      "text/plain": [
       "54809"
      ]
     },
     "execution_count": 167,
     "metadata": {},
     "output_type": "execute_result"
    },
    {
     "name": "stdout",
     "output_type": "stream",
     "text": [
      "time: 1.68 ms (started: 2021-04-20 13:04:33 -07:00)\n"
     ]
    }
   ],
   "source": [
    "entity_ids.shape[0]"
   ]
  },
  {
   "cell_type": "code",
   "execution_count": 168,
   "metadata": {},
   "outputs": [
    {
     "data": {
      "text/plain": [
       "pre_covid_0     17404\n",
       "pre_covid_3      8382\n",
       "pre_covid_4      5808\n",
       "pre_covid_2      5730\n",
       "pre_covid_7      2907\n",
       "pre_covid_5      2647\n",
       "post_covid_1     2232\n",
       "pre_covid_6      2152\n",
       "post_covid_2     2145\n",
       "post_covid_0     1421\n",
       "post_covid_3     1159\n",
       "pre_covid_1      1036\n",
       "post_covid_6      623\n",
       "post_covid_5      525\n",
       "post_covid_4      298\n",
       "post_covid_7       85\n",
       "Name: clusters, dtype: int64"
      ]
     },
     "execution_count": 168,
     "metadata": {},
     "output_type": "execute_result"
    },
    {
     "name": "stdout",
     "output_type": "stream",
     "text": [
      "time: 520 ms (started: 2021-04-20 13:04:34 -07:00)\n"
     ]
    }
   ],
   "source": [
    "rfm_total[rfm_total.index.isin(entity_ids)]['clusters'].value_counts()"
   ]
  },
  {
   "cell_type": "code",
   "execution_count": 169,
   "metadata": {},
   "outputs": [
    {
     "data": {
      "text/plain": [
       "pre_covid_5    0.20027\n",
       "pre_covid_7    0.17081\n",
       "pre_covid_3    0.17039\n",
       "pre_covid_2    0.13141\n",
       "pre_covid_1    0.09865\n",
       "pre_covid_0    0.09561\n",
       "pre_covid_4    0.09454\n",
       "post_covid_6   0.08114\n",
       "pre_covid_6    0.06173\n",
       "post_covid_5   0.05861\n",
       "post_covid_1   0.04791\n",
       "post_covid_2   0.04304\n",
       "post_covid_3   0.04227\n",
       "post_covid_4   0.03199\n",
       "post_covid_7   0.01589\n",
       "post_covid_0   0.01379\n",
       "Name: clusters, dtype: float64"
      ]
     },
     "execution_count": 169,
     "metadata": {},
     "output_type": "execute_result"
    },
    {
     "name": "stdout",
     "output_type": "stream",
     "text": [
      "time: 134 ms (started: 2021-04-20 13:04:34 -07:00)\n"
     ]
    }
   ],
   "source": [
    "(rfm_total[rfm_total.index.isin(entity_ids)]['clusters'].value_counts()/\\\n",
    "    rfm_total['clusters'].value_counts()).sort_values(ascending=False)"
   ]
  },
  {
   "cell_type": "code",
   "execution_count": null,
   "metadata": {},
   "outputs": [],
   "source": [
    "rfm_total[rfm_total.index.isin(entity_ids)].groupby('clusters')['num_orders'].mean()"
   ]
  },
  {
   "cell_type": "markdown",
   "metadata": {},
   "source": [
    "### Recap & Next Steps\n",
    "\n",
    "**recap**  \n",
    "- 13% of people who engaged reengaged at some point after a 6 month period of non engagement. 9% of all people.\n",
    "\n",
    "**next steps**\n",
    "- Did any of these people place an order shortly after reengaging (within a month)? What is the AOV?\n",
    "- What segments do they belong to?\n",
    "- Are any of these supposedly blacklisted?\n",
    "- Ask Dave - is there a open/click rate report somewhere per campaign?\n",
    "\n",
    "**story**\n",
    "- Your blacklist isn't even working. We found that 15% of people who have ever engaged (and 10% of people you have ever emailed) have reengaged at some point after 6 months. \n",
    "- You blacklist people because you are worried about getting spammed. Instead of blacklisting people, you should adopt better email marketing practices. \n",
    "    - Start measuring deliverability score \n",
    "    - Start measuring sender score for vendors - https://www.senderscore.org/\n",
    "    - Spread out email sends over time\n",
    "    - \n",
    "\n",
    "\n",
    "https://www.theseventhsense.com/blog/how-spam-filters-work-and-how-to-stop-emails-going-to-spam  \n",
    "https://www.mailjet.com/blog/news/sender-score-and-email-reputation/  \n",
    "https://www.smartrmail.com/blog/how-to-determine-your-stores-optimal-email-frequency/"
   ]
  },
  {
   "cell_type": "code",
   "execution_count": 179,
   "metadata": {},
   "outputs": [
    {
     "data": {
      "text/plain": [
       "0.8159537182970069"
      ]
     },
     "execution_count": 179,
     "metadata": {},
     "output_type": "execute_result"
    },
    {
     "name": "stdout",
     "output_type": "stream",
     "text": [
      "time: 1.76 ms (started: 2021-04-20 13:28:53 -07:00)\n"
     ]
    }
   ],
   "source": [
    "# Avg revenue per email\n",
    "35383021.12/43364005"
   ]
  },
  {
   "cell_type": "code",
   "execution_count": 180,
   "metadata": {},
   "outputs": [
    {
     "data": {
      "text/plain": [
       "(0.8512791703220955, 36.65614597491532)"
      ]
     },
     "execution_count": 180,
     "metadata": {},
     "output_type": "execute_result"
    },
    {
     "name": "stdout",
     "output_type": "stream",
     "text": [
      "time: 1.59 ms (started: 2021-04-20 13:29:07 -07:00)\n"
     ]
    }
   ],
   "source": [
    "#2020 for 787971 peple\n",
    "\n",
    "#revenue per email sent, avg email per person sent\n",
    "24588330.53/28883980, 28883980/787971"
   ]
  },
  {
   "cell_type": "code",
   "execution_count": null,
   "metadata": {},
   "outputs": [],
   "source": []
  }
 ],
 "metadata": {
  "kernelspec": {
   "display_name": "Python 3",
   "language": "python",
   "name": "python3"
  },
  "language_info": {
   "codemirror_mode": {
    "name": "ipython",
    "version": 3
   },
   "file_extension": ".py",
   "mimetype": "text/x-python",
   "name": "python",
   "nbconvert_exporter": "python",
   "pygments_lexer": "ipython3",
   "version": "3.8.2"
  }
 },
 "nbformat": 4,
 "nbformat_minor": 4
}
